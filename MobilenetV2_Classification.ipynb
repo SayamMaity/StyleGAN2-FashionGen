{
  "nbformat": 4,
  "nbformat_minor": 0,
  "metadata": {
    "colab": {
      "provenance": [],
      "gpuType": "T4"
    },
    "kernelspec": {
      "name": "python3",
      "display_name": "Python 3"
    },
    "language_info": {
      "name": "python"
    },
    "accelerator": "GPU"
  },
  "cells": [
    {
      "cell_type": "code",
      "execution_count": null,
      "metadata": {
        "id": "MMJBJQ6u4kfv",
        "colab": {
          "base_uri": "https://localhost:8080/"
        },
        "outputId": "f6b1c2ca-fb71-4717-acfa-de572c5ae98a"
      },
      "outputs": [
        {
          "output_type": "stream",
          "name": "stdout",
          "text": [
            "Mounted at /content/drive\n"
          ]
        }
      ],
      "source": [
        "from google.colab import drive\n",
        "drive.mount('/content/drive')"
      ]
    },
    {
      "cell_type": "code",
      "source": [
        "import os\n",
        "generated_folder=\"/content/drive/MyDrive/Images/Generated\"\n",
        "original_folder=\"/content/drive/MyDrive/Images/Original\"\n",
        "output_base = '/content/drive/MyDrive/projectImages/dataset_split'\n",
        "train_generated = os.path.join(output_base, 'train/generated')\n",
        "train_original = os.path.join(output_base, 'train/original')\n",
        "test_generated = os.path.join(output_base, 'test/generated')\n",
        "test_original = os.path.join(output_base, 'test/original')\n",
        "\n",
        "# Create output directories\n",
        "for path in [train_generated, train_original, test_generated, test_original]:\n",
        "    os.makedirs(path, exist_ok=True)"
      ],
      "metadata": {
        "id": "tIrBUJLO5Gsn"
      },
      "execution_count": null,
      "outputs": []
    },
    {
      "cell_type": "code",
      "source": [
        "# List all files\n",
        "import shutil\n",
        "from sklearn.model_selection import train_test_split\n",
        "generated_files = [f for f in os.listdir(generated_folder) if os.path.isfile(os.path.join(generated_folder, f))]\n",
        "original_files = [f for f in os.listdir(original_folder) if os.path.isfile(os.path.join(original_folder, f))]\n",
        "\n",
        "train_files, test_files = train_test_split(generated_files, test_size=0.1, random_state=42)\n",
        "trainoriginal_files, testoriginal_files = train_test_split(original_files, test_size=0.1, random_state=42)\n",
        "def copy_files(file_list, src_folder, dest_folder):\n",
        "    for file in file_list:\n",
        "        src_path = os.path.join(src_folder, file)\n",
        "        dest_path = os.path.join(dest_folder, file)\n",
        "        if os.path.exists(src_path):\n",
        "            shutil.copy(src_path, dest_path)\n",
        "        else:\n",
        "            print(f\"Warning: {file} not found in {src_folder}\")\n",
        "\n",
        "\n",
        "# Corrected copy calls\n",
        "copy_files(train_files, generated_folder, train_generated)\n",
        "copy_files(test_files, generated_folder, test_generated)\n",
        "\n",
        "copy_files(trainoriginal_files, original_folder, train_original)  # fixed\n",
        "copy_files(testoriginal_files, original_folder, test_original)    # fixed\n",
        "\n",
        "print(f\"Done! {len(train_files)} for training, {len(test_files)} for testing.\")"
      ],
      "metadata": {
        "id": "1g2eTJbJ5Gv-",
        "colab": {
          "base_uri": "https://localhost:8080/"
        },
        "outputId": "224b718b-5d04-4c37-e8b5-2b471d9f60e8"
      },
      "execution_count": null,
      "outputs": [
        {
          "output_type": "stream",
          "name": "stdout",
          "text": [
            "Done! 2044 for training, 228 for testing.\n"
          ]
        }
      ]
    },
    {
      "cell_type": "code",
      "source": [
        "import os\n",
        "\n",
        "os.makedirs('/content/drive/MyDrive/projectImages', exist_ok=True)"
      ],
      "metadata": {
        "id": "l29tqBuu3RIr"
      },
      "execution_count": null,
      "outputs": []
    },
    {
      "cell_type": "code",
      "source": [
        "!unzip -q \"/content/drive/MyDrive/dataset_split-20250613T200929Z-1-001.zip\" -d \"/content/drive/MyDrive/projectImages\""
      ],
      "metadata": {
        "id": "rQzi3gPR2QDy"
      },
      "execution_count": null,
      "outputs": []
    },
    {
      "cell_type": "code",
      "source": [
        "import os\n",
        "\n",
        "# Define the folders\n",
        "train_original_folder = \"/content/drive/MyDrive/projectImages/dataset_split/train/original\"\n",
        "train_generated_folder = \"/content/drive/MyDrive/projectImages/dataset_split/train/generated\"\n",
        "test_original_folder = \"/content/drive/MyDrive/projectImages/dataset_split/test/original\"\n",
        "test_generated_folder = \"/content/drive/MyDrive/projectImages/dataset_split/test/generated\"\n",
        "\n",
        "# Define valid image extensions\n",
        "image_extensions = ('.png', '.jpg', '.jpeg', '.bmp', '.gif')\n",
        "\n",
        "# Count images in a folder\n",
        "def count_images(folder):\n",
        "    return sum(1 for file in os.listdir(folder) if file.lower().endswith(image_extensions))\n",
        "\n",
        "# Get the counts\n",
        "train_original_count = count_images(train_original_folder)\n",
        "train_generated_count = count_images(train_generated_folder)\n",
        "test_original_count = count_images(test_original_folder)\n",
        "test_generated_count = count_images(test_generated_folder)\n",
        "\n",
        "# Print the counts\n",
        "print(f\"Train - Original: {train_original_count} | Generated: {train_generated_count}\")\n",
        "print(f\"Test  - Original: {test_original_count} | Generated: {test_generated_count}\")\n"
      ],
      "metadata": {
        "id": "TEIU_erA5GyE",
        "colab": {
          "base_uri": "https://localhost:8080/"
        },
        "outputId": "08ae9583-e336-45d5-ab7c-ea36afd2c97f"
      },
      "execution_count": null,
      "outputs": [
        {
          "output_type": "stream",
          "name": "stdout",
          "text": [
            "Train - Original: 7437 | Generated: 7460\n",
            "Test  - Original: 827 | Generated: 829\n"
          ]
        }
      ]
    },
    {
      "cell_type": "code",
      "source": [
        "import tensorflow as tf\n",
        "from tensorflow.keras.preprocessing.image import ImageDataGenerator\n",
        "from tensorflow.keras.applications import MobileNetV2\n",
        "from tensorflow.keras.applications.mobilenet_v2 import preprocess_input\n",
        "from tensorflow.keras import layers, models, optimizers, callbacks\n",
        "\n",
        "train_dir = os.path.join(output_base, 'train')\n",
        "test_dir  = os.path.join(output_base, 'test')\n",
        "IMG_SIZE = (224, 224)       # MobileNetV2 default input size is 224x224\n",
        "BATCH_SIZE = 32\n",
        "SEED = 42\n",
        "AUTOTUNE = tf.data.AUTOTUNE\n"
      ],
      "metadata": {
        "id": "OdC3SCOQ5G13"
      },
      "execution_count": null,
      "outputs": []
    },
    {
      "cell_type": "code",
      "source": [
        "train_datagen = ImageDataGenerator(\n",
        "    preprocessing_function=preprocess_input,\n",
        "    validation_split=0.1,      # reserve 10% of train for validation\n",
        "    horizontal_flip=True,\n",
        "    rotation_range=20,\n",
        "    width_shift_range=0.1,\n",
        "    height_shift_range=0.1,\n",
        "    zoom_range=0.1,\n",
        ")\n",
        "\n",
        "test_datagen = ImageDataGenerator(\n",
        "    preprocessing_function=preprocess_input\n",
        ")\n",
        "\n",
        "train_generator = train_datagen.flow_from_directory(\n",
        "    train_dir,\n",
        "    target_size=IMG_SIZE,\n",
        "    batch_size=BATCH_SIZE,\n",
        "    class_mode='binary',\n",
        "    subset='training',\n",
        "    shuffle=True,\n",
        "    seed=SEED\n",
        ")\n",
        "validation_generator = train_datagen.flow_from_directory(\n",
        "    train_dir,\n",
        "    target_size=IMG_SIZE,\n",
        "    batch_size=BATCH_SIZE,\n",
        "    class_mode='binary',\n",
        "    subset='validation',\n",
        "    shuffle=False,\n",
        "    seed=SEED\n",
        ")\n",
        "\n",
        "\n",
        "test_generator = test_datagen.flow_from_directory(\n",
        "    test_dir,\n",
        "    target_size=IMG_SIZE,\n",
        "    batch_size=BATCH_SIZE,\n",
        "    class_mode='binary',\n",
        "    shuffle=False\n",
        ")\n",
        "\n",
        "print(\"Class indices:\", train_generator.class_indices)\n"
      ],
      "metadata": {
        "id": "ZUypD_eG5G3q",
        "outputId": "1a3c7aa1-5aa2-4804-8ed6-360f01db2292",
        "colab": {
          "base_uri": "https://localhost:8080/"
        }
      },
      "execution_count": null,
      "outputs": [
        {
          "output_type": "stream",
          "name": "stdout",
          "text": [
            "Found 13408 images belonging to 2 classes.\n",
            "Found 1489 images belonging to 2 classes.\n",
            "Found 1656 images belonging to 2 classes.\n",
            "Class indices: {'generated': 0, 'original': 1}\n"
          ]
        }
      ]
    },
    {
      "cell_type": "code",
      "source": [
        "#build mobilenetv2 model\n",
        "base_model = MobileNetV2(\n",
        "    input_shape=(IMG_SIZE[0], IMG_SIZE[1], 3),\n",
        "    include_top=False,\n",
        "    weights='imagenet'\n",
        ")\n",
        "base_model.trainable = False\n",
        "# Add classification head\n",
        "inputs = layers.Input(shape=(IMG_SIZE[0], IMG_SIZE[1], 3))\n",
        "x = base_model(inputs, training=False)  # ensure batchnorm runs in inference mode\n",
        "x = layers.GlobalAveragePooling2D()(x)\n",
        "x = layers.Dropout(0.3)(x)\n",
        "x = layers.Dense(128, activation='relu')(x)\n",
        "x = layers.Dropout(0.2)(x)\n",
        "outputs = layers.Dense(1, activation='sigmoid')(x)\n",
        "model = models.Model(inputs, outputs)\n",
        "model.summary()\n"
      ],
      "metadata": {
        "id": "GCfOWQTj5G68",
        "outputId": "13feb57e-2261-448e-e1f3-28ebc5453cca",
        "colab": {
          "base_uri": "https://localhost:8080/",
          "height": 420
        }
      },
      "execution_count": null,
      "outputs": [
        {
          "output_type": "stream",
          "name": "stdout",
          "text": [
            "Downloading data from https://storage.googleapis.com/tensorflow/keras-applications/mobilenet_v2/mobilenet_v2_weights_tf_dim_ordering_tf_kernels_1.0_224_no_top.h5\n",
            "\u001b[1m9406464/9406464\u001b[0m \u001b[32m━━━━━━━━━━━━━━━━━━━━\u001b[0m\u001b[37m\u001b[0m \u001b[1m1s\u001b[0m 0us/step\n"
          ]
        },
        {
          "output_type": "display_data",
          "data": {
            "text/plain": [
              "\u001b[1mModel: \"functional\"\u001b[0m\n"
            ],
            "text/html": [
              "<pre style=\"white-space:pre;overflow-x:auto;line-height:normal;font-family:Menlo,'DejaVu Sans Mono',consolas,'Courier New',monospace\"><span style=\"font-weight: bold\">Model: \"functional\"</span>\n",
              "</pre>\n"
            ]
          },
          "metadata": {}
        },
        {
          "output_type": "display_data",
          "data": {
            "text/plain": [
              "┏━━━━━━━━━━━━━━━━━━━━━━━━━━━━━━━━━┳━━━━━━━━━━━━━━━━━━━━━━━━┳━━━━━━━━━━━━━━━┓\n",
              "┃\u001b[1m \u001b[0m\u001b[1mLayer (type)                   \u001b[0m\u001b[1m \u001b[0m┃\u001b[1m \u001b[0m\u001b[1mOutput Shape          \u001b[0m\u001b[1m \u001b[0m┃\u001b[1m \u001b[0m\u001b[1m      Param #\u001b[0m\u001b[1m \u001b[0m┃\n",
              "┡━━━━━━━━━━━━━━━━━━━━━━━━━━━━━━━━━╇━━━━━━━━━━━━━━━━━━━━━━━━╇━━━━━━━━━━━━━━━┩\n",
              "│ input_layer_1 (\u001b[38;5;33mInputLayer\u001b[0m)      │ (\u001b[38;5;45mNone\u001b[0m, \u001b[38;5;34m224\u001b[0m, \u001b[38;5;34m224\u001b[0m, \u001b[38;5;34m3\u001b[0m)    │             \u001b[38;5;34m0\u001b[0m │\n",
              "├─────────────────────────────────┼────────────────────────┼───────────────┤\n",
              "│ mobilenetv2_1.00_224            │ (\u001b[38;5;45mNone\u001b[0m, \u001b[38;5;34m7\u001b[0m, \u001b[38;5;34m7\u001b[0m, \u001b[38;5;34m1280\u001b[0m)     │     \u001b[38;5;34m2,257,984\u001b[0m │\n",
              "│ (\u001b[38;5;33mFunctional\u001b[0m)                    │                        │               │\n",
              "├─────────────────────────────────┼────────────────────────┼───────────────┤\n",
              "│ global_average_pooling2d        │ (\u001b[38;5;45mNone\u001b[0m, \u001b[38;5;34m1280\u001b[0m)           │             \u001b[38;5;34m0\u001b[0m │\n",
              "│ (\u001b[38;5;33mGlobalAveragePooling2D\u001b[0m)        │                        │               │\n",
              "├─────────────────────────────────┼────────────────────────┼───────────────┤\n",
              "│ dropout (\u001b[38;5;33mDropout\u001b[0m)               │ (\u001b[38;5;45mNone\u001b[0m, \u001b[38;5;34m1280\u001b[0m)           │             \u001b[38;5;34m0\u001b[0m │\n",
              "├─────────────────────────────────┼────────────────────────┼───────────────┤\n",
              "│ dense (\u001b[38;5;33mDense\u001b[0m)                   │ (\u001b[38;5;45mNone\u001b[0m, \u001b[38;5;34m128\u001b[0m)            │       \u001b[38;5;34m163,968\u001b[0m │\n",
              "├─────────────────────────────────┼────────────────────────┼───────────────┤\n",
              "│ dropout_1 (\u001b[38;5;33mDropout\u001b[0m)             │ (\u001b[38;5;45mNone\u001b[0m, \u001b[38;5;34m128\u001b[0m)            │             \u001b[38;5;34m0\u001b[0m │\n",
              "├─────────────────────────────────┼────────────────────────┼───────────────┤\n",
              "│ dense_1 (\u001b[38;5;33mDense\u001b[0m)                 │ (\u001b[38;5;45mNone\u001b[0m, \u001b[38;5;34m1\u001b[0m)              │           \u001b[38;5;34m129\u001b[0m │\n",
              "└─────────────────────────────────┴────────────────────────┴───────────────┘\n"
            ],
            "text/html": [
              "<pre style=\"white-space:pre;overflow-x:auto;line-height:normal;font-family:Menlo,'DejaVu Sans Mono',consolas,'Courier New',monospace\">┏━━━━━━━━━━━━━━━━━━━━━━━━━━━━━━━━━┳━━━━━━━━━━━━━━━━━━━━━━━━┳━━━━━━━━━━━━━━━┓\n",
              "┃<span style=\"font-weight: bold\"> Layer (type)                    </span>┃<span style=\"font-weight: bold\"> Output Shape           </span>┃<span style=\"font-weight: bold\">       Param # </span>┃\n",
              "┡━━━━━━━━━━━━━━━━━━━━━━━━━━━━━━━━━╇━━━━━━━━━━━━━━━━━━━━━━━━╇━━━━━━━━━━━━━━━┩\n",
              "│ input_layer_1 (<span style=\"color: #0087ff; text-decoration-color: #0087ff\">InputLayer</span>)      │ (<span style=\"color: #00d7ff; text-decoration-color: #00d7ff\">None</span>, <span style=\"color: #00af00; text-decoration-color: #00af00\">224</span>, <span style=\"color: #00af00; text-decoration-color: #00af00\">224</span>, <span style=\"color: #00af00; text-decoration-color: #00af00\">3</span>)    │             <span style=\"color: #00af00; text-decoration-color: #00af00\">0</span> │\n",
              "├─────────────────────────────────┼────────────────────────┼───────────────┤\n",
              "│ mobilenetv2_1.00_224            │ (<span style=\"color: #00d7ff; text-decoration-color: #00d7ff\">None</span>, <span style=\"color: #00af00; text-decoration-color: #00af00\">7</span>, <span style=\"color: #00af00; text-decoration-color: #00af00\">7</span>, <span style=\"color: #00af00; text-decoration-color: #00af00\">1280</span>)     │     <span style=\"color: #00af00; text-decoration-color: #00af00\">2,257,984</span> │\n",
              "│ (<span style=\"color: #0087ff; text-decoration-color: #0087ff\">Functional</span>)                    │                        │               │\n",
              "├─────────────────────────────────┼────────────────────────┼───────────────┤\n",
              "│ global_average_pooling2d        │ (<span style=\"color: #00d7ff; text-decoration-color: #00d7ff\">None</span>, <span style=\"color: #00af00; text-decoration-color: #00af00\">1280</span>)           │             <span style=\"color: #00af00; text-decoration-color: #00af00\">0</span> │\n",
              "│ (<span style=\"color: #0087ff; text-decoration-color: #0087ff\">GlobalAveragePooling2D</span>)        │                        │               │\n",
              "├─────────────────────────────────┼────────────────────────┼───────────────┤\n",
              "│ dropout (<span style=\"color: #0087ff; text-decoration-color: #0087ff\">Dropout</span>)               │ (<span style=\"color: #00d7ff; text-decoration-color: #00d7ff\">None</span>, <span style=\"color: #00af00; text-decoration-color: #00af00\">1280</span>)           │             <span style=\"color: #00af00; text-decoration-color: #00af00\">0</span> │\n",
              "├─────────────────────────────────┼────────────────────────┼───────────────┤\n",
              "│ dense (<span style=\"color: #0087ff; text-decoration-color: #0087ff\">Dense</span>)                   │ (<span style=\"color: #00d7ff; text-decoration-color: #00d7ff\">None</span>, <span style=\"color: #00af00; text-decoration-color: #00af00\">128</span>)            │       <span style=\"color: #00af00; text-decoration-color: #00af00\">163,968</span> │\n",
              "├─────────────────────────────────┼────────────────────────┼───────────────┤\n",
              "│ dropout_1 (<span style=\"color: #0087ff; text-decoration-color: #0087ff\">Dropout</span>)             │ (<span style=\"color: #00d7ff; text-decoration-color: #00d7ff\">None</span>, <span style=\"color: #00af00; text-decoration-color: #00af00\">128</span>)            │             <span style=\"color: #00af00; text-decoration-color: #00af00\">0</span> │\n",
              "├─────────────────────────────────┼────────────────────────┼───────────────┤\n",
              "│ dense_1 (<span style=\"color: #0087ff; text-decoration-color: #0087ff\">Dense</span>)                 │ (<span style=\"color: #00d7ff; text-decoration-color: #00d7ff\">None</span>, <span style=\"color: #00af00; text-decoration-color: #00af00\">1</span>)              │           <span style=\"color: #00af00; text-decoration-color: #00af00\">129</span> │\n",
              "└─────────────────────────────────┴────────────────────────┴───────────────┘\n",
              "</pre>\n"
            ]
          },
          "metadata": {}
        },
        {
          "output_type": "display_data",
          "data": {
            "text/plain": [
              "\u001b[1m Total params: \u001b[0m\u001b[38;5;34m2,422,081\u001b[0m (9.24 MB)\n"
            ],
            "text/html": [
              "<pre style=\"white-space:pre;overflow-x:auto;line-height:normal;font-family:Menlo,'DejaVu Sans Mono',consolas,'Courier New',monospace\"><span style=\"font-weight: bold\"> Total params: </span><span style=\"color: #00af00; text-decoration-color: #00af00\">2,422,081</span> (9.24 MB)\n",
              "</pre>\n"
            ]
          },
          "metadata": {}
        },
        {
          "output_type": "display_data",
          "data": {
            "text/plain": [
              "\u001b[1m Trainable params: \u001b[0m\u001b[38;5;34m164,097\u001b[0m (641.00 KB)\n"
            ],
            "text/html": [
              "<pre style=\"white-space:pre;overflow-x:auto;line-height:normal;font-family:Menlo,'DejaVu Sans Mono',consolas,'Courier New',monospace\"><span style=\"font-weight: bold\"> Trainable params: </span><span style=\"color: #00af00; text-decoration-color: #00af00\">164,097</span> (641.00 KB)\n",
              "</pre>\n"
            ]
          },
          "metadata": {}
        },
        {
          "output_type": "display_data",
          "data": {
            "text/plain": [
              "\u001b[1m Non-trainable params: \u001b[0m\u001b[38;5;34m2,257,984\u001b[0m (8.61 MB)\n"
            ],
            "text/html": [
              "<pre style=\"white-space:pre;overflow-x:auto;line-height:normal;font-family:Menlo,'DejaVu Sans Mono',consolas,'Courier New',monospace\"><span style=\"font-weight: bold\"> Non-trainable params: </span><span style=\"color: #00af00; text-decoration-color: #00af00\">2,257,984</span> (8.61 MB)\n",
              "</pre>\n"
            ]
          },
          "metadata": {}
        }
      ]
    },
    {
      "cell_type": "code",
      "source": [
        "class F1Score(tf.keras.metrics.Metric):\n",
        "    def __init__(self, name='f1_score', **kwargs):\n",
        "        super(F1Score, self).__init__(name=name, **kwargs)\n",
        "        self.precision = tf.keras.metrics.Precision()\n",
        "        self.recall = tf.keras.metrics.Recall()\n",
        "\n",
        "    def update_state(self, y_true, y_pred, sample_weight=None):\n",
        "        self.precision.update_state(y_true, y_pred, sample_weight)\n",
        "        self.recall.update_state(y_true, y_pred, sample_weight)\n",
        "\n",
        "    def result(self):\n",
        "        p = self.precision.result()\n",
        "        r = self.recall.result()\n",
        "        return 2 * ((p * r) / (p + r + tf.keras.backend.epsilon()))\n",
        "\n",
        "    def reset_states(self):\n",
        "        self.precision.reset_states()\n",
        "        self.recall.reset_states()\n",
        "\n",
        "model.compile(\n",
        "    optimizer=optimizers.Adam(learning_rate=1e-4),\n",
        "    loss='binary_crossentropy',\n",
        "    metrics=['accuracy',\n",
        "             tf.keras.metrics.Precision(name='precision'),\n",
        "             tf.keras.metrics.Recall(name='recall'),\n",
        "             tf.keras.metrics.AUC(name='auc'),\n",
        "             F1Score(name='f1_score')],\n",
        "\n",
        "    run_eagerly=True\n",
        "\n",
        ")"
      ],
      "metadata": {
        "id": "otk1TGr75G9a"
      },
      "execution_count": null,
      "outputs": []
    },
    {
      "cell_type": "code",
      "source": [
        "# 4. Callbacks\n",
        "checkpoint_path = '/content/drive/MyDrive/projectImages/mobilenet_finetune/checkpoint.h5'\n",
        "os.makedirs(os.path.dirname(checkpoint_path), exist_ok=True)\n",
        "checkpoint_cb = callbacks.ModelCheckpoint(\n",
        "    filepath=checkpoint_path,\n",
        "    monitor='val_auc',\n",
        "    mode='max',\n",
        "    save_best_only=True,\n",
        "    verbose=1\n",
        ")\n",
        "earlystop_cb = callbacks.EarlyStopping(\n",
        "    monitor='val_loss',\n",
        "    patience=5,\n",
        "    restore_best_weights=True,\n",
        "    verbose=1\n",
        ")"
      ],
      "metadata": {
        "id": "fn2FgKTD5HBF"
      },
      "execution_count": null,
      "outputs": []
    },
    {
      "cell_type": "code",
      "source": [
        "history = model.fit(\n",
        "    train_generator,\n",
        "    epochs=20,\n",
        "    steps_per_epoch=len(train_generator),\n",
        "    validation_data=validation_generator,\n",
        "    validation_steps=len(validation_generator),\n",
        "    callbacks=[checkpoint_cb, earlystop_cb]\n",
        ")\n",
        "\n",
        "\n"
      ],
      "metadata": {
        "id": "ouTlFtVS5HCq",
        "colab": {
          "base_uri": "https://localhost:8080/"
        },
        "outputId": "3d4d0ba0-4f4b-4cbc-ac96-c2c33165777f"
      },
      "execution_count": null,
      "outputs": [
        {
          "output_type": "stream",
          "name": "stderr",
          "text": [
            "/usr/local/lib/python3.11/dist-packages/keras/src/trainers/data_adapters/py_dataset_adapter.py:121: UserWarning: Your `PyDataset` class should call `super().__init__(**kwargs)` in its constructor. `**kwargs` can include `workers`, `use_multiprocessing`, `max_queue_size`. Do not pass these arguments to `fit()`, as they will be ignored.\n",
            "  self._warn_if_super_not_called()\n"
          ]
        },
        {
          "output_type": "stream",
          "name": "stdout",
          "text": [
            "Epoch 1/20\n",
            "\u001b[1m419/419\u001b[0m \u001b[32m━━━━━━━━━━━━━━━━━━━━\u001b[0m\u001b[37m\u001b[0m \u001b[1m0s\u001b[0m 1s/step - accuracy: 0.6976 - auc: 0.7645 - f1_score: 0.6951 - loss: 0.5620 - precision: 0.6963 - recall: 0.6945\n",
            "Epoch 1: val_auc improved from -inf to 0.95851, saving model to /content/drive/MyDrive/projectImages/mobilenet_finetune/checkpoint.h5\n"
          ]
        },
        {
          "output_type": "stream",
          "name": "stderr",
          "text": [
            "WARNING:absl:You are saving your model as an HDF5 file via `model.save()` or `keras.saving.save_model(model)`. This file format is considered legacy. We recommend using instead the native Keras format, e.g. `model.save('my_model.keras')` or `keras.saving.save_model(model, 'my_model.keras')`. \n"
          ]
        },
        {
          "output_type": "stream",
          "name": "stdout",
          "text": [
            "\b\b\b\b\b\b\b\b\b\b\b\b\b\b\b\b\b\b\b\b\b\b\b\b\b\b\b\b\b\b\b\b\b\b\b\b\b\b\b\b\b\b\b\b\b\b\b\b\b\b\b\b\b\b\b\b\b\b\b\b\b\b\b\b\b\b\b\b\b\b\b\b\b\b\b\b\b\b\b\b\b\b\b\b\b\b\b\b\b\b\b\b\b\b\b\b\b\b\b\b\b\b\b\b\b\b\b\b\b\b\b\b\b\b\b\b\b\b\b\b\b\b\b\b\b\b\b\b\b\b\b\b\b\b\b\b\b\b\b\b\b\b\b\r\u001b[1m419/419\u001b[0m \u001b[32m━━━━━━━━━━━━━━━━━━━━\u001b[0m\u001b[37m\u001b[0m \u001b[1m494s\u001b[0m 1s/step - accuracy: 0.6978 - auc: 0.7648 - f1_score: 0.6953 - loss: 0.5617 - precision: 0.6965 - recall: 0.6948 - val_accuracy: 0.8529 - val_auc: 0.9585 - val_f1_score: 0.8352 - val_loss: 0.3461 - val_precision: 0.9471 - val_recall: 0.7470\n",
            "Epoch 2/20\n",
            "\u001b[1m419/419\u001b[0m \u001b[32m━━━━━━━━━━━━━━━━━━━━\u001b[0m\u001b[37m\u001b[0m \u001b[1m0s\u001b[0m 922ms/step - accuracy: 0.8931 - auc: 0.9618 - f1_score: 0.8908 - loss: 0.2626 - precision: 0.8961 - recall: 0.8858\n",
            "Epoch 2: val_auc improved from 0.95851 to 0.97666, saving model to /content/drive/MyDrive/projectImages/mobilenet_finetune/checkpoint.h5\n"
          ]
        },
        {
          "output_type": "stream",
          "name": "stderr",
          "text": [
            "WARNING:absl:You are saving your model as an HDF5 file via `model.save()` or `keras.saving.save_model(model)`. This file format is considered legacy. We recommend using instead the native Keras format, e.g. `model.save('my_model.keras')` or `keras.saving.save_model(model, 'my_model.keras')`. \n"
          ]
        },
        {
          "output_type": "stream",
          "name": "stdout",
          "text": [
            "\b\b\b\b\b\b\b\b\b\b\b\b\b\b\b\b\b\b\b\b\b\b\b\b\b\b\b\b\b\b\b\b\b\b\b\b\b\b\b\b\b\b\b\b\b\b\b\b\b\b\b\b\b\b\b\b\b\b\b\b\b\b\b\b\b\b\b\b\b\b\b\b\b\b\b\b\b\b\b\b\b\b\b\b\b\b\b\b\b\b\b\b\b\b\b\b\b\b\b\b\b\b\b\b\b\b\b\b\b\b\b\b\b\b\b\b\b\b\b\b\b\b\b\b\b\b\b\b\b\b\b\b\b\b\b\b\b\b\b\b\b\b\b\b\b\b\r\u001b[1m419/419\u001b[0m \u001b[32m━━━━━━━━━━━━━━━━━━━━\u001b[0m\u001b[37m\u001b[0m \u001b[1m428s\u001b[0m 1s/step - accuracy: 0.8932 - auc: 0.9618 - f1_score: 0.8909 - loss: 0.2625 - precision: 0.8961 - recall: 0.8859 - val_accuracy: 0.9181 - val_auc: 0.9767 - val_f1_score: 0.9195 - val_loss: 0.2284 - val_precision: 0.9017 - val_recall: 0.9381\n",
            "Epoch 3/20\n",
            "\u001b[1m419/419\u001b[0m \u001b[32m━━━━━━━━━━━━━━━━━━━━\u001b[0m\u001b[37m\u001b[0m \u001b[1m0s\u001b[0m 897ms/step - accuracy: 0.9164 - auc: 0.9747 - f1_score: 0.9180 - loss: 0.2105 - precision: 0.9149 - recall: 0.9212\n",
            "Epoch 3: val_auc improved from 0.97666 to 0.98230, saving model to /content/drive/MyDrive/projectImages/mobilenet_finetune/checkpoint.h5\n"
          ]
        },
        {
          "output_type": "stream",
          "name": "stderr",
          "text": [
            "WARNING:absl:You are saving your model as an HDF5 file via `model.save()` or `keras.saving.save_model(model)`. This file format is considered legacy. We recommend using instead the native Keras format, e.g. `model.save('my_model.keras')` or `keras.saving.save_model(model, 'my_model.keras')`. \n"
          ]
        },
        {
          "output_type": "stream",
          "name": "stdout",
          "text": [
            "\b\b\b\b\b\b\b\b\b\b\b\b\b\b\b\b\b\b\b\b\b\b\b\b\b\b\b\b\b\b\b\b\b\b\b\b\b\b\b\b\b\b\b\b\b\b\b\b\b\b\b\b\b\b\b\b\b\b\b\b\b\b\b\b\b\b\b\b\b\b\b\b\b\b\b\b\b\b\b\b\b\b\b\b\b\b\b\b\b\b\b\b\b\b\b\b\b\b\b\b\b\b\b\b\b\b\b\b\b\b\b\b\b\b\b\b\b\b\b\b\b\b\b\b\b\b\b\b\b\b\b\b\b\b\b\b\b\b\b\b\b\b\b\b\b\b\r\u001b[1m419/419\u001b[0m \u001b[32m━━━━━━━━━━━━━━━━━━━━\u001b[0m\u001b[37m\u001b[0m \u001b[1m425s\u001b[0m 982ms/step - accuracy: 0.9164 - auc: 0.9747 - f1_score: 0.9180 - loss: 0.2105 - precision: 0.9149 - recall: 0.9213 - val_accuracy: 0.9255 - val_auc: 0.9823 - val_f1_score: 0.9232 - val_loss: 0.2045 - val_precision: 0.9501 - val_recall: 0.8977\n",
            "Epoch 4/20\n",
            "\u001b[1m419/419\u001b[0m \u001b[32m━━━━━━━━━━━━━━━━━━━━\u001b[0m\u001b[37m\u001b[0m \u001b[1m0s\u001b[0m 892ms/step - accuracy: 0.9286 - auc: 0.9812 - f1_score: 0.9281 - loss: 0.1808 - precision: 0.9275 - recall: 0.9288\n",
            "Epoch 4: val_auc improved from 0.98230 to 0.98698, saving model to /content/drive/MyDrive/projectImages/mobilenet_finetune/checkpoint.h5\n"
          ]
        },
        {
          "output_type": "stream",
          "name": "stderr",
          "text": [
            "WARNING:absl:You are saving your model as an HDF5 file via `model.save()` or `keras.saving.save_model(model)`. This file format is considered legacy. We recommend using instead the native Keras format, e.g. `model.save('my_model.keras')` or `keras.saving.save_model(model, 'my_model.keras')`. \n"
          ]
        },
        {
          "output_type": "stream",
          "name": "stdout",
          "text": [
            "\b\b\b\b\b\b\b\b\b\b\b\b\b\b\b\b\b\b\b\b\b\b\b\b\b\b\b\b\b\b\b\b\b\b\b\b\b\b\b\b\b\b\b\b\b\b\b\b\b\b\b\b\b\b\b\b\b\b\b\b\b\b\b\b\b\b\b\b\b\b\b\b\b\b\b\b\b\b\b\b\b\b\b\b\b\b\b\b\b\b\b\b\b\b\b\b\b\b\b\b\b\b\b\b\b\b\b\b\b\b\b\b\b\b\b\b\b\b\b\b\b\b\b\b\b\b\b\b\b\b\b\b\b\b\b\b\b\b\b\b\b\b\b\b\b\b\r\u001b[1m419/419\u001b[0m \u001b[32m━━━━━━━━━━━━━━━━━━━━\u001b[0m\u001b[37m\u001b[0m \u001b[1m446s\u001b[0m 992ms/step - accuracy: 0.9286 - auc: 0.9812 - f1_score: 0.9281 - loss: 0.1808 - precision: 0.9275 - recall: 0.9288 - val_accuracy: 0.9174 - val_auc: 0.9870 - val_f1_score: 0.9114 - val_loss: 0.2037 - val_precision: 0.9799 - val_recall: 0.8520\n",
            "Epoch 5/20\n",
            "\u001b[1m419/419\u001b[0m \u001b[32m━━━━━━━━━━━━━━━━━━━━\u001b[0m\u001b[37m\u001b[0m \u001b[1m0s\u001b[0m 902ms/step - accuracy: 0.9365 - auc: 0.9844 - f1_score: 0.9361 - loss: 0.1639 - precision: 0.9390 - recall: 0.9334\n",
            "Epoch 5: val_auc did not improve from 0.98698\n",
            "\u001b[1m419/419\u001b[0m \u001b[32m━━━━━━━━━━━━━━━━━━━━\u001b[0m\u001b[37m\u001b[0m \u001b[1m439s\u001b[0m 985ms/step - accuracy: 0.9365 - auc: 0.9844 - f1_score: 0.9361 - loss: 0.1639 - precision: 0.9390 - recall: 0.9334 - val_accuracy: 0.9315 - val_auc: 0.9856 - val_f1_score: 0.9282 - val_loss: 0.1841 - val_precision: 0.9734 - val_recall: 0.8869\n",
            "Epoch 6/20\n",
            "\u001b[1m419/419\u001b[0m \u001b[32m━━━━━━━━━━━━━━━━━━━━\u001b[0m\u001b[37m\u001b[0m \u001b[1m0s\u001b[0m 860ms/step - accuracy: 0.9381 - auc: 0.9863 - f1_score: 0.9390 - loss: 0.1540 - precision: 0.9385 - recall: 0.9394\n",
            "Epoch 6: val_auc improved from 0.98698 to 0.99013, saving model to /content/drive/MyDrive/projectImages/mobilenet_finetune/checkpoint.h5\n"
          ]
        },
        {
          "output_type": "stream",
          "name": "stderr",
          "text": [
            "WARNING:absl:You are saving your model as an HDF5 file via `model.save()` or `keras.saving.save_model(model)`. This file format is considered legacy. We recommend using instead the native Keras format, e.g. `model.save('my_model.keras')` or `keras.saving.save_model(model, 'my_model.keras')`. \n"
          ]
        },
        {
          "output_type": "stream",
          "name": "stdout",
          "text": [
            "\b\b\b\b\b\b\b\b\b\b\b\b\b\b\b\b\b\b\b\b\b\b\b\b\b\b\b\b\b\b\b\b\b\b\b\b\b\b\b\b\b\b\b\b\b\b\b\b\b\b\b\b\b\b\b\b\b\b\b\b\b\b\b\b\b\b\b\b\b\b\b\b\b\b\b\b\b\b\b\b\b\b\b\b\b\b\b\b\b\b\b\b\b\b\b\b\b\b\b\b\b\b\b\b\b\b\b\b\b\b\b\b\b\b\b\b\b\b\b\b\b\b\b\b\b\b\b\b\b\b\b\b\b\b\b\b\b\b\b\b\b\b\b\b\b\b\r\u001b[1m419/419\u001b[0m \u001b[32m━━━━━━━━━━━━━━━━━━━━\u001b[0m\u001b[37m\u001b[0m \u001b[1m424s\u001b[0m 944ms/step - accuracy: 0.9381 - auc: 0.9863 - f1_score: 0.9390 - loss: 0.1540 - precision: 0.9385 - recall: 0.9394 - val_accuracy: 0.9335 - val_auc: 0.9901 - val_f1_score: 0.9305 - val_loss: 0.1635 - val_precision: 0.9721 - val_recall: 0.8923\n",
            "Epoch 7/20\n",
            "\u001b[1m419/419\u001b[0m \u001b[32m━━━━━━━━━━━━━━━━━━━━\u001b[0m\u001b[37m\u001b[0m \u001b[1m0s\u001b[0m 854ms/step - accuracy: 0.9444 - auc: 0.9877 - f1_score: 0.9441 - loss: 0.1439 - precision: 0.9456 - recall: 0.9427\n",
            "Epoch 7: val_auc did not improve from 0.99013\n",
            "\u001b[1m419/419\u001b[0m \u001b[32m━━━━━━━━━━━━━━━━━━━━\u001b[0m\u001b[37m\u001b[0m \u001b[1m390s\u001b[0m 930ms/step - accuracy: 0.9444 - auc: 0.9877 - f1_score: 0.9441 - loss: 0.1439 - precision: 0.9456 - recall: 0.9427 - val_accuracy: 0.9167 - val_auc: 0.9865 - val_f1_score: 0.9110 - val_loss: 0.1983 - val_precision: 0.9754 - val_recall: 0.8546\n",
            "Epoch 8/20\n",
            "\u001b[1m419/419\u001b[0m \u001b[32m━━━━━━━━━━━━━━━━━━━━\u001b[0m\u001b[37m\u001b[0m \u001b[1m0s\u001b[0m 847ms/step - accuracy: 0.9503 - auc: 0.9899 - f1_score: 0.9494 - loss: 0.1305 - precision: 0.9490 - recall: 0.9499\n",
            "Epoch 8: val_auc did not improve from 0.99013\n",
            "\u001b[1m419/419\u001b[0m \u001b[32m━━━━━━━━━━━━━━━━━━━━\u001b[0m\u001b[37m\u001b[0m \u001b[1m441s\u001b[0m 926ms/step - accuracy: 0.9503 - auc: 0.9899 - f1_score: 0.9494 - loss: 0.1305 - precision: 0.9490 - recall: 0.9499 - val_accuracy: 0.9402 - val_auc: 0.9888 - val_f1_score: 0.9384 - val_loss: 0.1576 - val_precision: 0.9658 - val_recall: 0.9125\n",
            "Epoch 9/20\n",
            "\u001b[1m419/419\u001b[0m \u001b[32m━━━━━━━━━━━━━━━━━━━━\u001b[0m\u001b[37m\u001b[0m \u001b[1m0s\u001b[0m 842ms/step - accuracy: 0.9465 - auc: 0.9892 - f1_score: 0.9478 - loss: 0.1339 - precision: 0.9459 - recall: 0.9498\n",
            "Epoch 9: val_auc did not improve from 0.99013\n",
            "\u001b[1m419/419\u001b[0m \u001b[32m━━━━━━━━━━━━━━━━━━━━\u001b[0m\u001b[37m\u001b[0m \u001b[1m438s\u001b[0m 918ms/step - accuracy: 0.9465 - auc: 0.9892 - f1_score: 0.9478 - loss: 0.1339 - precision: 0.9459 - recall: 0.9498 - val_accuracy: 0.9147 - val_auc: 0.9880 - val_f1_score: 0.9080 - val_loss: 0.2006 - val_precision: 0.9828 - val_recall: 0.8439\n",
            "Epoch 10/20\n",
            "\u001b[1m419/419\u001b[0m \u001b[32m━━━━━━━━━━━━━━━━━━━━\u001b[0m\u001b[37m\u001b[0m \u001b[1m0s\u001b[0m 864ms/step - accuracy: 0.9539 - auc: 0.9909 - f1_score: 0.9530 - loss: 0.1234 - precision: 0.9578 - recall: 0.9482\n",
            "Epoch 10: val_auc did not improve from 0.99013\n",
            "\u001b[1m419/419\u001b[0m \u001b[32m━━━━━━━━━━━━━━━━━━━━\u001b[0m\u001b[37m\u001b[0m \u001b[1m455s\u001b[0m 949ms/step - accuracy: 0.9539 - auc: 0.9909 - f1_score: 0.9530 - loss: 0.1234 - precision: 0.9578 - recall: 0.9482 - val_accuracy: 0.9436 - val_auc: 0.9876 - val_f1_score: 0.9417 - val_loss: 0.1672 - val_precision: 0.9714 - val_recall: 0.9139\n",
            "Epoch 11/20\n",
            "\u001b[1m419/419\u001b[0m \u001b[32m━━━━━━━━━━━━━━━━━━━━\u001b[0m\u001b[37m\u001b[0m \u001b[1m0s\u001b[0m 904ms/step - accuracy: 0.9568 - auc: 0.9926 - f1_score: 0.9566 - loss: 0.1138 - precision: 0.9549 - recall: 0.9583\n",
            "Epoch 11: val_auc improved from 0.99013 to 0.99231, saving model to /content/drive/MyDrive/projectImages/mobilenet_finetune/checkpoint.h5\n"
          ]
        },
        {
          "output_type": "stream",
          "name": "stderr",
          "text": [
            "WARNING:absl:You are saving your model as an HDF5 file via `model.save()` or `keras.saving.save_model(model)`. This file format is considered legacy. We recommend using instead the native Keras format, e.g. `model.save('my_model.keras')` or `keras.saving.save_model(model, 'my_model.keras')`. \n"
          ]
        },
        {
          "output_type": "stream",
          "name": "stdout",
          "text": [
            "\b\b\b\b\b\b\b\b\b\b\b\b\b\b\b\b\b\b\b\b\b\b\b\b\b\b\b\b\b\b\b\b\b\b\b\b\b\b\b\b\b\b\b\b\b\b\b\b\b\b\b\b\b\b\b\b\b\b\b\b\b\b\b\b\b\b\b\b\b\b\b\b\b\b\b\b\b\b\b\b\b\b\b\b\b\b\b\b\b\b\b\b\b\b\b\b\b\b\b\b\b\b\b\b\b\b\b\b\b\b\b\b\b\b\b\b\b\b\b\b\b\b\b\b\b\b\b\b\b\b\b\b\b\b\b\b\b\b\b\b\b\b\b\b\b\b\r\u001b[1m419/419\u001b[0m \u001b[32m━━━━━━━━━━━━━━━━━━━━\u001b[0m\u001b[37m\u001b[0m \u001b[1m460s\u001b[0m 993ms/step - accuracy: 0.9568 - auc: 0.9926 - f1_score: 0.9566 - loss: 0.1138 - precision: 0.9549 - recall: 0.9583 - val_accuracy: 0.9443 - val_auc: 0.9923 - val_f1_score: 0.9422 - val_loss: 0.1419 - val_precision: 0.9755 - val_recall: 0.9112\n",
            "Epoch 12/20\n",
            "\u001b[1m419/419\u001b[0m \u001b[32m━━━━━━━━━━━━━━━━━━━━\u001b[0m\u001b[37m\u001b[0m \u001b[1m0s\u001b[0m 884ms/step - accuracy: 0.9592 - auc: 0.9937 - f1_score: 0.9591 - loss: 0.1060 - precision: 0.9597 - recall: 0.9585\n",
            "Epoch 12: val_auc improved from 0.99231 to 0.99270, saving model to /content/drive/MyDrive/projectImages/mobilenet_finetune/checkpoint.h5\n"
          ]
        },
        {
          "output_type": "stream",
          "name": "stderr",
          "text": [
            "WARNING:absl:You are saving your model as an HDF5 file via `model.save()` or `keras.saving.save_model(model)`. This file format is considered legacy. We recommend using instead the native Keras format, e.g. `model.save('my_model.keras')` or `keras.saving.save_model(model, 'my_model.keras')`. \n"
          ]
        },
        {
          "output_type": "stream",
          "name": "stdout",
          "text": [
            "\b\b\b\b\b\b\b\b\b\b\b\b\b\b\b\b\b\b\b\b\b\b\b\b\b\b\b\b\b\b\b\b\b\b\b\b\b\b\b\b\b\b\b\b\b\b\b\b\b\b\b\b\b\b\b\b\b\b\b\b\b\b\b\b\b\b\b\b\b\b\b\b\b\b\b\b\b\b\b\b\b\b\b\b\b\b\b\b\b\b\b\b\b\b\b\b\b\b\b\b\b\b\b\b\b\b\b\b\b\b\b\b\b\b\b\b\b\b\b\b\b\b\b\b\b\b\b\b\b\b\b\b\b\b\b\b\b\b\b\b\b\b\b\b\b\b\r\u001b[1m419/419\u001b[0m \u001b[32m━━━━━━━━━━━━━━━━━━━━\u001b[0m\u001b[37m\u001b[0m \u001b[1m431s\u001b[0m 966ms/step - accuracy: 0.9592 - auc: 0.9937 - f1_score: 0.9591 - loss: 0.1060 - precision: 0.9597 - recall: 0.9585 - val_accuracy: 0.9369 - val_auc: 0.9927 - val_f1_score: 0.9339 - val_loss: 0.1445 - val_precision: 0.9779 - val_recall: 0.8937\n",
            "Epoch 13/20\n",
            "\u001b[1m419/419\u001b[0m \u001b[32m━━━━━━━━━━━━━━━━━━━━\u001b[0m\u001b[37m\u001b[0m \u001b[1m0s\u001b[0m 858ms/step - accuracy: 0.9578 - auc: 0.9930 - f1_score: 0.9582 - loss: 0.1081 - precision: 0.9580 - recall: 0.9584\n",
            "Epoch 13: val_auc improved from 0.99270 to 0.99458, saving model to /content/drive/MyDrive/projectImages/mobilenet_finetune/checkpoint.h5\n"
          ]
        },
        {
          "output_type": "stream",
          "name": "stderr",
          "text": [
            "WARNING:absl:You are saving your model as an HDF5 file via `model.save()` or `keras.saving.save_model(model)`. This file format is considered legacy. We recommend using instead the native Keras format, e.g. `model.save('my_model.keras')` or `keras.saving.save_model(model, 'my_model.keras')`. \n"
          ]
        },
        {
          "output_type": "stream",
          "name": "stdout",
          "text": [
            "\b\b\b\b\b\b\b\b\b\b\b\b\b\b\b\b\b\b\b\b\b\b\b\b\b\b\b\b\b\b\b\b\b\b\b\b\b\b\b\b\b\b\b\b\b\b\b\b\b\b\b\b\b\b\b\b\b\b\b\b\b\b\b\b\b\b\b\b\b\b\b\b\b\b\b\b\b\b\b\b\b\b\b\b\b\b\b\b\b\b\b\b\b\b\b\b\b\b\b\b\b\b\b\b\b\b\b\b\b\b\b\b\b\b\b\b\b\b\b\b\b\b\b\b\b\b\b\b\b\b\b\b\b\b\b\b\b\b\b\b\b\b\b\b\b\b\r\u001b[1m419/419\u001b[0m \u001b[32m━━━━━━━━━━━━━━━━━━━━\u001b[0m\u001b[37m\u001b[0m \u001b[1m430s\u001b[0m 937ms/step - accuracy: 0.9578 - auc: 0.9930 - f1_score: 0.9582 - loss: 0.1081 - precision: 0.9580 - recall: 0.9584 - val_accuracy: 0.9469 - val_auc: 0.9946 - val_f1_score: 0.9442 - val_loss: 0.1415 - val_precision: 0.9940 - val_recall: 0.8991\n",
            "Epoch 14/20\n",
            "\u001b[1m419/419\u001b[0m \u001b[32m━━━━━━━━━━━━━━━━━━━━\u001b[0m\u001b[37m\u001b[0m \u001b[1m0s\u001b[0m 895ms/step - accuracy: 0.9623 - auc: 0.9941 - f1_score: 0.9624 - loss: 0.1020 - precision: 0.9650 - recall: 0.9599\n",
            "Epoch 14: val_auc did not improve from 0.99458\n",
            "\u001b[1m419/419\u001b[0m \u001b[32m━━━━━━━━━━━━━━━━━━━━\u001b[0m\u001b[37m\u001b[0m \u001b[1m459s\u001b[0m 980ms/step - accuracy: 0.9623 - auc: 0.9941 - f1_score: 0.9624 - loss: 0.1020 - precision: 0.9650 - recall: 0.9599 - val_accuracy: 0.9382 - val_auc: 0.9923 - val_f1_score: 0.9356 - val_loss: 0.1462 - val_precision: 0.9752 - val_recall: 0.8991\n",
            "Epoch 15/20\n",
            "\u001b[1m419/419\u001b[0m \u001b[32m━━━━━━━━━━━━━━━━━━━━\u001b[0m\u001b[37m\u001b[0m \u001b[1m0s\u001b[0m 891ms/step - accuracy: 0.9646 - auc: 0.9947 - f1_score: 0.9649 - loss: 0.0964 - precision: 0.9627 - recall: 0.9670\n",
            "Epoch 15: val_auc did not improve from 0.99458\n",
            "\u001b[1m419/419\u001b[0m \u001b[32m━━━━━━━━━━━━━━━━━━━━\u001b[0m\u001b[37m\u001b[0m \u001b[1m408s\u001b[0m 974ms/step - accuracy: 0.9646 - auc: 0.9947 - f1_score: 0.9649 - loss: 0.0964 - precision: 0.9627 - recall: 0.9670 - val_accuracy: 0.9523 - val_auc: 0.9934 - val_f1_score: 0.9511 - val_loss: 0.1250 - val_precision: 0.9732 - val_recall: 0.9300\n",
            "Epoch 16/20\n",
            "\u001b[1m419/419\u001b[0m \u001b[32m━━━━━━━━━━━━━━━━━━━━\u001b[0m\u001b[37m\u001b[0m \u001b[1m0s\u001b[0m 881ms/step - accuracy: 0.9623 - auc: 0.9943 - f1_score: 0.9623 - loss: 0.0993 - precision: 0.9637 - recall: 0.9609\n",
            "Epoch 16: val_auc improved from 0.99458 to 0.99472, saving model to /content/drive/MyDrive/projectImages/mobilenet_finetune/checkpoint.h5\n"
          ]
        },
        {
          "output_type": "stream",
          "name": "stderr",
          "text": [
            "WARNING:absl:You are saving your model as an HDF5 file via `model.save()` or `keras.saving.save_model(model)`. This file format is considered legacy. We recommend using instead the native Keras format, e.g. `model.save('my_model.keras')` or `keras.saving.save_model(model, 'my_model.keras')`. \n"
          ]
        },
        {
          "output_type": "stream",
          "name": "stdout",
          "text": [
            "\b\b\b\b\b\b\b\b\b\b\b\b\b\b\b\b\b\b\b\b\b\b\b\b\b\b\b\b\b\b\b\b\b\b\b\b\b\b\b\b\b\b\b\b\b\b\b\b\b\b\b\b\b\b\b\b\b\b\b\b\b\b\b\b\b\b\b\b\b\b\b\b\b\b\b\b\b\b\b\b\b\b\b\b\b\b\b\b\b\b\b\b\b\b\b\b\b\b\b\b\b\b\b\b\b\b\b\b\b\b\b\b\b\b\b\b\b\b\b\b\b\b\b\b\b\b\b\b\b\b\b\b\b\b\b\b\b\b\b\b\b\b\b\b\b\b\r\u001b[1m419/419\u001b[0m \u001b[32m━━━━━━━━━━━━━━━━━━━━\u001b[0m\u001b[37m\u001b[0m \u001b[1m411s\u001b[0m 981ms/step - accuracy: 0.9623 - auc: 0.9943 - f1_score: 0.9623 - loss: 0.0993 - precision: 0.9637 - recall: 0.9609 - val_accuracy: 0.9510 - val_auc: 0.9947 - val_f1_score: 0.9493 - val_loss: 0.1217 - val_precision: 0.9799 - val_recall: 0.9206\n",
            "Epoch 17/20\n",
            "\u001b[1m419/419\u001b[0m \u001b[32m━━━━━━━━━━━━━━━━━━━━\u001b[0m\u001b[37m\u001b[0m \u001b[1m0s\u001b[0m 879ms/step - accuracy: 0.9663 - auc: 0.9950 - f1_score: 0.9663 - loss: 0.0925 - precision: 0.9660 - recall: 0.9666\n",
            "Epoch 17: val_auc did not improve from 0.99472\n",
            "\u001b[1m419/419\u001b[0m \u001b[32m━━━━━━━━━━━━━━━━━━━━\u001b[0m\u001b[37m\u001b[0m \u001b[1m400s\u001b[0m 955ms/step - accuracy: 0.9663 - auc: 0.9950 - f1_score: 0.9663 - loss: 0.0925 - precision: 0.9660 - recall: 0.9666 - val_accuracy: 0.9375 - val_auc: 0.9934 - val_f1_score: 0.9346 - val_loss: 0.1407 - val_precision: 0.9794 - val_recall: 0.8937\n",
            "Epoch 18/20\n",
            "\u001b[1m419/419\u001b[0m \u001b[32m━━━━━━━━━━━━━━━━━━━━\u001b[0m\u001b[37m\u001b[0m \u001b[1m0s\u001b[0m 852ms/step - accuracy: 0.9621 - auc: 0.9944 - f1_score: 0.9616 - loss: 0.0967 - precision: 0.9649 - recall: 0.9583\n",
            "Epoch 18: val_auc did not improve from 0.99472\n",
            "\u001b[1m419/419\u001b[0m \u001b[32m━━━━━━━━━━━━━━━━━━━━\u001b[0m\u001b[37m\u001b[0m \u001b[1m434s\u001b[0m 935ms/step - accuracy: 0.9621 - auc: 0.9944 - f1_score: 0.9616 - loss: 0.0966 - precision: 0.9649 - recall: 0.9583 - val_accuracy: 0.9469 - val_auc: 0.9939 - val_f1_score: 0.9446 - val_loss: 0.1340 - val_precision: 0.9854 - val_recall: 0.9071\n",
            "Epoch 19/20\n",
            "\u001b[1m419/419\u001b[0m \u001b[32m━━━━━━━━━━━━━━━━━━━━\u001b[0m\u001b[37m\u001b[0m \u001b[1m0s\u001b[0m 858ms/step - accuracy: 0.9690 - auc: 0.9953 - f1_score: 0.9690 - loss: 0.0875 - precision: 0.9701 - recall: 0.9679\n",
            "Epoch 19: val_auc improved from 0.99472 to 0.99497, saving model to /content/drive/MyDrive/projectImages/mobilenet_finetune/checkpoint.h5\n"
          ]
        },
        {
          "output_type": "stream",
          "name": "stderr",
          "text": [
            "WARNING:absl:You are saving your model as an HDF5 file via `model.save()` or `keras.saving.save_model(model)`. This file format is considered legacy. We recommend using instead the native Keras format, e.g. `model.save('my_model.keras')` or `keras.saving.save_model(model, 'my_model.keras')`. \n"
          ]
        },
        {
          "output_type": "stream",
          "name": "stdout",
          "text": [
            "\b\b\b\b\b\b\b\b\b\b\b\b\b\b\b\b\b\b\b\b\b\b\b\b\b\b\b\b\b\b\b\b\b\b\b\b\b\b\b\b\b\b\b\b\b\b\b\b\b\b\b\b\b\b\b\b\b\b\b\b\b\b\b\b\b\b\b\b\b\b\b\b\b\b\b\b\b\b\b\b\b\b\b\b\b\b\b\b\b\b\b\b\b\b\b\b\b\b\b\b\b\b\b\b\b\b\b\b\b\b\b\b\b\b\b\b\b\b\b\b\b\b\b\b\b\b\b\b\b\b\b\b\b\b\b\b\b\b\b\b\b\b\b\b\b\b\r\u001b[1m419/419\u001b[0m \u001b[32m━━━━━━━━━━━━━━━━━━━━\u001b[0m\u001b[37m\u001b[0m \u001b[1m451s\u001b[0m 958ms/step - accuracy: 0.9690 - auc: 0.9953 - f1_score: 0.9690 - loss: 0.0875 - precision: 0.9701 - recall: 0.9679 - val_accuracy: 0.9563 - val_auc: 0.9950 - val_f1_score: 0.9548 - val_loss: 0.1171 - val_precision: 0.9871 - val_recall: 0.9246\n",
            "Epoch 20/20\n",
            "\u001b[1m419/419\u001b[0m \u001b[32m━━━━━━━━━━━━━━━━━━━━\u001b[0m\u001b[37m\u001b[0m \u001b[1m0s\u001b[0m 881ms/step - accuracy: 0.9717 - auc: 0.9961 - f1_score: 0.9714 - loss: 0.0814 - precision: 0.9713 - recall: 0.9715\n",
            "Epoch 20: val_auc did not improve from 0.99497\n",
            "\u001b[1m419/419\u001b[0m \u001b[32m━━━━━━━━━━━━━━━━━━━━\u001b[0m\u001b[37m\u001b[0m \u001b[1m443s\u001b[0m 960ms/step - accuracy: 0.9717 - auc: 0.9961 - f1_score: 0.9714 - loss: 0.0814 - precision: 0.9713 - recall: 0.9715 - val_accuracy: 0.9436 - val_auc: 0.9948 - val_f1_score: 0.9405 - val_loss: 0.1376 - val_precision: 0.9925 - val_recall: 0.8937\n",
            "Restoring model weights from the end of the best epoch: 19.\n"
          ]
        }
      ]
    },
    {
      "cell_type": "code",
      "source": [
        "results = model.evaluate(\n",
        "    test_generator,\n",
        "    steps=len(test_generator),\n",
        "    verbose=1\n",
        ")\n",
        "\n",
        "# See in what order they come back:\n",
        "print(model.metrics_names)\n",
        "# e.g. ['loss', 'accuracy', 'precision', 'recall', 'auc', 'f1_score']\n",
        "\n",
        "loss, accuracy, precision, recall, auc, f1_score = results\n",
        "\n",
        "print(f\"Test → loss: {loss:.4f}\")\n",
        "print(f\"       accuracy: {accuracy:.3f}\")\n",
        "print(f\"       precision: {precision:.3f}\")\n",
        "print(f\"       recall: {recall:.3f}\")\n",
        "print(f\"       AUC: {auc:.3f}\")\n",
        "print(f\"       F1‑score: {f1_score:.3f}\")\n"
      ],
      "metadata": {
        "id": "nWhPBkmf5HGn",
        "colab": {
          "base_uri": "https://localhost:8080/"
        },
        "outputId": "dcbd7aae-af5b-440c-fe67-7ba9e077f57e"
      },
      "execution_count": null,
      "outputs": [
        {
          "output_type": "stream",
          "name": "stdout",
          "text": [
            "\u001b[1m52/52\u001b[0m \u001b[32m━━━━━━━━━━━━━━━━━━━━\u001b[0m\u001b[37m\u001b[0m \u001b[1m19s\u001b[0m 357ms/step - accuracy: 0.9961 - auc: 0.5282 - f1_score: 0.5188 - loss: 0.0241 - precision: 0.5213 - recall: 0.5172\n",
            "['loss', 'compile_metrics']\n",
            "Test → loss: 0.0216\n",
            "       accuracy: 0.996\n",
            "       precision: 0.999\n",
            "       recall: 0.994\n",
            "       AUC: 1.000\n",
            "       F1‑score: 0.996\n"
          ]
        }
      ]
    },
    {
      "cell_type": "code",
      "source": [
        "import numpy as np\n",
        "from sklearn.metrics import classification_report, confusion_matrix\n",
        "\n",
        "# 1) Predict probabilities or logits\n",
        "y_prob = model.predict(test_generator, steps=len(test_generator))\n",
        "# 2) Convert to binary labels (threshold=0.5 by default)\n",
        "y_pred = (y_prob > 0.5).astype(int).flatten()\n",
        "\n",
        "# 3) True labels\n",
        "y_true = test_generator.classes  # assuming ImageDataGenerator.flow_from_directory\n",
        "\n",
        "# 4) Classification report & confusion matrix\n",
        "print(classification_report(y_true, y_pred, target_names=test_generator.class_indices.keys()))\n",
        "cm = confusion_matrix(y_true, y_pred)\n",
        "print(\"Confusion Matrix:\\n\", cm)\n"
      ],
      "metadata": {
        "colab": {
          "base_uri": "https://localhost:8080/"
        },
        "id": "MaHWmQATlJAP",
        "outputId": "c62f0da2-86e0-4758-e3ce-3c22da5f4a2a"
      },
      "execution_count": null,
      "outputs": [
        {
          "output_type": "stream",
          "name": "stdout",
          "text": [
            "\u001b[1m52/52\u001b[0m \u001b[32m━━━━━━━━━━━━━━━━━━━━\u001b[0m\u001b[37m\u001b[0m \u001b[1m15s\u001b[0m 287ms/step\n",
            "              precision    recall  f1-score   support\n",
            "\n",
            "   generated       0.99      1.00      1.00       829\n",
            "    original       1.00      0.99      1.00       827\n",
            "\n",
            "    accuracy                           1.00      1656\n",
            "   macro avg       1.00      1.00      1.00      1656\n",
            "weighted avg       1.00      1.00      1.00      1656\n",
            "\n",
            "Confusion Matrix:\n",
            " [[828   1]\n",
            " [  5 822]]\n"
          ]
        }
      ]
    },
    {
      "cell_type": "code",
      "source": [
        "from sklearn.metrics import roc_curve, auc\n",
        "import matplotlib.pyplot as plt\n",
        "\n",
        "y_prob = model.predict(test_generator, steps=len(test_generator)).ravel()\n",
        "fpr, tpr, thresholds = roc_curve(y_true, y_prob)\n",
        "roc_auc = auc(fpr, tpr)\n",
        "\n",
        "plt.figure()\n",
        "plt.plot(fpr, tpr, label=f'ROC (area = {roc_auc:.2f})')\n",
        "plt.plot([0,1],[0,1],'--')\n",
        "plt.xlabel('False Positive Rate')\n",
        "plt.ylabel('True Positive Rate')\n",
        "plt.title('Receiver Operating Characteristic')\n",
        "plt.legend(loc='lower right')\n",
        "plt.show()\n"
      ],
      "metadata": {
        "colab": {
          "base_uri": "https://localhost:8080/",
          "height": 489
        },
        "id": "QkdMiN6-rhE4",
        "outputId": "7b4918f4-a69f-4e99-8f0f-88371275d0c8"
      },
      "execution_count": null,
      "outputs": [
        {
          "output_type": "stream",
          "name": "stdout",
          "text": [
            "\u001b[1m52/52\u001b[0m \u001b[32m━━━━━━━━━━━━━━━━━━━━\u001b[0m\u001b[37m\u001b[0m \u001b[1m16s\u001b[0m 300ms/step\n"
          ]
        },
        {
          "output_type": "display_data",
          "data": {
            "text/plain": [
              "<Figure size 640x480 with 1 Axes>"
            ],
            "image/png": "[encoded data removed]"
          },
          "metadata": {}
        }
      ]
    },
    {
      "cell_type": "code",
      "source": [],
      "metadata": {
        "id": "gLrVkEIgrnof"
      },
      "execution_count": null,
      "outputs": []
    }
  ]
}