{
  "nbformat": 4,
  "nbformat_minor": 0,
  "metadata": {
    "colab": {
      "provenance": [],
      "gpuType": "T4"
    },
    "kernelspec": {
      "name": "python3",
      "display_name": "Python 3"
    },
    "language_info": {
      "name": "python"
    },
    "accelerator": "GPU"
  },
  "cells": [
    {
      "cell_type": "code",
      "execution_count": null,
      "metadata": {
        "colab": {
          "base_uri": "https://localhost:8080/"
        },
        "id": "mX62HGioMGZQ",
        "outputId": "feea6211-e3cd-40c0-a97d-1e07211fa31e"
      },
      "outputs": [
        {
          "output_type": "stream",
          "name": "stdout",
          "text": [
            "Mounted at /content/drive\n"
          ]
        }
      ],
      "source": [
        "from google.colab import drive\n",
        "drive.mount('/content/drive')"
      ]
    },
    {
      "cell_type": "code",
      "source": [
        "!unzip -q \"/content/drive/MyDrive/Original/projectImages-20250614T025212Z-1-001.zip\" -d \"/content/drive/MyDrive/Filtered Fashion images\""
      ],
      "metadata": {
        "id": "sixuYQOHCwYF"
      },
      "execution_count": null,
      "outputs": []
    },
    {
      "cell_type": "code",
      "source": [
        "import os\n",
        "generated_folder=\"/content/drive/MyDrive/Images/Generated\"\n",
        "original_folder=\"/content/drive/MyDrive/Images/Original\"\n",
        "output_base = '/content/drive/MyDrive/Filtered Fashion images/projectImages/dataset_split'\n",
        "train_generated = os.path.join(output_base, 'train/generated')\n",
        "train_original = os.path.join(output_base, 'train/original')\n",
        "test_generated = os.path.join(output_base, 'test/generated')\n",
        "test_original = os.path.join(output_base, 'test/original')\n",
        "\n",
        "# Create output directories\n",
        "for path in [train_generated, train_original, test_generated, test_original]:\n",
        "    os.makedirs(path, exist_ok=True)"
      ],
      "metadata": {
        "id": "xbK_h5DkMQZY"
      },
      "execution_count": null,
      "outputs": []
    },
    {
      "cell_type": "code",
      "source": [
        "# # List all files\n",
        "# import shutil\n",
        "# from sklearn.model_selection import train_test_split\n",
        "# generated_files = [f for f in os.listdir(generated_folder) if os.path.isfile(os.path.join(generated_folder, f))]\n",
        "# original_files = [f for f in os.listdir(original_folder) if os.path.isfile(os.path.join(original_folder, f))]\n",
        "\n",
        "# train_files, test_files = train_test_split(generated_files, test_size=0.1, random_state=42)\n",
        "# trainoriginal_files, testoriginal_files = train_test_split(original_files, test_size=0.1, random_state=42)\n",
        "# def copy_files(file_list, src_folder, dest_folder):\n",
        "#     for file in file_list:\n",
        "#         src_path = os.path.join(src_folder, file)\n",
        "#         dest_path = os.path.join(dest_folder, file)\n",
        "#         if os.path.exists(src_path):\n",
        "#             shutil.copy(src_path, dest_path)\n",
        "#         else:\n",
        "#             print(f\"Warning: {file} not found in {src_folder}\")\n",
        "\n",
        "\n",
        "# # Corrected copy calls\n",
        "# copy_files(train_files, generated_folder, train_generated)\n",
        "# copy_files(test_files, generated_folder, test_generated)\n",
        "\n",
        "# copy_files(trainoriginal_files, original_folder, train_original)  # fixed\n",
        "# copy_files(testoriginal_files, original_folder, test_original)    # fixed\n",
        "\n",
        "# print(f\"Done! {len(train_files)} for training, {len(test_files)} for testing.\")"
      ],
      "metadata": {
        "colab": {
          "base_uri": "https://localhost:8080/"
        },
        "id": "x7aZZhzZMr1I",
        "outputId": "1cbd2cac-5be6-4d94-f5e7-2352791c7b99"
      },
      "execution_count": null,
      "outputs": [
        {
          "output_type": "stream",
          "name": "stdout",
          "text": [
            "Done! 864 for training, 97 for testing.\n"
          ]
        }
      ]
    },
    {
      "cell_type": "code",
      "source": [
        "import os\n",
        "\n",
        "# Define the folders\n",
        "train_original_folder = \"/content/drive/MyDrive/Filtered Fashion images/projectImages/dataset_split/train/original\"\n",
        "train_generated_folder = \"/content/drive/MyDrive/Filtered Fashion images/projectImages/dataset_split/train/generated\"\n",
        "test_original_folder = \"/content/drive/MyDrive/Filtered Fashion images/projectImages/dataset_split/test/original\"\n",
        "test_generated_folder = \"/content/drive/MyDrive/Filtered Fashion images/projectImages/dataset_split/test/generated\"\n",
        "\n",
        "# Define valid image extensions\n",
        "image_extensions = ('.png', '.jpg', '.jpeg', '.bmp', '.gif')\n",
        "\n",
        "# Count images in a folder\n",
        "def count_images(folder):\n",
        "    return sum(1 for file in os.listdir(folder) if file.lower().endswith(image_extensions))\n",
        "\n",
        "# Get the counts\n",
        "train_original_count = count_images(train_original_folder)\n",
        "train_generated_count = count_images(train_generated_folder)\n",
        "test_original_count = count_images(test_original_folder)\n",
        "test_generated_count = count_images(test_generated_folder)\n",
        "\n",
        "# Print the counts\n",
        "print(f\"Train - Original: {train_original_count} | Generated: {train_generated_count}\")\n",
        "print(f\"Test  - Original: {test_original_count} | Generated: {test_generated_count}\")\n"
      ],
      "metadata": {
        "colab": {
          "base_uri": "https://localhost:8080/"
        },
        "id": "8650Bna3Mu3X",
        "outputId": "5ea5b55c-ab4e-4b5b-a7bb-9b97edc4f008"
      },
      "execution_count": null,
      "outputs": [
        {
          "output_type": "stream",
          "name": "stdout",
          "text": [
            "Train - Original: 7437 | Generated: 7460\n",
            "Test  - Original: 827 | Generated: 829\n"
          ]
        }
      ]
    },
    {
      "cell_type": "code",
      "source": [
        "import tensorflow as tf\n",
        "from tensorflow.keras.preprocessing.image import ImageDataGenerator\n",
        "from tensorflow.keras.applications import ResNet50\n",
        "from tensorflow.keras.applications.resnet50 import preprocess_input\n",
        "from tensorflow.keras import layers, models, optimizers, callbacks\n",
        "\n",
        "train_dir = os.path.join(output_base, 'train')\n",
        "test_dir  = os.path.join(output_base, 'test')\n",
        "IMG_SIZE = (224, 224)       # ResNet50 default input size is 224x224\n",
        "BATCH_SIZE = 32\n",
        "SEED = 42\n"
      ],
      "metadata": {
        "id": "XpIVb1O0O7BJ"
      },
      "execution_count": null,
      "outputs": []
    },
    {
      "cell_type": "code",
      "source": [
        "train_datagen = ImageDataGenerator(\n",
        "    preprocessing_function=preprocess_input,\n",
        "    validation_split=0.1,      # reserve 10% of train for validation\n",
        "    horizontal_flip=True,\n",
        "    rotation_range=20,\n",
        "    width_shift_range=0.1,\n",
        "    height_shift_range=0.1,\n",
        "    zoom_range=0.1,\n",
        ")\n",
        "\n",
        "test_datagen = ImageDataGenerator(\n",
        "    preprocessing_function=preprocess_input\n",
        ")\n",
        "\n",
        "train_generator = train_datagen.flow_from_directory(\n",
        "    train_dir,\n",
        "    target_size=IMG_SIZE,\n",
        "    batch_size=BATCH_SIZE,\n",
        "    class_mode='binary',\n",
        "    subset='training',\n",
        "    shuffle=True,\n",
        "    seed=SEED\n",
        ")\n",
        "validation_generator = train_datagen.flow_from_directory(\n",
        "    train_dir,\n",
        "    target_size=IMG_SIZE,\n",
        "    batch_size=BATCH_SIZE,\n",
        "    class_mode='binary',\n",
        "    subset='validation',\n",
        "    shuffle=False,\n",
        "    seed=SEED\n",
        ")\n",
        "\n",
        "\n",
        "test_generator = test_datagen.flow_from_directory(\n",
        "    test_dir,\n",
        "    target_size=IMG_SIZE,\n",
        "    batch_size=BATCH_SIZE,\n",
        "    class_mode='binary',\n",
        "    shuffle=False\n",
        ")\n",
        "\n",
        "print(\"Class indices:\", train_generator.class_indices)\n"
      ],
      "metadata": {
        "colab": {
          "base_uri": "https://localhost:8080/"
        },
        "id": "jHXSgQ5mTaKJ",
        "outputId": "ed3be65b-d59e-4f8a-aa5b-8a2d8a4a1d41"
      },
      "execution_count": null,
      "outputs": [
        {
          "output_type": "stream",
          "name": "stdout",
          "text": [
            "Found 13408 images belonging to 2 classes.\n",
            "Found 1489 images belonging to 2 classes.\n",
            "Found 1656 images belonging to 2 classes.\n",
            "Class indices: {'generated': 0, 'original': 1}\n"
          ]
        }
      ]
    },
    {
      "cell_type": "code",
      "source": [
        "#build resnet50 model\n",
        "base_model = ResNet50(\n",
        "    input_shape=(IMG_SIZE[0], IMG_SIZE[1], 3),\n",
        "    include_top=False,\n",
        "    weights='imagenet'\n",
        ")\n",
        "base_model.trainable = False\n",
        "# Add classification head\n",
        "inputs = layers.Input(shape=(IMG_SIZE[0], IMG_SIZE[1], 3))\n",
        "x = base_model(inputs, training=False)  # ensure batchnorm runs in inference mode\n",
        "x = layers.GlobalAveragePooling2D()(x)\n",
        "x = layers.Dropout(0.4)(x)\n",
        "x = layers.Dense(128, activation='relu')(x)\n",
        "x = layers.Dropout(0.3)(x)\n",
        "outputs = layers.Dense(1, activation='sigmoid')(x)\n",
        "model = models.Model(inputs, outputs)\n",
        "model.summary()\n"
      ],
      "metadata": {
        "colab": {
          "base_uri": "https://localhost:8080/",
          "height": 404
        },
        "id": "WxgWH6DYTtT4",
        "outputId": "37106ffe-4e65-40ad-81c3-d2cbbb793c77"
      },
      "execution_count": null,
      "outputs": [
        {
          "output_type": "stream",
          "name": "stdout",
          "text": [
            "Downloading data from https://storage.googleapis.com/tensorflow/keras-applications/resnet/resnet50_weights_tf_dim_ordering_tf_kernels_notop.h5\n",
            "\u001b[1m94765736/94765736\u001b[0m \u001b[32m━━━━━━━━━━━━━━━━━━━━\u001b[0m\u001b[37m\u001b[0m \u001b[1m5s\u001b[0m 0us/step\n"
          ]
        },
        {
          "output_type": "display_data",
          "data": {
            "text/plain": [
              "\u001b[1mModel: \"functional\"\u001b[0m\n"
            ],
            "text/html": [
              "<pre style=\"white-space:pre;overflow-x:auto;line-height:normal;font-family:Menlo,'DejaVu Sans Mono',consolas,'Courier New',monospace\"><span style=\"font-weight: bold\">Model: \"functional\"</span>\n",
              "</pre>\n"
            ]
          },
          "metadata": {}
        },
        {
          "output_type": "display_data",
          "data": {
            "text/plain": [
              "┏━━━━━━━━━━━━━━━━━━━━━━━━━━━━━━━━━┳━━━━━━━━━━━━━━━━━━━━━━━━┳━━━━━━━━━━━━━━━┓\n",
              "┃\u001b[1m \u001b[0m\u001b[1mLayer (type)                   \u001b[0m\u001b[1m \u001b[0m┃\u001b[1m \u001b[0m\u001b[1mOutput Shape          \u001b[0m\u001b[1m \u001b[0m┃\u001b[1m \u001b[0m\u001b[1m      Param #\u001b[0m\u001b[1m \u001b[0m┃\n",
              "┡━━━━━━━━━━━━━━━━━━━━━━━━━━━━━━━━━╇━━━━━━━━━━━━━━━━━━━━━━━━╇━━━━━━━━━━━━━━━┩\n",
              "│ input_layer_1 (\u001b[38;5;33mInputLayer\u001b[0m)      │ (\u001b[38;5;45mNone\u001b[0m, \u001b[38;5;34m224\u001b[0m, \u001b[38;5;34m224\u001b[0m, \u001b[38;5;34m3\u001b[0m)    │             \u001b[38;5;34m0\u001b[0m │\n",
              "├─────────────────────────────────┼────────────────────────┼───────────────┤\n",
              "│ resnet50 (\u001b[38;5;33mFunctional\u001b[0m)           │ (\u001b[38;5;45mNone\u001b[0m, \u001b[38;5;34m7\u001b[0m, \u001b[38;5;34m7\u001b[0m, \u001b[38;5;34m2048\u001b[0m)     │    \u001b[38;5;34m23,587,712\u001b[0m │\n",
              "├─────────────────────────────────┼────────────────────────┼───────────────┤\n",
              "│ global_average_pooling2d        │ (\u001b[38;5;45mNone\u001b[0m, \u001b[38;5;34m2048\u001b[0m)           │             \u001b[38;5;34m0\u001b[0m │\n",
              "│ (\u001b[38;5;33mGlobalAveragePooling2D\u001b[0m)        │                        │               │\n",
              "├─────────────────────────────────┼────────────────────────┼───────────────┤\n",
              "│ dropout (\u001b[38;5;33mDropout\u001b[0m)               │ (\u001b[38;5;45mNone\u001b[0m, \u001b[38;5;34m2048\u001b[0m)           │             \u001b[38;5;34m0\u001b[0m │\n",
              "├─────────────────────────────────┼────────────────────────┼───────────────┤\n",
              "│ dense (\u001b[38;5;33mDense\u001b[0m)                   │ (\u001b[38;5;45mNone\u001b[0m, \u001b[38;5;34m128\u001b[0m)            │       \u001b[38;5;34m262,272\u001b[0m │\n",
              "├─────────────────────────────────┼────────────────────────┼───────────────┤\n",
              "│ dropout_1 (\u001b[38;5;33mDropout\u001b[0m)             │ (\u001b[38;5;45mNone\u001b[0m, \u001b[38;5;34m128\u001b[0m)            │             \u001b[38;5;34m0\u001b[0m │\n",
              "├─────────────────────────────────┼────────────────────────┼───────────────┤\n",
              "│ dense_1 (\u001b[38;5;33mDense\u001b[0m)                 │ (\u001b[38;5;45mNone\u001b[0m, \u001b[38;5;34m1\u001b[0m)              │           \u001b[38;5;34m129\u001b[0m │\n",
              "└─────────────────────────────────┴────────────────────────┴───────────────┘\n"
            ],
            "text/html": [
              "<pre style=\"white-space:pre;overflow-x:auto;line-height:normal;font-family:Menlo,'DejaVu Sans Mono',consolas,'Courier New',monospace\">┏━━━━━━━━━━━━━━━━━━━━━━━━━━━━━━━━━┳━━━━━━━━━━━━━━━━━━━━━━━━┳━━━━━━━━━━━━━━━┓\n",
              "┃<span style=\"font-weight: bold\"> Layer (type)                    </span>┃<span style=\"font-weight: bold\"> Output Shape           </span>┃<span style=\"font-weight: bold\">       Param # </span>┃\n",
              "┡━━━━━━━━━━━━━━━━━━━━━━━━━━━━━━━━━╇━━━━━━━━━━━━━━━━━━━━━━━━╇━━━━━━━━━━━━━━━┩\n",
              "│ input_layer_1 (<span style=\"color: #0087ff; text-decoration-color: #0087ff\">InputLayer</span>)      │ (<span style=\"color: #00d7ff; text-decoration-color: #00d7ff\">None</span>, <span style=\"color: #00af00; text-decoration-color: #00af00\">224</span>, <span style=\"color: #00af00; text-decoration-color: #00af00\">224</span>, <span style=\"color: #00af00; text-decoration-color: #00af00\">3</span>)    │             <span style=\"color: #00af00; text-decoration-color: #00af00\">0</span> │\n",
              "├─────────────────────────────────┼────────────────────────┼───────────────┤\n",
              "│ resnet50 (<span style=\"color: #0087ff; text-decoration-color: #0087ff\">Functional</span>)           │ (<span style=\"color: #00d7ff; text-decoration-color: #00d7ff\">None</span>, <span style=\"color: #00af00; text-decoration-color: #00af00\">7</span>, <span style=\"color: #00af00; text-decoration-color: #00af00\">7</span>, <span style=\"color: #00af00; text-decoration-color: #00af00\">2048</span>)     │    <span style=\"color: #00af00; text-decoration-color: #00af00\">23,587,712</span> │\n",
              "├─────────────────────────────────┼────────────────────────┼───────────────┤\n",
              "│ global_average_pooling2d        │ (<span style=\"color: #00d7ff; text-decoration-color: #00d7ff\">None</span>, <span style=\"color: #00af00; text-decoration-color: #00af00\">2048</span>)           │             <span style=\"color: #00af00; text-decoration-color: #00af00\">0</span> │\n",
              "│ (<span style=\"color: #0087ff; text-decoration-color: #0087ff\">GlobalAveragePooling2D</span>)        │                        │               │\n",
              "├─────────────────────────────────┼────────────────────────┼───────────────┤\n",
              "│ dropout (<span style=\"color: #0087ff; text-decoration-color: #0087ff\">Dropout</span>)               │ (<span style=\"color: #00d7ff; text-decoration-color: #00d7ff\">None</span>, <span style=\"color: #00af00; text-decoration-color: #00af00\">2048</span>)           │             <span style=\"color: #00af00; text-decoration-color: #00af00\">0</span> │\n",
              "├─────────────────────────────────┼────────────────────────┼───────────────┤\n",
              "│ dense (<span style=\"color: #0087ff; text-decoration-color: #0087ff\">Dense</span>)                   │ (<span style=\"color: #00d7ff; text-decoration-color: #00d7ff\">None</span>, <span style=\"color: #00af00; text-decoration-color: #00af00\">128</span>)            │       <span style=\"color: #00af00; text-decoration-color: #00af00\">262,272</span> │\n",
              "├─────────────────────────────────┼────────────────────────┼───────────────┤\n",
              "│ dropout_1 (<span style=\"color: #0087ff; text-decoration-color: #0087ff\">Dropout</span>)             │ (<span style=\"color: #00d7ff; text-decoration-color: #00d7ff\">None</span>, <span style=\"color: #00af00; text-decoration-color: #00af00\">128</span>)            │             <span style=\"color: #00af00; text-decoration-color: #00af00\">0</span> │\n",
              "├─────────────────────────────────┼────────────────────────┼───────────────┤\n",
              "│ dense_1 (<span style=\"color: #0087ff; text-decoration-color: #0087ff\">Dense</span>)                 │ (<span style=\"color: #00d7ff; text-decoration-color: #00d7ff\">None</span>, <span style=\"color: #00af00; text-decoration-color: #00af00\">1</span>)              │           <span style=\"color: #00af00; text-decoration-color: #00af00\">129</span> │\n",
              "└─────────────────────────────────┴────────────────────────┴───────────────┘\n",
              "</pre>\n"
            ]
          },
          "metadata": {}
        },
        {
          "output_type": "display_data",
          "data": {
            "text/plain": [
              "\u001b[1m Total params: \u001b[0m\u001b[38;5;34m23,850,113\u001b[0m (90.98 MB)\n"
            ],
            "text/html": [
              "<pre style=\"white-space:pre;overflow-x:auto;line-height:normal;font-family:Menlo,'DejaVu Sans Mono',consolas,'Courier New',monospace\"><span style=\"font-weight: bold\"> Total params: </span><span style=\"color: #00af00; text-decoration-color: #00af00\">23,850,113</span> (90.98 MB)\n",
              "</pre>\n"
            ]
          },
          "metadata": {}
        },
        {
          "output_type": "display_data",
          "data": {
            "text/plain": [
              "\u001b[1m Trainable params: \u001b[0m\u001b[38;5;34m262,401\u001b[0m (1.00 MB)\n"
            ],
            "text/html": [
              "<pre style=\"white-space:pre;overflow-x:auto;line-height:normal;font-family:Menlo,'DejaVu Sans Mono',consolas,'Courier New',monospace\"><span style=\"font-weight: bold\"> Trainable params: </span><span style=\"color: #00af00; text-decoration-color: #00af00\">262,401</span> (1.00 MB)\n",
              "</pre>\n"
            ]
          },
          "metadata": {}
        },
        {
          "output_type": "display_data",
          "data": {
            "text/plain": [
              "\u001b[1m Non-trainable params: \u001b[0m\u001b[38;5;34m23,587,712\u001b[0m (89.98 MB)\n"
            ],
            "text/html": [
              "<pre style=\"white-space:pre;overflow-x:auto;line-height:normal;font-family:Menlo,'DejaVu Sans Mono',consolas,'Courier New',monospace\"><span style=\"font-weight: bold\"> Non-trainable params: </span><span style=\"color: #00af00; text-decoration-color: #00af00\">23,587,712</span> (89.98 MB)\n",
              "</pre>\n"
            ]
          },
          "metadata": {}
        }
      ]
    },
    {
      "cell_type": "code",
      "source": [
        "class F1Score(tf.keras.metrics.Metric):\n",
        "    def __init__(self, name='f1_score', **kwargs):\n",
        "        super(F1Score, self).__init__(name=name, **kwargs)\n",
        "        self.precision = tf.keras.metrics.Precision()\n",
        "        self.recall = tf.keras.metrics.Recall()\n",
        "\n",
        "    def update_state(self, y_true, y_pred, sample_weight=None):\n",
        "        self.precision.update_state(y_true, y_pred, sample_weight)\n",
        "        self.recall.update_state(y_true, y_pred, sample_weight)\n",
        "\n",
        "    def result(self):\n",
        "        p = self.precision.result()\n",
        "        r = self.recall.result()\n",
        "        return 2 * ((p * r) / (p + r + tf.keras.backend.epsilon()))\n",
        "\n",
        "    def reset_states(self):\n",
        "        self.precision.reset_states()\n",
        "        self.recall.reset_states()\n",
        "# original\n",
        "# model.compile(\n",
        "#     optimizer=optimizers.Adam(learning_rate=1e-4),\n",
        "#     loss='binary_crossentropy',\n",
        "#     metrics=['accuracy',\n",
        "#              tf.keras.metrics.Precision(name='precision'),\n",
        "#              tf.keras.metrics.Recall(name='recall'),\n",
        "#              tf.keras.metrics.AUC(name='auc'),\n",
        "#              F1Score(name='f1_score')],\n",
        "\n",
        "#     run_eagerly=True\n",
        "\n",
        "# )\n",
        "\n",
        "# test\n",
        "model.compile(\n",
        "    optimizer=optimizers.Adam(1e-4),\n",
        "    loss='binary_crossentropy',\n",
        "    metrics=[\n",
        "      'accuracy',\n",
        "      tf.keras.metrics.Precision(name='precision'),\n",
        "      tf.keras.metrics.Recall   (name='recall'),\n",
        "      tf.keras.metrics.AUC      (name='auc'),\n",
        "      F1Score(name='f1_score')\n",
        "    ]\n",
        ")"
      ],
      "metadata": {
        "id": "0OBgBZJJVLb6"
      },
      "execution_count": null,
      "outputs": []
    },
    {
      "cell_type": "code",
      "source": [
        "checkpoint_path = '/content/drive/MyDrive/projectImages/resnet50_finetune/checkpoint.h5'\n",
        "\n",
        "os.makedirs(os.path.dirname(checkpoint_path), exist_ok=True)\n",
        "checkpoint_cb = callbacks.ModelCheckpoint(\n",
        "    filepath=checkpoint_path,\n",
        "    monitor='val_auc',\n",
        "    mode='max',\n",
        "    save_best_only=True,\n",
        "    verbose=1\n",
        ")\n",
        "earlystop_cb = callbacks.EarlyStopping(\n",
        "    monitor='val_loss',\n",
        "    patience=5,\n",
        "    restore_best_weights=True,\n",
        "    verbose=1\n",
        ")\n",
        "\n",
        "reduce_lr = callbacks.ReduceLROnPlateau(\n",
        "    monitor='val_loss', factor=0.5, patience=3, verbose=1\n",
        ")\n"
      ],
      "metadata": {
        "id": "VS-onnx6WmnS"
      },
      "execution_count": null,
      "outputs": []
    },
    {
      "cell_type": "code",
      "source": [
        "# original\n",
        "# history = model.fit(\n",
        "#     train_generator,\n",
        "#     epochs=20,\n",
        "#     steps_per_epoch=len(train_generator),\n",
        "#     validation_data=validation_generator,\n",
        "#     validation_steps=len(validation_generator),\n",
        "#     callbacks=[checkpoint_cb, earlystop_cb]\n",
        "# )\n",
        "\n",
        "# # And after training:\n",
        "# # Evaluate\n",
        "# results = model.evaluate(test_generator, steps=len(test_generator), verbose=1)\n",
        "# print(\"Metrics:\", dict(zip(model.metrics_names, results)))"
      ],
      "metadata": {
        "colab": {
          "base_uri": "https://localhost:8080/"
        },
        "id": "IUrtTdoWXKdy",
        "outputId": "74ee84b1-a31c-436f-80c3-39c71b965d3c"
      },
      "execution_count": null,
      "outputs": [
        {
          "output_type": "stream",
          "name": "stdout",
          "text": [
            "Epoch 1/20\n",
            "\u001b[1m49/49\u001b[0m \u001b[32m━━━━━━━━━━━━━━━━━━━━\u001b[0m\u001b[37m\u001b[0m \u001b[1m0s\u001b[0m 953ms/step - accuracy: 0.5603 - auc: 0.5912 - f1_score: 0.5211 - loss: 0.7894 - precision: 0.5621 - recall: 0.4966\n",
            "Epoch 1: val_auc improved from -inf to 0.98486, saving model to /content/drive/MyDrive/projectImages/resnet50_finetune/checkpoint.h5\n"
          ]
        },
        {
          "output_type": "stream",
          "name": "stderr",
          "text": [
            "WARNING:absl:You are saving your model as an HDF5 file via `model.save()` or `keras.saving.save_model(model)`. This file format is considered legacy. We recommend using instead the native Keras format, e.g. `model.save('my_model.keras')` or `keras.saving.save_model(model, 'my_model.keras')`. \n"
          ]
        },
        {
          "output_type": "stream",
          "name": "stdout",
          "text": [
            "\b\b\b\b\b\b\b\b\b\b\b\b\b\b\b\b\b\b\b\b\b\b\b\b\b\b\b\b\b\b\b\b\b\b\b\b\b\b\b\b\b\b\b\b\b\b\b\b\b\b\b\b\b\b\b\b\b\b\b\b\b\b\b\b\b\b\b\b\b\b\b\b\b\b\b\b\b\b\b\b\b\b\b\b\b\b\b\b\b\b\b\b\b\b\b\b\b\b\b\b\b\b\b\b\b\b\b\b\b\b\b\b\b\b\b\b\b\b\b\b\b\b\b\b\b\b\b\b\b\b\b\b\b\b\b\b\b\b\b\b\b\b\b\b\r\u001b[1m49/49\u001b[0m \u001b[32m━━━━━━━━━━━━━━━━━━━━\u001b[0m\u001b[37m\u001b[0m \u001b[1m56s\u001b[0m 1s/step - accuracy: 0.5618 - auc: 0.5931 - f1_score: 0.5232 - loss: 0.7871 - precision: 0.5637 - recall: 0.4989 - val_accuracy: 0.8547 - val_auc: 0.9849 - val_f1_score: 0.8731 - val_loss: 0.3893 - val_precision: 0.7748 - val_recall: 1.0000\n",
            "Epoch 2/20\n",
            "\u001b[1m49/49\u001b[0m \u001b[32m━━━━━━━━━━━━━━━━━━━━\u001b[0m\u001b[37m\u001b[0m \u001b[1m0s\u001b[0m 991ms/step - accuracy: 0.8153 - auc: 0.8958 - f1_score: 0.8217 - loss: 0.4145 - precision: 0.8036 - recall: 0.8413\n",
            "Epoch 2: val_auc improved from 0.98486 to 0.99655, saving model to /content/drive/MyDrive/projectImages/resnet50_finetune/checkpoint.h5\n"
          ]
        },
        {
          "output_type": "stream",
          "name": "stderr",
          "text": [
            "WARNING:absl:You are saving your model as an HDF5 file via `model.save()` or `keras.saving.save_model(model)`. This file format is considered legacy. We recommend using instead the native Keras format, e.g. `model.save('my_model.keras')` or `keras.saving.save_model(model, 'my_model.keras')`. \n"
          ]
        },
        {
          "output_type": "stream",
          "name": "stdout",
          "text": [
            "\b\b\b\b\b\b\b\b\b\b\b\b\b\b\b\b\b\b\b\b\b\b\b\b\b\b\b\b\b\b\b\b\b\b\b\b\b\b\b\b\b\b\b\b\b\b\b\b\b\b\b\b\b\b\b\b\b\b\b\b\b\b\b\b\b\b\b\b\b\b\b\b\b\b\b\b\b\b\b\b\b\b\b\b\b\b\b\b\b\b\b\b\b\b\b\b\b\b\b\b\b\b\b\b\b\b\b\b\b\b\b\b\b\b\b\b\b\b\b\b\b\b\b\b\b\b\b\b\b\b\b\b\b\b\b\b\b\b\b\b\b\b\b\b\r\u001b[1m49/49\u001b[0m \u001b[32m━━━━━━━━━━━━━━━━━━━━\u001b[0m\u001b[37m\u001b[0m \u001b[1m83s\u001b[0m 1s/step - accuracy: 0.8154 - auc: 0.8960 - f1_score: 0.8217 - loss: 0.4140 - precision: 0.8037 - recall: 0.8413 - val_accuracy: 0.9244 - val_auc: 0.9966 - val_f1_score: 0.9297 - val_loss: 0.2799 - val_precision: 0.8687 - val_recall: 1.0000\n",
            "Epoch 3/20\n",
            "\u001b[1m49/49\u001b[0m \u001b[32m━━━━━━━━━━━━━━━━━━━━\u001b[0m\u001b[37m\u001b[0m \u001b[1m0s\u001b[0m 1s/step - accuracy: 0.8932 - auc: 0.9530 - f1_score: 0.8951 - loss: 0.2993 - precision: 0.8850 - recall: 0.9055\n",
            "Epoch 3: val_auc did not improve from 0.99655\n",
            "\u001b[1m49/49\u001b[0m \u001b[32m━━━━━━━━━━━━━━━━━━━━\u001b[0m\u001b[37m\u001b[0m \u001b[1m54s\u001b[0m 1s/step - accuracy: 0.8933 - auc: 0.9531 - f1_score: 0.8952 - loss: 0.2990 - precision: 0.8852 - recall: 0.9055 - val_accuracy: 0.9012 - val_auc: 0.9947 - val_f1_score: 0.9101 - val_loss: 0.2468 - val_precision: 0.8350 - val_recall: 1.0000\n",
            "Epoch 4/20\n",
            "\u001b[1m49/49\u001b[0m \u001b[32m━━━━━━━━━━━━━━━━━━━━\u001b[0m\u001b[37m\u001b[0m \u001b[1m0s\u001b[0m 990ms/step - accuracy: 0.9063 - auc: 0.9730 - f1_score: 0.9098 - loss: 0.2372 - precision: 0.8922 - recall: 0.9286\n",
            "Epoch 4: val_auc improved from 0.99655 to 0.99905, saving model to /content/drive/MyDrive/projectImages/resnet50_finetune/checkpoint.h5\n"
          ]
        },
        {
          "output_type": "stream",
          "name": "stderr",
          "text": [
            "WARNING:absl:You are saving your model as an HDF5 file via `model.save()` or `keras.saving.save_model(model)`. This file format is considered legacy. We recommend using instead the native Keras format, e.g. `model.save('my_model.keras')` or `keras.saving.save_model(model, 'my_model.keras')`. \n"
          ]
        },
        {
          "output_type": "stream",
          "name": "stdout",
          "text": [
            "\b\b\b\b\b\b\b\b\b\b\b\b\b\b\b\b\b\b\b\b\b\b\b\b\b\b\b\b\b\b\b\b\b\b\b\b\b\b\b\b\b\b\b\b\b\b\b\b\b\b\b\b\b\b\b\b\b\b\b\b\b\b\b\b\b\b\b\b\b\b\b\b\b\b\b\b\b\b\b\b\b\b\b\b\b\b\b\b\b\b\b\b\b\b\b\b\b\b\b\b\b\b\b\b\b\b\b\b\b\b\b\b\b\b\b\b\b\b\b\b\b\b\b\b\b\b\b\b\b\b\b\b\b\b\b\b\b\b\b\b\b\b\b\b\r\u001b[1m49/49\u001b[0m \u001b[32m━━━━━━━━━━━━━━━━━━━━\u001b[0m\u001b[37m\u001b[0m \u001b[1m55s\u001b[0m 1s/step - accuracy: 0.9065 - auc: 0.9731 - f1_score: 0.9100 - loss: 0.2370 - precision: 0.8925 - recall: 0.9287 - val_accuracy: 0.9651 - val_auc: 0.9991 - val_f1_score: 0.9659 - val_loss: 0.1725 - val_precision: 0.9444 - val_recall: 0.9884\n",
            "Epoch 5/20\n",
            "\u001b[1m49/49\u001b[0m \u001b[32m━━━━━━━━━━━━━━━━━━━━\u001b[0m\u001b[37m\u001b[0m \u001b[1m0s\u001b[0m 1s/step - accuracy: 0.9373 - auc: 0.9890 - f1_score: 0.9363 - loss: 0.1703 - precision: 0.9413 - recall: 0.9317\n",
            "Epoch 5: val_auc improved from 0.99905 to 0.99966, saving model to /content/drive/MyDrive/projectImages/resnet50_finetune/checkpoint.h5\n"
          ]
        },
        {
          "output_type": "stream",
          "name": "stderr",
          "text": [
            "WARNING:absl:You are saving your model as an HDF5 file via `model.save()` or `keras.saving.save_model(model)`. This file format is considered legacy. We recommend using instead the native Keras format, e.g. `model.save('my_model.keras')` or `keras.saving.save_model(model, 'my_model.keras')`. \n"
          ]
        },
        {
          "output_type": "stream",
          "name": "stdout",
          "text": [
            "\b\b\b\b\b\b\b\b\b\b\b\b\b\b\b\b\b\b\b\b\b\b\b\b\b\b\b\b\b\b\b\b\b\b\b\b\b\b\b\b\b\b\b\b\b\b\b\b\b\b\b\b\b\b\b\b\b\b\b\b\b\b\b\b\b\b\b\b\b\b\b\b\b\b\b\b\b\b\b\b\b\b\b\b\b\b\b\b\b\b\b\b\b\b\b\b\b\b\b\b\b\b\b\b\b\b\b\b\b\b\b\b\b\b\b\b\b\b\b\b\b\b\b\b\b\b\b\b\b\b\b\b\b\b\b\b\b\b\b\b\b\r\u001b[1m49/49\u001b[0m \u001b[32m━━━━━━━━━━━━━━━━━━━━\u001b[0m\u001b[37m\u001b[0m \u001b[1m56s\u001b[0m 1s/step - accuracy: 0.9375 - auc: 0.9890 - f1_score: 0.9366 - loss: 0.1702 - precision: 0.9413 - recall: 0.9322 - val_accuracy: 0.9767 - val_auc: 0.9997 - val_f1_score: 0.9773 - val_loss: 0.1416 - val_precision: 0.9556 - val_recall: 1.0000\n",
            "Epoch 6/20\n",
            "\u001b[1m49/49\u001b[0m \u001b[32m━━━━━━━━━━━━━━━━━━━━\u001b[0m\u001b[37m\u001b[0m \u001b[1m0s\u001b[0m 1s/step - accuracy: 0.9568 - auc: 0.9907 - f1_score: 0.9553 - loss: 0.1513 - precision: 0.9551 - recall: 0.9563\n",
            "Epoch 6: val_auc did not improve from 0.99966\n",
            "\u001b[1m49/49\u001b[0m \u001b[32m━━━━━━━━━━━━━━━━━━━━\u001b[0m\u001b[37m\u001b[0m \u001b[1m54s\u001b[0m 1s/step - accuracy: 0.9567 - auc: 0.9907 - f1_score: 0.9553 - loss: 0.1513 - precision: 0.9549 - recall: 0.9565 - val_accuracy: 0.9826 - val_auc: 0.9994 - val_f1_score: 0.9829 - val_loss: 0.1201 - val_precision: 0.9663 - val_recall: 1.0000\n",
            "Epoch 7/20\n",
            "\u001b[1m49/49\u001b[0m \u001b[32m━━━━━━━━━━━━━━━━━━━━\u001b[0m\u001b[37m\u001b[0m \u001b[1m0s\u001b[0m 959ms/step - accuracy: 0.9641 - auc: 0.9946 - f1_score: 0.9643 - loss: 0.1241 - precision: 0.9505 - recall: 0.9786\n",
            "Epoch 7: val_auc improved from 0.99966 to 1.00000, saving model to /content/drive/MyDrive/projectImages/resnet50_finetune/checkpoint.h5\n"
          ]
        },
        {
          "output_type": "stream",
          "name": "stderr",
          "text": [
            "WARNING:absl:You are saving your model as an HDF5 file via `model.save()` or `keras.saving.save_model(model)`. This file format is considered legacy. We recommend using instead the native Keras format, e.g. `model.save('my_model.keras')` or `keras.saving.save_model(model, 'my_model.keras')`. \n"
          ]
        },
        {
          "output_type": "stream",
          "name": "stdout",
          "text": [
            "\b\b\b\b\b\b\b\b\b\b\b\b\b\b\b\b\b\b\b\b\b\b\b\b\b\b\b\b\b\b\b\b\b\b\b\b\b\b\b\b\b\b\b\b\b\b\b\b\b\b\b\b\b\b\b\b\b\b\b\b\b\b\b\b\b\b\b\b\b\b\b\b\b\b\b\b\b\b\b\b\b\b\b\b\b\b\b\b\b\b\b\b\b\b\b\b\b\b\b\b\b\b\b\b\b\b\b\b\b\b\b\b\b\b\b\b\b\b\b\b\b\b\b\b\b\b\b\b\b\b\b\b\b\b\b\b\b\b\b\b\b\b\b\b\r\u001b[1m49/49\u001b[0m \u001b[32m━━━━━━━━━━━━━━━━━━━━\u001b[0m\u001b[37m\u001b[0m \u001b[1m82s\u001b[0m 1s/step - accuracy: 0.9640 - auc: 0.9945 - f1_score: 0.9642 - loss: 0.1243 - precision: 0.9505 - recall: 0.9785 - val_accuracy: 0.9826 - val_auc: 1.0000 - val_f1_score: 0.9829 - val_loss: 0.0993 - val_precision: 0.9663 - val_recall: 1.0000\n",
            "Epoch 8/20\n",
            "\u001b[1m49/49\u001b[0m \u001b[32m━━━━━━━━━━━━━━━━━━━━\u001b[0m\u001b[37m\u001b[0m \u001b[1m0s\u001b[0m 955ms/step - accuracy: 0.9692 - auc: 0.9949 - f1_score: 0.9687 - loss: 0.1075 - precision: 0.9782 - recall: 0.9595\n",
            "Epoch 8: val_auc did not improve from 1.00000\n",
            "\u001b[1m49/49\u001b[0m \u001b[32m━━━━━━━━━━━━━━━━━━━━\u001b[0m\u001b[37m\u001b[0m \u001b[1m80s\u001b[0m 1s/step - accuracy: 0.9692 - auc: 0.9949 - f1_score: 0.9687 - loss: 0.1074 - precision: 0.9780 - recall: 0.9597 - val_accuracy: 0.9535 - val_auc: 0.9974 - val_f1_score: 0.9551 - val_loss: 0.1213 - val_precision: 0.9239 - val_recall: 0.9884\n",
            "Epoch 9/20\n",
            "\u001b[1m49/49\u001b[0m \u001b[32m━━━━━━━━━━━━━━━━━━━━\u001b[0m\u001b[37m\u001b[0m \u001b[1m0s\u001b[0m 968ms/step - accuracy: 0.9615 - auc: 0.9931 - f1_score: 0.9619 - loss: 0.1119 - precision: 0.9643 - recall: 0.9600\n",
            "Epoch 9: val_auc did not improve from 1.00000\n",
            "\u001b[1m49/49\u001b[0m \u001b[32m━━━━━━━━━━━━━━━━━━━━\u001b[0m\u001b[37m\u001b[0m \u001b[1m53s\u001b[0m 1s/step - accuracy: 0.9617 - auc: 0.9932 - f1_score: 0.9620 - loss: 0.1116 - precision: 0.9643 - recall: 0.9602 - val_accuracy: 0.9826 - val_auc: 0.9966 - val_f1_score: 0.9829 - val_loss: 0.0916 - val_precision: 0.9663 - val_recall: 1.0000\n",
            "Epoch 10/20\n",
            "\u001b[1m49/49\u001b[0m \u001b[32m━━━━━━━━━━━━━━━━━━━━\u001b[0m\u001b[37m\u001b[0m \u001b[1m0s\u001b[0m 983ms/step - accuracy: 0.9684 - auc: 0.9972 - f1_score: 0.9682 - loss: 0.0885 - precision: 0.9650 - recall: 0.9715\n",
            "Epoch 10: val_auc did not improve from 1.00000\n",
            "\u001b[1m49/49\u001b[0m \u001b[32m━━━━━━━━━━━━━━━━━━━━\u001b[0m\u001b[37m\u001b[0m \u001b[1m54s\u001b[0m 1s/step - accuracy: 0.9684 - auc: 0.9972 - f1_score: 0.9682 - loss: 0.0886 - precision: 0.9650 - recall: 0.9714 - val_accuracy: 0.9651 - val_auc: 0.9999 - val_f1_score: 0.9663 - val_loss: 0.0980 - val_precision: 0.9348 - val_recall: 1.0000\n",
            "Epoch 11/20\n",
            "\u001b[1m49/49\u001b[0m \u001b[32m━━━━━━━━━━━━━━━━━━━━\u001b[0m\u001b[37m\u001b[0m \u001b[1m0s\u001b[0m 966ms/step - accuracy: 0.9759 - auc: 0.9965 - f1_score: 0.9763 - loss: 0.0824 - precision: 0.9723 - recall: 0.9803\n",
            "Epoch 11: val_auc did not improve from 1.00000\n",
            "\u001b[1m49/49\u001b[0m \u001b[32m━━━━━━━━━━━━━━━━━━━━\u001b[0m\u001b[37m\u001b[0m \u001b[1m81s\u001b[0m 1s/step - accuracy: 0.9759 - auc: 0.9965 - f1_score: 0.9762 - loss: 0.0824 - precision: 0.9723 - recall: 0.9802 - val_accuracy: 0.9884 - val_auc: 0.9993 - val_f1_score: 0.9884 - val_loss: 0.0751 - val_precision: 0.9884 - val_recall: 0.9884\n",
            "Epoch 12/20\n",
            "\u001b[1m49/49\u001b[0m \u001b[32m━━━━━━━━━━━━━━━━━━━━\u001b[0m\u001b[37m\u001b[0m \u001b[1m0s\u001b[0m 969ms/step - accuracy: 0.9766 - auc: 0.9978 - f1_score: 0.9769 - loss: 0.0722 - precision: 0.9711 - recall: 0.9828\n",
            "Epoch 12: val_auc did not improve from 1.00000\n",
            "\u001b[1m49/49\u001b[0m \u001b[32m━━━━━━━━━━━━━━━━━━━━\u001b[0m\u001b[37m\u001b[0m \u001b[1m53s\u001b[0m 1s/step - accuracy: 0.9767 - auc: 0.9978 - f1_score: 0.9770 - loss: 0.0721 - precision: 0.9712 - recall: 0.9829 - val_accuracy: 0.9593 - val_auc: 0.9899 - val_f1_score: 0.9605 - val_loss: 0.1410 - val_precision: 0.9341 - val_recall: 0.9884\n",
            "Epoch 13/20\n",
            "\u001b[1m49/49\u001b[0m \u001b[32m━━━━━━━━━━━━━━━━━━━━\u001b[0m\u001b[37m\u001b[0m \u001b[1m0s\u001b[0m 982ms/step - accuracy: 0.9818 - auc: 0.9987 - f1_score: 0.9826 - loss: 0.0635 - precision: 0.9780 - recall: 0.9873\n",
            "Epoch 13: val_auc did not improve from 1.00000\n",
            "\u001b[1m49/49\u001b[0m \u001b[32m━━━━━━━━━━━━━━━━━━━━\u001b[0m\u001b[37m\u001b[0m \u001b[1m54s\u001b[0m 1s/step - accuracy: 0.9819 - auc: 0.9987 - f1_score: 0.9826 - loss: 0.0634 - precision: 0.9781 - recall: 0.9873 - val_accuracy: 0.9651 - val_auc: 0.9978 - val_f1_score: 0.9651 - val_loss: 0.0738 - val_precision: 0.9651 - val_recall: 0.9651\n",
            "Epoch 14/20\n",
            "\u001b[1m49/49\u001b[0m \u001b[32m━━━━━━━━━━━━━━━━━━━━\u001b[0m\u001b[37m\u001b[0m \u001b[1m0s\u001b[0m 961ms/step - accuracy: 0.9741 - auc: 0.9977 - f1_score: 0.9720 - loss: 0.0715 - precision: 0.9643 - recall: 0.9798\n",
            "Epoch 14: val_auc did not improve from 1.00000\n",
            "\u001b[1m49/49\u001b[0m \u001b[32m━━━━━━━━━━━━━━━━━━━━\u001b[0m\u001b[37m\u001b[0m \u001b[1m81s\u001b[0m 1s/step - accuracy: 0.9741 - auc: 0.9977 - f1_score: 0.9721 - loss: 0.0715 - precision: 0.9644 - recall: 0.9799 - val_accuracy: 0.9767 - val_auc: 0.9989 - val_f1_score: 0.9770 - val_loss: 0.0781 - val_precision: 0.9659 - val_recall: 0.9884\n",
            "Epoch 15/20\n",
            "\u001b[1m49/49\u001b[0m \u001b[32m━━━━━━━━━━━━━━━━━━━━\u001b[0m\u001b[37m\u001b[0m \u001b[1m0s\u001b[0m 960ms/step - accuracy: 0.9832 - auc: 0.9991 - f1_score: 0.9833 - loss: 0.0560 - precision: 0.9780 - recall: 0.9887\n",
            "Epoch 15: val_auc did not improve from 1.00000\n",
            "\u001b[1m49/49\u001b[0m \u001b[32m━━━━━━━━━━━━━━━━━━━━\u001b[0m\u001b[37m\u001b[0m \u001b[1m53s\u001b[0m 1s/step - accuracy: 0.9832 - auc: 0.9991 - f1_score: 0.9833 - loss: 0.0559 - precision: 0.9781 - recall: 0.9886 - val_accuracy: 0.9826 - val_auc: 0.9996 - val_f1_score: 0.9827 - val_loss: 0.0571 - val_precision: 0.9770 - val_recall: 0.9884\n",
            "Epoch 16/20\n",
            "\u001b[1m49/49\u001b[0m \u001b[32m━━━━━━━━━━━━━━━━━━━━\u001b[0m\u001b[37m\u001b[0m \u001b[1m0s\u001b[0m 962ms/step - accuracy: 0.9862 - auc: 0.9992 - f1_score: 0.9861 - loss: 0.0452 - precision: 0.9872 - recall: 0.9851\n",
            "Epoch 16: val_auc did not improve from 1.00000\n",
            "\u001b[1m49/49\u001b[0m \u001b[32m━━━━━━━━━━━━━━━━━━━━\u001b[0m\u001b[37m\u001b[0m \u001b[1m82s\u001b[0m 1s/step - accuracy: 0.9862 - auc: 0.9992 - f1_score: 0.9861 - loss: 0.0452 - precision: 0.9871 - recall: 0.9851 - val_accuracy: 0.9651 - val_auc: 0.9939 - val_f1_score: 0.9659 - val_loss: 0.1015 - val_precision: 0.9444 - val_recall: 0.9884\n",
            "Epoch 17/20\n",
            "\u001b[1m49/49\u001b[0m \u001b[32m━━━━━━━━━━━━━━━━━━━━\u001b[0m\u001b[37m\u001b[0m \u001b[1m0s\u001b[0m 958ms/step - accuracy: 0.9879 - auc: 0.9992 - f1_score: 0.9875 - loss: 0.0464 - precision: 0.9935 - recall: 0.9815\n",
            "Epoch 17: val_auc did not improve from 1.00000\n",
            "\u001b[1m49/49\u001b[0m \u001b[32m━━━━━━━━━━━━━━━━━━━━\u001b[0m\u001b[37m\u001b[0m \u001b[1m82s\u001b[0m 1s/step - accuracy: 0.9879 - auc: 0.9992 - f1_score: 0.9874 - loss: 0.0464 - precision: 0.9934 - recall: 0.9815 - val_accuracy: 0.9593 - val_auc: 0.9987 - val_f1_score: 0.9609 - val_loss: 0.1036 - val_precision: 0.9247 - val_recall: 1.0000\n",
            "Epoch 18/20\n",
            "\u001b[1m49/49\u001b[0m \u001b[32m━━━━━━━━━━━━━━━━━━━━\u001b[0m\u001b[37m\u001b[0m \u001b[1m0s\u001b[0m 946ms/step - accuracy: 0.9788 - auc: 0.9989 - f1_score: 0.9790 - loss: 0.0539 - precision: 0.9685 - recall: 0.9899\n",
            "Epoch 18: val_auc did not improve from 1.00000\n",
            "\u001b[1m49/49\u001b[0m \u001b[32m━━━━━━━━━━━━━━━━━━━━\u001b[0m\u001b[37m\u001b[0m \u001b[1m57s\u001b[0m 1s/step - accuracy: 0.9788 - auc: 0.9989 - f1_score: 0.9790 - loss: 0.0539 - precision: 0.9687 - recall: 0.9898 - val_accuracy: 0.9767 - val_auc: 0.9980 - val_f1_score: 0.9773 - val_loss: 0.0868 - val_precision: 0.9556 - val_recall: 1.0000\n",
            "Epoch 19/20\n",
            "\u001b[1m49/49\u001b[0m \u001b[32m━━━━━━━━━━━━━━━━━━━━\u001b[0m\u001b[37m\u001b[0m \u001b[1m0s\u001b[0m 942ms/step - accuracy: 0.9914 - auc: 0.9996 - f1_score: 0.9914 - loss: 0.0389 - precision: 0.9875 - recall: 0.9952\n",
            "Epoch 19: val_auc did not improve from 1.00000\n",
            "\u001b[1m49/49\u001b[0m \u001b[32m━━━━━━━━━━━━━━━━━━━━\u001b[0m\u001b[37m\u001b[0m \u001b[1m52s\u001b[0m 1s/step - accuracy: 0.9914 - auc: 0.9996 - f1_score: 0.9914 - loss: 0.0390 - precision: 0.9876 - recall: 0.9952 - val_accuracy: 0.9826 - val_auc: 0.9978 - val_f1_score: 0.9827 - val_loss: 0.0742 - val_precision: 0.9770 - val_recall: 0.9884\n",
            "Epoch 20/20\n",
            "\u001b[1m49/49\u001b[0m \u001b[32m━━━━━━━━━━━━━━━━━━━━\u001b[0m\u001b[37m\u001b[0m \u001b[1m0s\u001b[0m 941ms/step - accuracy: 0.9867 - auc: 0.9982 - f1_score: 0.9868 - loss: 0.0528 - precision: 0.9841 - recall: 0.9897\n",
            "Epoch 20: val_auc did not improve from 1.00000\n",
            "\u001b[1m49/49\u001b[0m \u001b[32m━━━━━━━━━━━━━━━━━━━━\u001b[0m\u001b[37m\u001b[0m \u001b[1m52s\u001b[0m 1s/step - accuracy: 0.9867 - auc: 0.9982 - f1_score: 0.9869 - loss: 0.0526 - precision: 0.9841 - recall: 0.9897 - val_accuracy: 0.9942 - val_auc: 0.9997 - val_f1_score: 0.9942 - val_loss: 0.0440 - val_precision: 0.9885 - val_recall: 1.0000\n",
            "Restoring model weights from the end of the best epoch: 20.\n",
            "\u001b[1m7/7\u001b[0m \u001b[32m━━━━━━━━━━━━━━━━━━━━\u001b[0m\u001b[37m\u001b[0m \u001b[1m3s\u001b[0m 409ms/step - accuracy: 1.0000 - auc: 0.6250 - f1_score: 0.6250 - loss: 0.0071 - precision: 0.6250 - recall: 0.6250\n",
            "Metrics: {'loss': 0.007793582044541836, 'compile_metrics': 1.0}\n"
          ]
        }
      ]
    },
    {
      "cell_type": "code",
      "source": [
        "history = model.fit(\n",
        "    train_generator,\n",
        "    epochs=20,\n",
        "    validation_data=validation_generator,\n",
        "    callbacks=[checkpoint_cb, earlystop_cb, reduce_lr]\n",
        ")"
      ],
      "metadata": {
        "colab": {
          "base_uri": "https://localhost:8080/"
        },
        "id": "vp34HBTQkH39",
        "outputId": "7c1dd493-34db-4660-874b-8f32a4939693"
      },
      "execution_count": null,
      "outputs": [
        {
          "output_type": "stream",
          "name": "stderr",
          "text": [
            "/usr/local/lib/python3.11/dist-packages/keras/src/trainers/data_adapters/py_dataset_adapter.py:121: UserWarning: Your `PyDataset` class should call `super().__init__(**kwargs)` in its constructor. `**kwargs` can include `workers`, `use_multiprocessing`, `max_queue_size`. Do not pass these arguments to `fit()`, as they will be ignored.\n",
            "  self._warn_if_super_not_called()\n"
          ]
        },
        {
          "output_type": "stream",
          "name": "stdout",
          "text": [
            "Epoch 1/20\n",
            "\u001b[1m419/419\u001b[0m \u001b[32m━━━━━━━━━━━━━━━━━━━━\u001b[0m\u001b[37m\u001b[0m \u001b[1m0s\u001b[0m 742ms/step - accuracy: 0.7721 - auc: 0.8481 - f1_score: 0.7743 - loss: 0.4573 - precision: 0.7666 - recall: 0.7822\n",
            "Epoch 1: val_auc improved from -inf to 0.99825, saving model to /content/drive/MyDrive/projectImages/resnet50_finetune/checkpoint.h5\n"
          ]
        },
        {
          "output_type": "stream",
          "name": "stderr",
          "text": [
            "WARNING:absl:You are saving your model as an HDF5 file via `model.save()` or `keras.saving.save_model(model)`. This file format is considered legacy. We recommend using instead the native Keras format, e.g. `model.save('my_model.keras')` or `keras.saving.save_model(model, 'my_model.keras')`. \n"
          ]
        },
        {
          "output_type": "stream",
          "name": "stdout",
          "text": [
            "\b\b\b\b\b\b\b\b\b\b\b\b\b\b\b\b\b\b\b\b\b\b\b\b\b\b\b\b\b\b\b\b\b\b\b\b\b\b\b\b\b\b\b\b\b\b\b\b\b\b\b\b\b\b\b\b\b\b\b\b\b\b\b\b\b\b\b\b\b\b\b\b\b\b\b\b\b\b\b\b\b\b\b\b\b\b\b\b\b\b\b\b\b\b\b\b\b\b\b\b\b\b\b\b\b\b\b\b\b\b\b\b\b\b\b\b\b\b\b\b\b\b\b\b\b\b\b\b\b\b\b\b\b\b\b\b\b\b\b\b\b\b\b\b\b\b\r\u001b[1m419/419\u001b[0m \u001b[32m━━━━━━━━━━━━━━━━━━━━\u001b[0m\u001b[37m\u001b[0m \u001b[1m366s\u001b[0m 831ms/step - accuracy: 0.7723 - auc: 0.8483 - f1_score: 0.7745 - loss: 0.4570 - precision: 0.7668 - recall: 0.7825 - val_accuracy: 0.9772 - val_auc: 0.9983 - val_f1_score: 0.9772 - val_loss: 0.1133 - val_precision: 0.9758 - val_recall: 0.9785 - learning_rate: 1.0000e-04\n",
            "Epoch 2/20\n",
            "\u001b[1m419/419\u001b[0m \u001b[32m━━━━━━━━━━━━━━━━━━━━\u001b[0m\u001b[37m\u001b[0m \u001b[1m0s\u001b[0m 584ms/step - accuracy: 0.9468 - auc: 0.9885 - f1_score: 0.9472 - loss: 0.1443 - precision: 0.9438 - recall: 0.9505\n",
            "Epoch 2: val_auc improved from 0.99825 to 0.99862, saving model to /content/drive/MyDrive/projectImages/resnet50_finetune/checkpoint.h5\n"
          ]
        },
        {
          "output_type": "stream",
          "name": "stderr",
          "text": [
            "WARNING:absl:You are saving your model as an HDF5 file via `model.save()` or `keras.saving.save_model(model)`. This file format is considered legacy. We recommend using instead the native Keras format, e.g. `model.save('my_model.keras')` or `keras.saving.save_model(model, 'my_model.keras')`. \n"
          ]
        },
        {
          "output_type": "stream",
          "name": "stdout",
          "text": [
            "\b\b\b\b\b\b\b\b\b\b\b\b\b\b\b\b\b\b\b\b\b\b\b\b\b\b\b\b\b\b\b\b\b\b\b\b\b\b\b\b\b\b\b\b\b\b\b\b\b\b\b\b\b\b\b\b\b\b\b\b\b\b\b\b\b\b\b\b\b\b\b\b\b\b\b\b\b\b\b\b\b\b\b\b\b\b\b\b\b\b\b\b\b\b\b\b\b\b\b\b\b\b\b\b\b\b\b\b\b\b\b\b\b\b\b\b\b\b\b\b\b\b\b\b\b\b\b\b\b\b\b\b\b\b\b\b\b\b\b\b\b\b\b\b\b\b\r\u001b[1m419/419\u001b[0m \u001b[32m━━━━━━━━━━━━━━━━━━━━\u001b[0m\u001b[37m\u001b[0m \u001b[1m273s\u001b[0m 651ms/step - accuracy: 0.9469 - auc: 0.9885 - f1_score: 0.9472 - loss: 0.1442 - precision: 0.9439 - recall: 0.9506 - val_accuracy: 0.9839 - val_auc: 0.9986 - val_f1_score: 0.9838 - val_loss: 0.0727 - val_precision: 0.9838 - val_recall: 0.9838 - learning_rate: 1.0000e-04\n",
            "Epoch 3/20\n",
            "\u001b[1m419/419\u001b[0m \u001b[32m━━━━━━━━━━━━━━━━━━━━\u001b[0m\u001b[37m\u001b[0m \u001b[1m0s\u001b[0m 570ms/step - accuracy: 0.9708 - auc: 0.9960 - f1_score: 0.9704 - loss: 0.0875 - precision: 0.9669 - recall: 0.9740\n",
            "Epoch 3: val_auc improved from 0.99862 to 0.99957, saving model to /content/drive/MyDrive/projectImages/resnet50_finetune/checkpoint.h5\n"
          ]
        },
        {
          "output_type": "stream",
          "name": "stderr",
          "text": [
            "WARNING:absl:You are saving your model as an HDF5 file via `model.save()` or `keras.saving.save_model(model)`. This file format is considered legacy. We recommend using instead the native Keras format, e.g. `model.save('my_model.keras')` or `keras.saving.save_model(model, 'my_model.keras')`. \n"
          ]
        },
        {
          "output_type": "stream",
          "name": "stdout",
          "text": [
            "\b\b\b\b\b\b\b\b\b\b\b\b\b\b\b\b\b\b\b\b\b\b\b\b\b\b\b\b\b\b\b\b\b\b\b\b\b\b\b\b\b\b\b\b\b\b\b\b\b\b\b\b\b\b\b\b\b\b\b\b\b\b\b\b\b\b\b\b\b\b\b\b\b\b\b\b\b\b\b\b\b\b\b\b\b\b\b\b\b\b\b\b\b\b\b\b\b\b\b\b\b\b\b\b\b\b\b\b\b\b\b\b\b\b\b\b\b\b\b\b\b\b\b\b\b\b\b\b\b\b\b\b\b\b\b\b\b\b\b\b\b\b\b\b\b\b\r\u001b[1m419/419\u001b[0m \u001b[32m━━━━━━━━━━━━━━━━━━━━\u001b[0m\u001b[37m\u001b[0m \u001b[1m267s\u001b[0m 637ms/step - accuracy: 0.9708 - auc: 0.9960 - f1_score: 0.9704 - loss: 0.0875 - precision: 0.9669 - recall: 0.9740 - val_accuracy: 0.9879 - val_auc: 0.9996 - val_f1_score: 0.9878 - val_loss: 0.0517 - val_precision: 0.9945 - val_recall: 0.9812 - learning_rate: 1.0000e-04\n",
            "Epoch 4/20\n",
            "\u001b[1m419/419\u001b[0m \u001b[32m━━━━━━━━━━━━━━━━━━━━\u001b[0m\u001b[37m\u001b[0m \u001b[1m0s\u001b[0m 567ms/step - accuracy: 0.9719 - auc: 0.9965 - f1_score: 0.9721 - loss: 0.0768 - precision: 0.9710 - recall: 0.9732\n",
            "Epoch 4: val_auc did not improve from 0.99957\n",
            "\u001b[1m419/419\u001b[0m \u001b[32m━━━━━━━━━━━━━━━━━━━━\u001b[0m\u001b[37m\u001b[0m \u001b[1m264s\u001b[0m 630ms/step - accuracy: 0.9719 - auc: 0.9965 - f1_score: 0.9721 - loss: 0.0768 - precision: 0.9710 - recall: 0.9732 - val_accuracy: 0.9819 - val_auc: 0.9993 - val_f1_score: 0.9815 - val_loss: 0.0571 - val_precision: 0.9972 - val_recall: 0.9664 - learning_rate: 1.0000e-04\n",
            "Epoch 5/20\n",
            "\u001b[1m419/419\u001b[0m \u001b[32m━━━━━━━━━━━━━━━━━━━━\u001b[0m\u001b[37m\u001b[0m \u001b[1m0s\u001b[0m 559ms/step - accuracy: 0.9767 - auc: 0.9973 - f1_score: 0.9769 - loss: 0.0667 - precision: 0.9740 - recall: 0.9798\n",
            "Epoch 5: val_auc improved from 0.99957 to 0.99990, saving model to /content/drive/MyDrive/projectImages/resnet50_finetune/checkpoint.h5\n"
          ]
        },
        {
          "output_type": "stream",
          "name": "stderr",
          "text": [
            "WARNING:absl:You are saving your model as an HDF5 file via `model.save()` or `keras.saving.save_model(model)`. This file format is considered legacy. We recommend using instead the native Keras format, e.g. `model.save('my_model.keras')` or `keras.saving.save_model(model, 'my_model.keras')`. \n"
          ]
        },
        {
          "output_type": "stream",
          "name": "stdout",
          "text": [
            "\b\b\b\b\b\b\b\b\b\b\b\b\b\b\b\b\b\b\b\b\b\b\b\b\b\b\b\b\b\b\b\b\b\b\b\b\b\b\b\b\b\b\b\b\b\b\b\b\b\b\b\b\b\b\b\b\b\b\b\b\b\b\b\b\b\b\b\b\b\b\b\b\b\b\b\b\b\b\b\b\b\b\b\b\b\b\b\b\b\b\b\b\b\b\b\b\b\b\b\b\b\b\b\b\b\b\b\b\b\b\b\b\b\b\b\b\b\b\b\b\b\b\b\b\b\b\b\b\b\b\b\b\b\b\b\b\b\b\b\b\b\b\b\b\b\b\r\u001b[1m419/419\u001b[0m \u001b[32m━━━━━━━━━━━━━━━━━━━━\u001b[0m\u001b[37m\u001b[0m \u001b[1m322s\u001b[0m 629ms/step - accuracy: 0.9767 - auc: 0.9973 - f1_score: 0.9769 - loss: 0.0666 - precision: 0.9740 - recall: 0.9798 - val_accuracy: 0.9933 - val_auc: 0.9999 - val_f1_score: 0.9933 - val_loss: 0.0296 - val_precision: 0.9959 - val_recall: 0.9906 - learning_rate: 1.0000e-04\n",
            "Epoch 6/20\n",
            "\u001b[1m419/419\u001b[0m \u001b[32m━━━━━━━━━━━━━━━━━━━━\u001b[0m\u001b[37m\u001b[0m \u001b[1m0s\u001b[0m 557ms/step - accuracy: 0.9788 - auc: 0.9966 - f1_score: 0.9790 - loss: 0.0654 - precision: 0.9762 - recall: 0.9819\n",
            "Epoch 6: val_auc did not improve from 0.99990\n",
            "\u001b[1m419/419\u001b[0m \u001b[32m━━━━━━━━━━━━━━━━━━━━\u001b[0m\u001b[37m\u001b[0m \u001b[1m275s\u001b[0m 655ms/step - accuracy: 0.9788 - auc: 0.9966 - f1_score: 0.9790 - loss: 0.0654 - precision: 0.9762 - recall: 0.9819 - val_accuracy: 0.9872 - val_auc: 0.9992 - val_f1_score: 0.9872 - val_loss: 0.0446 - val_precision: 0.9918 - val_recall: 0.9825 - learning_rate: 1.0000e-04\n",
            "Epoch 7/20\n",
            "\u001b[1m419/419\u001b[0m \u001b[32m━━━━━━━━━━━━━━━━━━━━\u001b[0m\u001b[37m\u001b[0m \u001b[1m0s\u001b[0m 559ms/step - accuracy: 0.9794 - auc: 0.9982 - f1_score: 0.9793 - loss: 0.0550 - precision: 0.9787 - recall: 0.9799\n",
            "Epoch 7: val_auc did not improve from 0.99990\n",
            "\u001b[1m419/419\u001b[0m \u001b[32m━━━━━━━━━━━━━━━━━━━━\u001b[0m\u001b[37m\u001b[0m \u001b[1m260s\u001b[0m 621ms/step - accuracy: 0.9794 - auc: 0.9982 - f1_score: 0.9793 - loss: 0.0550 - precision: 0.9787 - recall: 0.9799 - val_accuracy: 0.9906 - val_auc: 0.9995 - val_f1_score: 0.9906 - val_loss: 0.0329 - val_precision: 0.9906 - val_recall: 0.9906 - learning_rate: 1.0000e-04\n",
            "Epoch 8/20\n",
            "\u001b[1m419/419\u001b[0m \u001b[32m━━━━━━━━━━━━━━━━━━━━\u001b[0m\u001b[37m\u001b[0m \u001b[1m0s\u001b[0m 558ms/step - accuracy: 0.9846 - auc: 0.9988 - f1_score: 0.9846 - loss: 0.0441 - precision: 0.9854 - recall: 0.9839\n",
            "Epoch 8: val_auc did not improve from 0.99990\n",
            "\u001b[1m419/419\u001b[0m \u001b[32m━━━━━━━━━━━━━━━━━━━━\u001b[0m\u001b[37m\u001b[0m \u001b[1m260s\u001b[0m 620ms/step - accuracy: 0.9846 - auc: 0.9988 - f1_score: 0.9846 - loss: 0.0441 - precision: 0.9854 - recall: 0.9839 - val_accuracy: 0.9906 - val_auc: 0.9997 - val_f1_score: 0.9906 - val_loss: 0.0287 - val_precision: 0.9880 - val_recall: 0.9933 - learning_rate: 1.0000e-04\n",
            "Epoch 9/20\n",
            "\u001b[1m419/419\u001b[0m \u001b[32m━━━━━━━━━━━━━━━━━━━━\u001b[0m\u001b[37m\u001b[0m \u001b[1m0s\u001b[0m 551ms/step - accuracy: 0.9848 - auc: 0.9987 - f1_score: 0.9848 - loss: 0.0453 - precision: 0.9835 - recall: 0.9862\n",
            "Epoch 9: val_auc did not improve from 0.99990\n",
            "\u001b[1m419/419\u001b[0m \u001b[32m━━━━━━━━━━━━━━━━━━━━\u001b[0m\u001b[37m\u001b[0m \u001b[1m257s\u001b[0m 612ms/step - accuracy: 0.9848 - auc: 0.9987 - f1_score: 0.9848 - loss: 0.0453 - precision: 0.9835 - recall: 0.9862 - val_accuracy: 0.9933 - val_auc: 0.9996 - val_f1_score: 0.9933 - val_loss: 0.0298 - val_precision: 0.9933 - val_recall: 0.9933 - learning_rate: 1.0000e-04\n",
            "Epoch 10/20\n",
            "\u001b[1m419/419\u001b[0m \u001b[32m━━━━━━━━━━━━━━━━━━━━\u001b[0m\u001b[37m\u001b[0m \u001b[1m0s\u001b[0m 561ms/step - accuracy: 0.9852 - auc: 0.9988 - f1_score: 0.9853 - loss: 0.0434 - precision: 0.9836 - recall: 0.9870\n",
            "Epoch 10: val_auc did not improve from 0.99990\n",
            "\u001b[1m419/419\u001b[0m \u001b[32m━━━━━━━━━━━━━━━━━━━━\u001b[0m\u001b[37m\u001b[0m \u001b[1m261s\u001b[0m 623ms/step - accuracy: 0.9852 - auc: 0.9988 - f1_score: 0.9853 - loss: 0.0434 - precision: 0.9836 - recall: 0.9870 - val_accuracy: 0.9913 - val_auc: 0.9997 - val_f1_score: 0.9913 - val_loss: 0.0270 - val_precision: 0.9893 - val_recall: 0.9933 - learning_rate: 1.0000e-04\n",
            "Epoch 11/20\n",
            "\u001b[1m419/419\u001b[0m \u001b[32m━━━━━━━━━━━━━━━━━━━━\u001b[0m\u001b[37m\u001b[0m \u001b[1m0s\u001b[0m 557ms/step - accuracy: 0.9871 - auc: 0.9990 - f1_score: 0.9873 - loss: 0.0372 - precision: 0.9863 - recall: 0.9883\n",
            "Epoch 11: val_auc did not improve from 0.99990\n",
            "\u001b[1m419/419\u001b[0m \u001b[32m━━━━━━━━━━━━━━━━━━━━\u001b[0m\u001b[37m\u001b[0m \u001b[1m275s\u001b[0m 656ms/step - accuracy: 0.9871 - auc: 0.9990 - f1_score: 0.9873 - loss: 0.0371 - precision: 0.9863 - recall: 0.9883 - val_accuracy: 0.9899 - val_auc: 0.9995 - val_f1_score: 0.9898 - val_loss: 0.0342 - val_precision: 0.9959 - val_recall: 0.9838 - learning_rate: 1.0000e-04\n",
            "Epoch 12/20\n",
            "\u001b[1m419/419\u001b[0m \u001b[32m━━━━━━━━━━━━━━━━━━━━\u001b[0m\u001b[37m\u001b[0m \u001b[1m0s\u001b[0m 573ms/step - accuracy: 0.9860 - auc: 0.9988 - f1_score: 0.9860 - loss: 0.0386 - precision: 0.9849 - recall: 0.9871\n",
            "Epoch 12: val_auc did not improve from 0.99990\n",
            "\u001b[1m419/419\u001b[0m \u001b[32m━━━━━━━━━━━━━━━━━━━━\u001b[0m\u001b[37m\u001b[0m \u001b[1m267s\u001b[0m 637ms/step - accuracy: 0.9860 - auc: 0.9988 - f1_score: 0.9860 - loss: 0.0386 - precision: 0.9849 - recall: 0.9871 - val_accuracy: 0.9926 - val_auc: 0.9998 - val_f1_score: 0.9926 - val_loss: 0.0226 - val_precision: 0.9919 - val_recall: 0.9933 - learning_rate: 1.0000e-04\n",
            "Epoch 13/20\n",
            "\u001b[1m419/419\u001b[0m \u001b[32m━━━━━━━━━━━━━━━━━━━━\u001b[0m\u001b[37m\u001b[0m \u001b[1m0s\u001b[0m 567ms/step - accuracy: 0.9884 - auc: 0.9993 - f1_score: 0.9882 - loss: 0.0325 - precision: 0.9860 - recall: 0.9904\n",
            "Epoch 13: val_auc did not improve from 0.99990\n",
            "\u001b[1m419/419\u001b[0m \u001b[32m━━━━━━━━━━━━━━━━━━━━\u001b[0m\u001b[37m\u001b[0m \u001b[1m263s\u001b[0m 628ms/step - accuracy: 0.9884 - auc: 0.9993 - f1_score: 0.9882 - loss: 0.0325 - precision: 0.9860 - recall: 0.9904 - val_accuracy: 0.9933 - val_auc: 0.9999 - val_f1_score: 0.9933 - val_loss: 0.0187 - val_precision: 0.9946 - val_recall: 0.9919 - learning_rate: 1.0000e-04\n",
            "Epoch 14/20\n",
            "\u001b[1m419/419\u001b[0m \u001b[32m━━━━━━━━━━━━━━━━━━━━\u001b[0m\u001b[37m\u001b[0m \u001b[1m0s\u001b[0m 560ms/step - accuracy: 0.9866 - auc: 0.9989 - f1_score: 0.9866 - loss: 0.0394 - precision: 0.9855 - recall: 0.9878\n",
            "Epoch 14: val_auc did not improve from 0.99990\n",
            "\u001b[1m419/419\u001b[0m \u001b[32m━━━━━━━━━━━━━━━━━━━━\u001b[0m\u001b[37m\u001b[0m \u001b[1m319s\u001b[0m 621ms/step - accuracy: 0.9866 - auc: 0.9989 - f1_score: 0.9866 - loss: 0.0394 - precision: 0.9855 - recall: 0.9878 - val_accuracy: 0.9940 - val_auc: 0.9998 - val_f1_score: 0.9939 - val_loss: 0.0276 - val_precision: 1.0000 - val_recall: 0.9879 - learning_rate: 1.0000e-04\n",
            "Epoch 15/20\n",
            "\u001b[1m419/419\u001b[0m \u001b[32m━━━━━━━━━━━━━━━━━━━━\u001b[0m\u001b[37m\u001b[0m \u001b[1m0s\u001b[0m 558ms/step - accuracy: 0.9866 - auc: 0.9990 - f1_score: 0.9865 - loss: 0.0366 - precision: 0.9854 - recall: 0.9875\n",
            "Epoch 15: val_auc improved from 0.99990 to 0.99993, saving model to /content/drive/MyDrive/projectImages/resnet50_finetune/checkpoint.h5\n"
          ]
        },
        {
          "output_type": "stream",
          "name": "stderr",
          "text": [
            "WARNING:absl:You are saving your model as an HDF5 file via `model.save()` or `keras.saving.save_model(model)`. This file format is considered legacy. We recommend using instead the native Keras format, e.g. `model.save('my_model.keras')` or `keras.saving.save_model(model, 'my_model.keras')`. \n"
          ]
        },
        {
          "output_type": "stream",
          "name": "stdout",
          "text": [
            "\b\b\b\b\b\b\b\b\b\b\b\b\b\b\b\b\b\b\b\b\b\b\b\b\b\b\b\b\b\b\b\b\b\b\b\b\b\b\b\b\b\b\b\b\b\b\b\b\b\b\b\b\b\b\b\b\b\b\b\b\b\b\b\b\b\b\b\b\b\b\b\b\b\b\b\b\b\b\b\b\b\b\b\b\b\b\b\b\b\b\b\b\b\b\b\b\b\b\b\b\b\b\b\b\b\b\b\b\b\b\b\b\b\b\b\b\b\b\b\b\b\b\b\b\b\b\b\b\b\b\b\b\b\b\b\b\b\b\b\b\b\b\b\b\b\b\r\u001b[1m419/419\u001b[0m \u001b[32m━━━━━━━━━━━━━━━━━━━━\u001b[0m\u001b[37m\u001b[0m \u001b[1m263s\u001b[0m 626ms/step - accuracy: 0.9866 - auc: 0.9990 - f1_score: 0.9865 - loss: 0.0366 - precision: 0.9854 - recall: 0.9875 - val_accuracy: 0.9946 - val_auc: 0.9999 - val_f1_score: 0.9946 - val_loss: 0.0238 - val_precision: 1.0000 - val_recall: 0.9892 - learning_rate: 1.0000e-04\n",
            "Epoch 16/20\n",
            "\u001b[1m419/419\u001b[0m \u001b[32m━━━━━━━━━━━━━━━━━━━━\u001b[0m\u001b[37m\u001b[0m \u001b[1m0s\u001b[0m 555ms/step - accuracy: 0.9891 - auc: 0.9994 - f1_score: 0.9891 - loss: 0.0298 - precision: 0.9901 - recall: 0.9881\n",
            "Epoch 16: val_auc did not improve from 0.99993\n",
            "\n",
            "Epoch 16: ReduceLROnPlateau reducing learning rate to 4.999999873689376e-05.\n",
            "\u001b[1m419/419\u001b[0m \u001b[32m━━━━━━━━━━━━━━━━━━━━\u001b[0m\u001b[37m\u001b[0m \u001b[1m258s\u001b[0m 616ms/step - accuracy: 0.9891 - auc: 0.9994 - f1_score: 0.9891 - loss: 0.0298 - precision: 0.9901 - recall: 0.9881 - val_accuracy: 0.9899 - val_auc: 0.9998 - val_f1_score: 0.9899 - val_loss: 0.0237 - val_precision: 0.9932 - val_recall: 0.9865 - learning_rate: 1.0000e-04\n",
            "Epoch 17/20\n",
            "\u001b[1m419/419\u001b[0m \u001b[32m━━━━━━━━━━━━━━━━━━━━\u001b[0m\u001b[37m\u001b[0m \u001b[1m0s\u001b[0m 552ms/step - accuracy: 0.9860 - auc: 0.9992 - f1_score: 0.9857 - loss: 0.0353 - precision: 0.9858 - recall: 0.9856\n",
            "Epoch 17: val_auc did not improve from 0.99993\n",
            "\u001b[1m419/419\u001b[0m \u001b[32m━━━━━━━━━━━━━━━━━━━━\u001b[0m\u001b[37m\u001b[0m \u001b[1m257s\u001b[0m 613ms/step - accuracy: 0.9860 - auc: 0.9992 - f1_score: 0.9857 - loss: 0.0353 - precision: 0.9858 - recall: 0.9856 - val_accuracy: 0.9946 - val_auc: 0.9999 - val_f1_score: 0.9946 - val_loss: 0.0191 - val_precision: 0.9973 - val_recall: 0.9919 - learning_rate: 5.0000e-05\n",
            "Epoch 18/20\n",
            "\u001b[1m419/419\u001b[0m \u001b[32m━━━━━━━━━━━━━━━━━━━━\u001b[0m\u001b[37m\u001b[0m \u001b[1m0s\u001b[0m 549ms/step - accuracy: 0.9913 - auc: 0.9994 - f1_score: 0.9913 - loss: 0.0291 - precision: 0.9907 - recall: 0.9920\n",
            "Epoch 18: val_auc did not improve from 0.99993\n",
            "\u001b[1m419/419\u001b[0m \u001b[32m━━━━━━━━━━━━━━━━━━━━\u001b[0m\u001b[37m\u001b[0m \u001b[1m256s\u001b[0m 611ms/step - accuracy: 0.9913 - auc: 0.9994 - f1_score: 0.9913 - loss: 0.0291 - precision: 0.9907 - recall: 0.9920 - val_accuracy: 0.9953 - val_auc: 0.9999 - val_f1_score: 0.9953 - val_loss: 0.0172 - val_precision: 0.9973 - val_recall: 0.9933 - learning_rate: 5.0000e-05\n",
            "Epoch 19/20\n",
            "\u001b[1m419/419\u001b[0m \u001b[32m━━━━━━━━━━━━━━━━━━━━\u001b[0m\u001b[37m\u001b[0m \u001b[1m0s\u001b[0m 552ms/step - accuracy: 0.9911 - auc: 0.9991 - f1_score: 0.9911 - loss: 0.0280 - precision: 0.9907 - recall: 0.9916\n",
            "Epoch 19: val_auc did not improve from 0.99993\n",
            "\u001b[1m419/419\u001b[0m \u001b[32m━━━━━━━━━━━━━━━━━━━━\u001b[0m\u001b[37m\u001b[0m \u001b[1m257s\u001b[0m 614ms/step - accuracy: 0.9911 - auc: 0.9991 - f1_score: 0.9911 - loss: 0.0280 - precision: 0.9907 - recall: 0.9916 - val_accuracy: 0.9919 - val_auc: 0.9998 - val_f1_score: 0.9919 - val_loss: 0.0210 - val_precision: 0.9933 - val_recall: 0.9906 - learning_rate: 5.0000e-05\n",
            "Epoch 20/20\n",
            "\u001b[1m419/419\u001b[0m \u001b[32m━━━━━━━━━━━━━━━━━━━━\u001b[0m\u001b[37m\u001b[0m \u001b[1m0s\u001b[0m 555ms/step - accuracy: 0.9896 - auc: 0.9995 - f1_score: 0.9896 - loss: 0.0290 - precision: 0.9895 - recall: 0.9896\n",
            "Epoch 20: val_auc did not improve from 0.99993\n",
            "\u001b[1m419/419\u001b[0m \u001b[32m━━━━━━━━━━━━━━━━━━━━\u001b[0m\u001b[37m\u001b[0m \u001b[1m258s\u001b[0m 617ms/step - accuracy: 0.9896 - auc: 0.9995 - f1_score: 0.9896 - loss: 0.0290 - precision: 0.9895 - recall: 0.9896 - val_accuracy: 0.9886 - val_auc: 0.9998 - val_f1_score: 0.9885 - val_loss: 0.0300 - val_precision: 0.9946 - val_recall: 0.9825 - learning_rate: 5.0000e-05\n",
            "Restoring model weights from the end of the best epoch: 18.\n"
          ]
        }
      ]
    },
    {
      "cell_type": "code",
      "source": [
        "# 4) Single evaluate call:\n",
        "results = model.evaluate(\n",
        "    test_generator,\n",
        "    steps=len(test_generator),\n",
        "    verbose=1,\n",
        "    return_dict=True\n",
        ")\n",
        "print(results)"
      ],
      "metadata": {
        "id": "5yHjwDwzkKdt",
        "colab": {
          "base_uri": "https://localhost:8080/"
        },
        "outputId": "52e596b6-4d5b-4e59-d45d-ba14f07f28bc"
      },
      "execution_count": null,
      "outputs": [
        {
          "output_type": "stream",
          "name": "stdout",
          "text": [
            "\u001b[1m52/52\u001b[0m \u001b[32m━━━━━━━━━━━━━━━━━━━━\u001b[0m\u001b[37m\u001b[0m \u001b[1m16s\u001b[0m 313ms/step - accuracy: 1.0000 - auc: 0.5283 - f1_score: 0.5283 - loss: 0.0016 - precision: 0.5283 - recall: 0.5283\n",
            "{'accuracy': 1.0, 'auc': 1.0000001192092896, 'f1_score': 1.0, 'loss': 0.0015415140660479665, 'precision': 1.0, 'recall': 1.0}\n"
          ]
        }
      ]
    },
    {
      "cell_type": "code",
      "source": [
        "# results = model.evaluate(\n",
        "#     test_generator,\n",
        "#     steps=len(test_generator),\n",
        "#     verbose=1\n",
        "# )\n",
        "\n",
        "# # See in what order they come back:\n",
        "# print(model.metrics_names)\n",
        "# # e.g. ['loss', 'accuracy', 'precision', 'recall', 'auc', 'f1_score']\n",
        "\n",
        "# loss, accuracy, precision, recall, auc, f1_score = results\n",
        "\n",
        "# print(f\"Test → loss: {loss:.4f}\")\n",
        "# print(f\"       accuracy: {accuracy:.3f}\")\n",
        "# print(f\"       precision: {precision:.3f}\")\n",
        "# print(f\"       recall: {recall:.3f}\")\n",
        "# print(f\"       AUC: {auc:.3f}\")\n",
        "# print(f\"       F1‑score: {f1_score:.3f}\")\n"
      ],
      "metadata": {
        "colab": {
          "base_uri": "https://localhost:8080/"
        },
        "id": "Cyeg3jHcXpZ6",
        "outputId": "229b9225-f9d2-40f7-db87-f7dd7b298212"
      },
      "execution_count": null,
      "outputs": [
        {
          "output_type": "stream",
          "name": "stdout",
          "text": [
            "\u001b[1m7/7\u001b[0m \u001b[32m━━━━━━━━━━━━━━━━━━━━\u001b[0m\u001b[37m\u001b[0m \u001b[1m4s\u001b[0m 597ms/step - accuracy: 1.0000 - auc: 0.6250 - f1_score: 0.6250 - loss: 0.0071 - precision: 0.6250 - recall: 0.6250\n",
            "['loss', 'compile_metrics']\n",
            "Test → loss: 0.0078\n",
            "       accuracy: 1.000\n",
            "       precision: 1.000\n",
            "       recall: 1.000\n",
            "       AUC: 1.000\n",
            "       F1‑score: 1.000\n"
          ]
        }
      ]
    },
    {
      "cell_type": "code",
      "source": [],
      "metadata": {
        "id": "Nfu7lO8dlGAl"
      },
      "execution_count": null,
      "outputs": []
    }
  ]
}