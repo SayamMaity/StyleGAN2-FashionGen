{
  "cells": [
    {
      "cell_type": "code",
      "execution_count": null,
      "metadata": {
        "colab": {
          "base_uri": "https://localhost:8080/"
        },
        "id": "MMJBJQ6u4kfv",
        "outputId": "e940f210-2cff-41af-bb8c-4667f64962a6"
      },
      "outputs": [
        {
          "output_type": "stream",
          "name": "stdout",
          "text": [
            "Drive already mounted at /content/drive; to attempt to forcibly remount, call drive.mount(\"/content/drive\", force_remount=True).\n"
          ]
        }
      ],
      "source": [
        "from google.colab import drive\n",
        "drive.mount('/content/drive')"
      ]
    },
    {
      "cell_type": "code",
      "source": [
        "import os\n",
        "\n",
        "output_base = '/content/drive/MyDrive/Filtered Fashion Images/Unzipped/dataset_split2'\n",
        "train_dir = os.path.join(output_base, 'train')\n",
        "test_dir = os.path.join(output_base, 'test')\n",
        "\n",
        "# Define subfolder paths\n",
        "folders = {\n",
        "    \"train_original\": os.path.join(train_dir, 'original'),\n",
        "    \"train_generated\": os.path.join(train_dir, 'generated'),\n",
        "    \"test_original\": os.path.join(test_dir, 'original'),\n",
        "    \"test_generated\": os.path.join(test_dir, 'generated'),\n",
        "}\n",
        "\n",
        "# Count images\n",
        "def count_images(folder_path):\n",
        "    return len([\n",
        "        f for f in os.listdir(folder_path)\n",
        "        if f.lower().endswith(('.jpg', '.jpeg', '.png'))\n",
        "    ])\n",
        "\n",
        "# Print counts\n",
        "for name, path in folders.items():\n",
        "    try:\n",
        "        count = count_images(path)\n",
        "        print(f\"{name}: {count} images\")\n",
        "    except Exception as e:\n",
        "        print(f\"Error reading {name}: {e}\")\n"
      ],
      "metadata": {
        "colab": {
          "base_uri": "https://localhost:8080/"
        },
        "id": "RwUMBQQYsFUg",
        "outputId": "093622e1-683a-4d47-d0c8-fcace324acb7"
      },
      "execution_count": null,
      "outputs": [
        {
          "output_type": "stream",
          "name": "stdout",
          "text": [
            "train_original: 7504 images\n",
            "train_generated: 7431 images\n",
            "test_original: 1141 images\n",
            "test_generated: 895 images\n"
          ]
        }
      ]
    },
    {
      "cell_type": "code",
      "execution_count": null,
      "metadata": {
        "id": "OdC3SCOQ5G13"
      },
      "outputs": [],
      "source": [
        "import tensorflow as tf\n",
        "from tensorflow.keras.preprocessing.image import ImageDataGenerator\n",
        "from tensorflow.keras.applications import VGG16\n",
        "from tensorflow.keras.applications.vgg16 import preprocess_input\n",
        "from tensorflow.keras import layers, models, optimizers, callbacks\n",
        "output_base = '/content/drive/MyDrive/Filtered Fashion Images/Unzipped/dataset_split'\n",
        "train_dir = os.path.join(output_base, 'train')\n",
        "test_dir  = os.path.join(output_base, 'test')\n",
        "IMG_SIZE = (224, 224)       #default input size is 224x224\n",
        "BATCH_SIZE = 32\n",
        "SEED = 42\n",
        "AUTOTUNE = tf.data.AUTOTUNE"
      ]
    },
    {
      "cell_type": "code",
      "execution_count": null,
      "metadata": {
        "colab": {
          "base_uri": "https://localhost:8080/"
        },
        "id": "ZUypD_eG5G3q",
        "outputId": "7e0c5346-0a31-49de-dbd7-32672e5b7944"
      },
      "outputs": [
        {
          "output_type": "stream",
          "name": "stdout",
          "text": [
            "Found 13497 images belonging to 2 classes.\n",
            "Found 1499 images belonging to 2 classes.\n",
            "Found 2072 images belonging to 2 classes.\n",
            "Class indices: {'generated': 0, 'original': 1}\n"
          ]
        }
      ],
      "source": [
        "train_datagen = ImageDataGenerator(\n",
        "    preprocessing_function=preprocess_input,  # <-- from VGG16 now\n",
        "    validation_split=0.1,\n",
        "    horizontal_flip=True,\n",
        ")\n",
        "\n",
        "test_datagen = ImageDataGenerator(\n",
        "    preprocessing_function=preprocess_input\n",
        ")\n",
        "\n",
        "train_generator = train_datagen.flow_from_directory(\n",
        "    train_dir,\n",
        "    target_size=IMG_SIZE,\n",
        "    batch_size=BATCH_SIZE,\n",
        "    class_mode='binary',\n",
        "    subset='training',\n",
        "    shuffle=True,\n",
        "    seed=SEED\n",
        ")\n",
        "validation_generator = train_datagen.flow_from_directory(\n",
        "    train_dir,\n",
        "    target_size=IMG_SIZE,\n",
        "    batch_size=BATCH_SIZE,\n",
        "    class_mode='binary',\n",
        "    subset='validation',\n",
        "    shuffle=False,\n",
        "    seed=SEED\n",
        ")\n",
        "\n",
        "\n",
        "test_generator = test_datagen.flow_from_directory(\n",
        "    test_dir,\n",
        "    target_size=IMG_SIZE,\n",
        "    batch_size=BATCH_SIZE,\n",
        "    class_mode='binary',\n",
        "    shuffle=False\n",
        ")\n",
        "\n",
        "print(\"Class indices:\", train_generator.class_indices)\n"
      ]
    },
    {
      "cell_type": "code",
      "execution_count": null,
      "metadata": {
        "colab": {
          "base_uri": "https://localhost:8080/",
          "height": 404
        },
        "id": "GCfOWQTj5G68",
        "outputId": "55aa0d54-8d31-4e36-c0c2-06435b1f326a"
      },
      "outputs": [
        {
          "output_type": "stream",
          "name": "stdout",
          "text": [
            "Downloading data from https://storage.googleapis.com/tensorflow/keras-applications/vgg16/vgg16_weights_tf_dim_ordering_tf_kernels_notop.h5\n",
            "\u001b[1m58889256/58889256\u001b[0m \u001b[32m━━━━━━━━━━━━━━━━━━━━\u001b[0m\u001b[37m\u001b[0m \u001b[1m4s\u001b[0m 0us/step\n"
          ]
        },
        {
          "output_type": "display_data",
          "data": {
            "text/plain": [
              "\u001b[1mModel: \"functional\"\u001b[0m\n"
            ],
            "text/html": [
              "<pre style=\"white-space:pre;overflow-x:auto;line-height:normal;font-family:Menlo,'DejaVu Sans Mono',consolas,'Courier New',monospace\"><span style=\"font-weight: bold\">Model: \"functional\"</span>\n",
              "</pre>\n"
            ]
          },
          "metadata": {}
        },
        {
          "output_type": "display_data",
          "data": {
            "text/plain": [
              "┏━━━━━━━━━━━━━━━━━━━━━━━━━━━━━━━━━┳━━━━━━━━━━━━━━━━━━━━━━━━┳━━━━━━━━━━━━━━━┓\n",
              "┃\u001b[1m \u001b[0m\u001b[1mLayer (type)                   \u001b[0m\u001b[1m \u001b[0m┃\u001b[1m \u001b[0m\u001b[1mOutput Shape          \u001b[0m\u001b[1m \u001b[0m┃\u001b[1m \u001b[0m\u001b[1m      Param #\u001b[0m\u001b[1m \u001b[0m┃\n",
              "┡━━━━━━━━━━━━━━━━━━━━━━━━━━━━━━━━━╇━━━━━━━━━━━━━━━━━━━━━━━━╇━━━━━━━━━━━━━━━┩\n",
              "│ input_layer_1 (\u001b[38;5;33mInputLayer\u001b[0m)      │ (\u001b[38;5;45mNone\u001b[0m, \u001b[38;5;34m224\u001b[0m, \u001b[38;5;34m224\u001b[0m, \u001b[38;5;34m3\u001b[0m)    │             \u001b[38;5;34m0\u001b[0m │\n",
              "├─────────────────────────────────┼────────────────────────┼───────────────┤\n",
              "│ vgg16 (\u001b[38;5;33mFunctional\u001b[0m)              │ (\u001b[38;5;45mNone\u001b[0m, \u001b[38;5;34m7\u001b[0m, \u001b[38;5;34m7\u001b[0m, \u001b[38;5;34m512\u001b[0m)      │    \u001b[38;5;34m14,714,688\u001b[0m │\n",
              "├─────────────────────────────────┼────────────────────────┼───────────────┤\n",
              "│ global_average_pooling2d        │ (\u001b[38;5;45mNone\u001b[0m, \u001b[38;5;34m512\u001b[0m)            │             \u001b[38;5;34m0\u001b[0m │\n",
              "│ (\u001b[38;5;33mGlobalAveragePooling2D\u001b[0m)        │                        │               │\n",
              "├─────────────────────────────────┼────────────────────────┼───────────────┤\n",
              "│ dropout (\u001b[38;5;33mDropout\u001b[0m)               │ (\u001b[38;5;45mNone\u001b[0m, \u001b[38;5;34m512\u001b[0m)            │             \u001b[38;5;34m0\u001b[0m │\n",
              "├─────────────────────────────────┼────────────────────────┼───────────────┤\n",
              "│ dense (\u001b[38;5;33mDense\u001b[0m)                   │ (\u001b[38;5;45mNone\u001b[0m, \u001b[38;5;34m128\u001b[0m)            │        \u001b[38;5;34m65,664\u001b[0m │\n",
              "├─────────────────────────────────┼────────────────────────┼───────────────┤\n",
              "│ dropout_1 (\u001b[38;5;33mDropout\u001b[0m)             │ (\u001b[38;5;45mNone\u001b[0m, \u001b[38;5;34m128\u001b[0m)            │             \u001b[38;5;34m0\u001b[0m │\n",
              "├─────────────────────────────────┼────────────────────────┼───────────────┤\n",
              "│ dense_1 (\u001b[38;5;33mDense\u001b[0m)                 │ (\u001b[38;5;45mNone\u001b[0m, \u001b[38;5;34m1\u001b[0m)              │           \u001b[38;5;34m129\u001b[0m │\n",
              "└─────────────────────────────────┴────────────────────────┴───────────────┘\n"
            ],
            "text/html": [
              "<pre style=\"white-space:pre;overflow-x:auto;line-height:normal;font-family:Menlo,'DejaVu Sans Mono',consolas,'Courier New',monospace\">┏━━━━━━━━━━━━━━━━━━━━━━━━━━━━━━━━━┳━━━━━━━━━━━━━━━━━━━━━━━━┳━━━━━━━━━━━━━━━┓\n",
              "┃<span style=\"font-weight: bold\"> Layer (type)                    </span>┃<span style=\"font-weight: bold\"> Output Shape           </span>┃<span style=\"font-weight: bold\">       Param # </span>┃\n",
              "┡━━━━━━━━━━━━━━━━━━━━━━━━━━━━━━━━━╇━━━━━━━━━━━━━━━━━━━━━━━━╇━━━━━━━━━━━━━━━┩\n",
              "│ input_layer_1 (<span style=\"color: #0087ff; text-decoration-color: #0087ff\">InputLayer</span>)      │ (<span style=\"color: #00d7ff; text-decoration-color: #00d7ff\">None</span>, <span style=\"color: #00af00; text-decoration-color: #00af00\">224</span>, <span style=\"color: #00af00; text-decoration-color: #00af00\">224</span>, <span style=\"color: #00af00; text-decoration-color: #00af00\">3</span>)    │             <span style=\"color: #00af00; text-decoration-color: #00af00\">0</span> │\n",
              "├─────────────────────────────────┼────────────────────────┼───────────────┤\n",
              "│ vgg16 (<span style=\"color: #0087ff; text-decoration-color: #0087ff\">Functional</span>)              │ (<span style=\"color: #00d7ff; text-decoration-color: #00d7ff\">None</span>, <span style=\"color: #00af00; text-decoration-color: #00af00\">7</span>, <span style=\"color: #00af00; text-decoration-color: #00af00\">7</span>, <span style=\"color: #00af00; text-decoration-color: #00af00\">512</span>)      │    <span style=\"color: #00af00; text-decoration-color: #00af00\">14,714,688</span> │\n",
              "├─────────────────────────────────┼────────────────────────┼───────────────┤\n",
              "│ global_average_pooling2d        │ (<span style=\"color: #00d7ff; text-decoration-color: #00d7ff\">None</span>, <span style=\"color: #00af00; text-decoration-color: #00af00\">512</span>)            │             <span style=\"color: #00af00; text-decoration-color: #00af00\">0</span> │\n",
              "│ (<span style=\"color: #0087ff; text-decoration-color: #0087ff\">GlobalAveragePooling2D</span>)        │                        │               │\n",
              "├─────────────────────────────────┼────────────────────────┼───────────────┤\n",
              "│ dropout (<span style=\"color: #0087ff; text-decoration-color: #0087ff\">Dropout</span>)               │ (<span style=\"color: #00d7ff; text-decoration-color: #00d7ff\">None</span>, <span style=\"color: #00af00; text-decoration-color: #00af00\">512</span>)            │             <span style=\"color: #00af00; text-decoration-color: #00af00\">0</span> │\n",
              "├─────────────────────────────────┼────────────────────────┼───────────────┤\n",
              "│ dense (<span style=\"color: #0087ff; text-decoration-color: #0087ff\">Dense</span>)                   │ (<span style=\"color: #00d7ff; text-decoration-color: #00d7ff\">None</span>, <span style=\"color: #00af00; text-decoration-color: #00af00\">128</span>)            │        <span style=\"color: #00af00; text-decoration-color: #00af00\">65,664</span> │\n",
              "├─────────────────────────────────┼────────────────────────┼───────────────┤\n",
              "│ dropout_1 (<span style=\"color: #0087ff; text-decoration-color: #0087ff\">Dropout</span>)             │ (<span style=\"color: #00d7ff; text-decoration-color: #00d7ff\">None</span>, <span style=\"color: #00af00; text-decoration-color: #00af00\">128</span>)            │             <span style=\"color: #00af00; text-decoration-color: #00af00\">0</span> │\n",
              "├─────────────────────────────────┼────────────────────────┼───────────────┤\n",
              "│ dense_1 (<span style=\"color: #0087ff; text-decoration-color: #0087ff\">Dense</span>)                 │ (<span style=\"color: #00d7ff; text-decoration-color: #00d7ff\">None</span>, <span style=\"color: #00af00; text-decoration-color: #00af00\">1</span>)              │           <span style=\"color: #00af00; text-decoration-color: #00af00\">129</span> │\n",
              "└─────────────────────────────────┴────────────────────────┴───────────────┘\n",
              "</pre>\n"
            ]
          },
          "metadata": {}
        },
        {
          "output_type": "display_data",
          "data": {
            "text/plain": [
              "\u001b[1m Total params: \u001b[0m\u001b[38;5;34m14,780,481\u001b[0m (56.38 MB)\n"
            ],
            "text/html": [
              "<pre style=\"white-space:pre;overflow-x:auto;line-height:normal;font-family:Menlo,'DejaVu Sans Mono',consolas,'Courier New',monospace\"><span style=\"font-weight: bold\"> Total params: </span><span style=\"color: #00af00; text-decoration-color: #00af00\">14,780,481</span> (56.38 MB)\n",
              "</pre>\n"
            ]
          },
          "metadata": {}
        },
        {
          "output_type": "display_data",
          "data": {
            "text/plain": [
              "\u001b[1m Trainable params: \u001b[0m\u001b[38;5;34m65,793\u001b[0m (257.00 KB)\n"
            ],
            "text/html": [
              "<pre style=\"white-space:pre;overflow-x:auto;line-height:normal;font-family:Menlo,'DejaVu Sans Mono',consolas,'Courier New',monospace\"><span style=\"font-weight: bold\"> Trainable params: </span><span style=\"color: #00af00; text-decoration-color: #00af00\">65,793</span> (257.00 KB)\n",
              "</pre>\n"
            ]
          },
          "metadata": {}
        },
        {
          "output_type": "display_data",
          "data": {
            "text/plain": [
              "\u001b[1m Non-trainable params: \u001b[0m\u001b[38;5;34m14,714,688\u001b[0m (56.13 MB)\n"
            ],
            "text/html": [
              "<pre style=\"white-space:pre;overflow-x:auto;line-height:normal;font-family:Menlo,'DejaVu Sans Mono',consolas,'Courier New',monospace\"><span style=\"font-weight: bold\"> Non-trainable params: </span><span style=\"color: #00af00; text-decoration-color: #00af00\">14,714,688</span> (56.13 MB)\n",
              "</pre>\n"
            ]
          },
          "metadata": {}
        }
      ],
      "source": [
        "#build vgg16 model\n",
        "from tensorflow.keras.regularizers import l2\n",
        "base_model = VGG16(\n",
        "    input_shape=(IMG_SIZE[0], IMG_SIZE[1], 3),\n",
        "    include_top=False,\n",
        "    weights='imagenet'\n",
        ")\n",
        "base_model.trainable = False\n",
        "inputs = layers.Input(shape=(IMG_SIZE[0], IMG_SIZE[1], 3))\n",
        "x = base_model(inputs, training=False)\n",
        "x = layers.GlobalAveragePooling2D()(x)\n",
        "x = layers.Dropout(0.3)(x)\n",
        "x = layers.Dense(128, activation='relu',kernel_regularizer=l2(0.01))(x)\n",
        "x = layers.Dropout(0.3)(x)\n",
        "outputs = layers.Dense(1, activation='sigmoid')(x)\n",
        "model = models.Model(inputs, outputs)\n",
        "model.summary()"
      ]
    },
    {
      "cell_type": "code",
      "execution_count": null,
      "metadata": {
        "id": "otk1TGr75G9a"
      },
      "outputs": [],
      "source": [
        "class F1Score(tf.keras.metrics.Metric):\n",
        "    def __init__(self, name='f1_score', **kwargs):\n",
        "        super(F1Score, self).__init__(name=name, **kwargs)\n",
        "        self.precision = tf.keras.metrics.Precision()\n",
        "        self.recall = tf.keras.metrics.Recall()\n",
        "\n",
        "    def update_state(self, y_true, y_pred, sample_weight=None):\n",
        "        self.precision.update_state(y_true, y_pred, sample_weight)\n",
        "        self.recall.update_state(y_true, y_pred, sample_weight)\n",
        "\n",
        "    def result(self):\n",
        "        p = self.precision.result()\n",
        "        r = self.recall.result()\n",
        "        return 2 * ((p * r) / (p + r + tf.keras.backend.epsilon()))\n",
        "\n",
        "    def reset_states(self):\n",
        "        self.precision.reset_states()\n",
        "        self.recall.reset_states()\n",
        "\n",
        "model.compile(\n",
        "    optimizer=optimizers.Adam(learning_rate=1e-4),\n",
        "    loss='binary_crossentropy',\n",
        "    metrics=['accuracy',\n",
        "\n",
        "             tf.keras.metrics.Precision(name='precision'),\n",
        "             tf.keras.metrics.Recall(name='recall'),\n",
        "             tf.keras.metrics.AUC(name='auc'),\n",
        "             F1Score(name='f1_score')],\n",
        ")"
      ]
    },
    {
      "cell_type": "code",
      "execution_count": null,
      "metadata": {
        "id": "fn2FgKTD5HBF"
      },
      "outputs": [],
      "source": [
        "# 4. Callbacks\n",
        "checkpoint_path = '/content/drive/MyDrive/vgg16_finetune(1aain)/checkpoint.h5'\n",
        "os.makedirs(os.path.dirname(checkpoint_path), exist_ok=True)\n",
        "checkpoint_cb = callbacks.ModelCheckpoint(\n",
        "    filepath=checkpoint_path,\n",
        "    monitor='val_auc',\n",
        "    mode='max',\n",
        "    save_best_only=True,\n",
        "    verbose=1\n",
        ")\n",
        "earlystop_cb = callbacks.EarlyStopping(\n",
        "    monitor='val_loss',\n",
        "    patience=5,\n",
        "    restore_best_weights=True,\n",
        "    verbose=1\n",
        ")"
      ]
    },
    {
      "cell_type": "code",
      "source": [
        "!pip install keras-tqdm"
      ],
      "metadata": {
        "colab": {
          "base_uri": "https://localhost:8080/"
        },
        "id": "R9f01tRDyMiG",
        "outputId": "d1a68eff-b8b6-42a7-c37e-113058566330"
      },
      "execution_count": null,
      "outputs": [
        {
          "output_type": "stream",
          "name": "stdout",
          "text": [
            "Requirement already satisfied: keras-tqdm in /usr/local/lib/python3.11/dist-packages (2.0.1)\n",
            "Requirement already satisfied: Keras in /usr/local/lib/python3.11/dist-packages (from keras-tqdm) (3.8.0)\n",
            "Requirement already satisfied: tqdm in /usr/local/lib/python3.11/dist-packages (from keras-tqdm) (4.67.1)\n",
            "Requirement already satisfied: absl-py in /usr/local/lib/python3.11/dist-packages (from Keras->keras-tqdm) (1.4.0)\n",
            "Requirement already satisfied: numpy in /usr/local/lib/python3.11/dist-packages (from Keras->keras-tqdm) (2.0.2)\n",
            "Requirement already satisfied: rich in /usr/local/lib/python3.11/dist-packages (from Keras->keras-tqdm) (13.9.4)\n",
            "Requirement already satisfied: namex in /usr/local/lib/python3.11/dist-packages (from Keras->keras-tqdm) (0.1.0)\n",
            "Requirement already satisfied: h5py in /usr/local/lib/python3.11/dist-packages (from Keras->keras-tqdm) (3.13.0)\n",
            "Requirement already satisfied: optree in /usr/local/lib/python3.11/dist-packages (from Keras->keras-tqdm) (0.16.0)\n",
            "Requirement already satisfied: ml-dtypes in /usr/local/lib/python3.11/dist-packages (from Keras->keras-tqdm) (0.4.1)\n",
            "Requirement already satisfied: packaging in /usr/local/lib/python3.11/dist-packages (from Keras->keras-tqdm) (24.2)\n",
            "Requirement already satisfied: typing-extensions>=4.6.0 in /usr/local/lib/python3.11/dist-packages (from optree->Keras->keras-tqdm) (4.14.0)\n",
            "Requirement already satisfied: markdown-it-py>=2.2.0 in /usr/local/lib/python3.11/dist-packages (from rich->Keras->keras-tqdm) (3.0.0)\n",
            "Requirement already satisfied: pygments<3.0.0,>=2.13.0 in /usr/local/lib/python3.11/dist-packages (from rich->Keras->keras-tqdm) (2.19.1)\n",
            "Requirement already satisfied: mdurl~=0.1 in /usr/local/lib/python3.11/dist-packages (from markdown-it-py>=2.2.0->rich->Keras->keras-tqdm) (0.1.2)\n"
          ]
        }
      ]
    },
    {
      "cell_type": "code",
      "execution_count": null,
      "metadata": {
        "colab": {
          "base_uri": "https://localhost:8080/"
        },
        "id": "ouTlFtVS5HCq",
        "outputId": "2547d43e-adf1-427f-cfdc-cfee64c0de12"
      },
      "outputs": [
        {
          "output_type": "stream",
          "name": "stdout",
          "text": [
            "Epoch 1/20\n",
            "\u001b[1m140/140\u001b[0m \u001b[32m━━━━━━━━━━━━━━━━━━━━\u001b[0m\u001b[37m\u001b[0m \u001b[1m0s\u001b[0m 265ms/step - accuracy: 0.5709 - auc: 0.5927 - f1_score: 0.4850 - loss: 4.1624 - precision: 0.6100 - recall: 0.4293\n",
            "Epoch 1: val_auc improved from -inf to 0.00000, saving model to /content/drive/MyDrive/vgg16_finetune(1aain)/checkpoint.h5\n"
          ]
        },
        {
          "output_type": "stream",
          "name": "stderr",
          "text": [
            "WARNING:absl:You are saving your model as an HDF5 file via `model.save()` or `keras.saving.save_model(model)`. This file format is considered legacy. We recommend using instead the native Keras format, e.g. `model.save('my_model.keras')` or `keras.saving.save_model(model, 'my_model.keras')`. \n"
          ]
        },
        {
          "output_type": "stream",
          "name": "stdout",
          "text": [
            "\b\b\b\b\b\b\b\b\b\b\b\b\b\b\b\b\b\b\b\b\b\b\b\b\b\b\b\b\b\b\b\b\b\b\b\b\b\b\b\b\b\b\b\b\b\b\b\b\b\b\b\b\b\b\b\b\b\b\b\b\b\b\b\b\b\b\b\b\b\b\b\b\b\b\b\b\b\b\b\b\b\b\b\b\b\b\b\b\b\b\b\b\b\b\b\b\b\b\b\b\b\b\b\b\b\b\b\b\b\b\b\b\b\b\b\b\b\b\b\b\b\b\b\b\b\b\b\b\b\b\b\b\b\b\b\b\b\b\b\b\b\b\b\b\b\b\r\u001b[1m140/140\u001b[0m \u001b[32m━━━━━━━━━━━━━━━━━━━━\u001b[0m\u001b[37m\u001b[0m \u001b[1m45s\u001b[0m 318ms/step - accuracy: 0.5714 - auc: 0.5933 - f1_score: 0.4861 - loss: 4.1564 - precision: 0.6104 - recall: 0.4306 - val_accuracy: 0.8917 - val_auc: 0.0000e+00 - val_f1_score: 0.0000e+00 - val_loss: 2.1733 - val_precision: 0.0000e+00 - val_recall: 0.0000e+00\n",
            "Epoch 2/20\n",
            "\u001b[1m140/140\u001b[0m \u001b[32m━━━━━━━━━━━━━━━━━━━━\u001b[0m\u001b[37m\u001b[0m \u001b[1m0s\u001b[0m 243ms/step - accuracy: 0.7958 - auc: 0.8753 - f1_score: 0.8033 - loss: 2.3851 - precision: 0.7845 - recall: 0.8234\n",
            "Epoch 2: val_auc did not improve from 0.00000\n",
            "\u001b[1m140/140\u001b[0m \u001b[32m━━━━━━━━━━━━━━━━━━━━\u001b[0m\u001b[37m\u001b[0m \u001b[1m38s\u001b[0m 274ms/step - accuracy: 0.7960 - auc: 0.8755 - f1_score: 0.8035 - loss: 2.3842 - precision: 0.7847 - recall: 0.8235 - val_accuracy: 0.9563 - val_auc: 0.0000e+00 - val_f1_score: 0.0000e+00 - val_loss: 1.9263 - val_precision: 0.0000e+00 - val_recall: 0.0000e+00\n",
            "Epoch 3/20\n",
            "\u001b[1m140/140\u001b[0m \u001b[32m━━━━━━━━━━━━━━━━━━━━\u001b[0m\u001b[37m\u001b[0m \u001b[1m0s\u001b[0m 314ms/step - accuracy: 0.8705 - auc: 0.9398 - f1_score: 0.8717 - loss: 2.0207 - precision: 0.8598 - recall: 0.8841\n",
            "Epoch 3: val_auc did not improve from 0.00000\n",
            "\u001b[1m140/140\u001b[0m \u001b[32m━━━━━━━━━━━━━━━━━━━━\u001b[0m\u001b[37m\u001b[0m \u001b[1m47s\u001b[0m 338ms/step - accuracy: 0.8706 - auc: 0.9398 - f1_score: 0.8718 - loss: 2.0202 - precision: 0.8599 - recall: 0.8842 - val_accuracy: 0.9792 - val_auc: 0.0000e+00 - val_f1_score: 0.0000e+00 - val_loss: 1.7224 - val_precision: 0.0000e+00 - val_recall: 0.0000e+00\n",
            "Epoch 4/20\n",
            "\u001b[1m  2/140\u001b[0m \u001b[37m━━━━━━━━━━━━━━━━━━━━\u001b[0m \u001b[1m22s\u001b[0m 165ms/step - accuracy: 0.9219 - auc: 0.9756 - f1_score: 0.9212 - loss: 1.7267 - precision: 0.9078 - recall: 0.9354"
          ]
        },
        {
          "output_type": "stream",
          "name": "stderr",
          "text": [
            "/usr/local/lib/python3.11/dist-packages/keras/src/trainers/epoch_iterator.py:107: UserWarning: Your input ran out of data; interrupting training. Make sure that your dataset or generator can generate at least `steps_per_epoch * epochs` batches. You may need to use the `.repeat()` function when building your dataset.\n",
            "  self._interrupted_warning()\n"
          ]
        },
        {
          "output_type": "stream",
          "name": "stdout",
          "text": [
            "\n",
            "Epoch 4: val_auc did not improve from 0.00000\n",
            "\u001b[1m140/140\u001b[0m \u001b[32m━━━━━━━━━━━━━━━━━━━━\u001b[0m\u001b[37m\u001b[0m \u001b[1m6s\u001b[0m 39ms/step - accuracy: 0.9065 - auc: 0.9631 - f1_score: 0.9093 - loss: 1.7791 - precision: 0.8827 - recall: 0.9375 - val_accuracy: 0.9812 - val_auc: 0.0000e+00 - val_f1_score: 0.0000e+00 - val_loss: 1.7145 - val_precision: 0.0000e+00 - val_recall: 0.0000e+00\n",
            "Epoch 5/20\n",
            "\u001b[1m140/140\u001b[0m \u001b[32m━━━━━━━━━━━━━━━━━━━━\u001b[0m\u001b[37m\u001b[0m \u001b[1m0s\u001b[0m 230ms/step - accuracy: 0.9195 - auc: 0.9660 - f1_score: 0.9210 - loss: 1.7638 - precision: 0.9158 - recall: 0.9265\n",
            "Epoch 5: val_auc did not improve from 0.00000\n",
            "\u001b[1m140/140\u001b[0m \u001b[32m━━━━━━━━━━━━━━━━━━━━\u001b[0m\u001b[37m\u001b[0m \u001b[1m41s\u001b[0m 290ms/step - accuracy: 0.9195 - auc: 0.9660 - f1_score: 0.9210 - loss: 1.7637 - precision: 0.9159 - recall: 0.9264 - val_accuracy: 0.9812 - val_auc: 0.0000e+00 - val_f1_score: 0.0000e+00 - val_loss: 1.5616 - val_precision: 0.0000e+00 - val_recall: 0.0000e+00\n",
            "Epoch 6/20\n",
            "\u001b[1m140/140\u001b[0m \u001b[32m━━━━━━━━━━━━━━━━━━━━\u001b[0m\u001b[37m\u001b[0m \u001b[1m0s\u001b[0m 223ms/step - accuracy: 0.9191 - auc: 0.9658 - f1_score: 0.9192 - loss: 1.6347 - precision: 0.9179 - recall: 0.9208\n",
            "Epoch 6: val_auc did not improve from 0.00000\n",
            "\u001b[1m140/140\u001b[0m \u001b[32m━━━━━━━━━━━━━━━━━━━━\u001b[0m\u001b[37m\u001b[0m \u001b[1m41s\u001b[0m 293ms/step - accuracy: 0.9192 - auc: 0.9658 - f1_score: 0.9192 - loss: 1.6345 - precision: 0.9179 - recall: 0.9208 - val_accuracy: 0.9812 - val_auc: 0.0000e+00 - val_f1_score: 0.0000e+00 - val_loss: 1.4639 - val_precision: 0.0000e+00 - val_recall: 0.0000e+00\n",
            "Epoch 7/20\n",
            "\u001b[1m140/140\u001b[0m \u001b[32m━━━━━━━━━━━━━━━━━━━━\u001b[0m\u001b[37m\u001b[0m \u001b[1m0s\u001b[0m 220ms/step - accuracy: 0.9412 - auc: 0.9772 - f1_score: 0.9428 - loss: 1.4494 - precision: 0.9382 - recall: 0.9477\n",
            "Epoch 7: val_auc did not improve from 0.00000\n",
            "\u001b[1m140/140\u001b[0m \u001b[32m━━━━━━━━━━━━━━━━━━━━\u001b[0m\u001b[37m\u001b[0m \u001b[1m41s\u001b[0m 292ms/step - accuracy: 0.9412 - auc: 0.9772 - f1_score: 0.9428 - loss: 1.4493 - precision: 0.9382 - recall: 0.9477 - val_accuracy: 0.9833 - val_auc: 0.0000e+00 - val_f1_score: 0.0000e+00 - val_loss: 1.3462 - val_precision: 0.0000e+00 - val_recall: 0.0000e+00\n",
            "Epoch 8/20\n",
            "\u001b[1m  2/140\u001b[0m \u001b[37m━━━━━━━━━━━━━━━━━━━━\u001b[0m \u001b[1m22s\u001b[0m 161ms/step - accuracy: 0.9297 - auc: 0.9956 - f1_score: 0.9409 - loss: 1.3027 - precision: 0.8893 - recall: 1.0000\n",
            "Epoch 8: val_auc did not improve from 0.00000\n",
            "\u001b[1m140/140\u001b[0m \u001b[32m━━━━━━━━━━━━━━━━━━━━\u001b[0m\u001b[37m\u001b[0m \u001b[1m4s\u001b[0m 25ms/step - accuracy: 0.9528 - auc: 0.9913 - f1_score: 0.9626 - loss: 1.2831 - precision: 0.9280 - recall: 1.0000 - val_accuracy: 0.9833 - val_auc: 0.0000e+00 - val_f1_score: 0.0000e+00 - val_loss: 1.3373 - val_precision: 0.0000e+00 - val_recall: 0.0000e+00\n",
            "Epoch 9/20\n",
            "\u001b[1m140/140\u001b[0m \u001b[32m━━━━━━━━━━━━━━━━━━━━\u001b[0m\u001b[37m\u001b[0m \u001b[1m0s\u001b[0m 223ms/step - accuracy: 0.9438 - auc: 0.9809 - f1_score: 0.9464 - loss: 1.3289 - precision: 0.9477 - recall: 0.9452\n",
            "Epoch 9: val_auc did not improve from 0.00000\n",
            "\u001b[1m140/140\u001b[0m \u001b[32m━━━━━━━━━━━━━━━━━━━━\u001b[0m\u001b[37m\u001b[0m \u001b[1m35s\u001b[0m 252ms/step - accuracy: 0.9438 - auc: 0.9809 - f1_score: 0.9464 - loss: 1.3288 - precision: 0.9477 - recall: 0.9452 - val_accuracy: 0.9833 - val_auc: 0.0000e+00 - val_f1_score: 0.0000e+00 - val_loss: 1.2401 - val_precision: 0.0000e+00 - val_recall: 0.0000e+00\n",
            "Epoch 10/20\n",
            "\u001b[1m140/140\u001b[0m \u001b[32m━━━━━━━━━━━━━━━━━━━━\u001b[0m\u001b[37m\u001b[0m \u001b[1m0s\u001b[0m 221ms/step - accuracy: 0.9421 - auc: 0.9752 - f1_score: 0.9419 - loss: 1.2662 - precision: 0.9380 - recall: 0.9459\n",
            "Epoch 10: val_auc did not improve from 0.00000\n",
            "\u001b[1m140/140\u001b[0m \u001b[32m━━━━━━━━━━━━━━━━━━━━\u001b[0m\u001b[37m\u001b[0m \u001b[1m34s\u001b[0m 246ms/step - accuracy: 0.9421 - auc: 0.9752 - f1_score: 0.9419 - loss: 1.2661 - precision: 0.9380 - recall: 0.9459 - val_accuracy: 0.9833 - val_auc: 0.0000e+00 - val_f1_score: 0.0000e+00 - val_loss: 1.1588 - val_precision: 0.0000e+00 - val_recall: 0.0000e+00\n",
            "Epoch 11/20\n",
            "\u001b[1m140/140\u001b[0m \u001b[32m━━━━━━━━━━━━━━━━━━━━\u001b[0m\u001b[37m\u001b[0m \u001b[1m0s\u001b[0m 219ms/step - accuracy: 0.9455 - auc: 0.9721 - f1_score: 0.9455 - loss: 1.2085 - precision: 0.9467 - recall: 0.9444\n",
            "Epoch 11: val_auc did not improve from 0.00000\n",
            "\u001b[1m140/140\u001b[0m \u001b[32m━━━━━━━━━━━━━━━━━━━━\u001b[0m\u001b[37m\u001b[0m \u001b[1m34s\u001b[0m 247ms/step - accuracy: 0.9455 - auc: 0.9721 - f1_score: 0.9455 - loss: 1.2082 - precision: 0.9467 - recall: 0.9444 - val_accuracy: 0.9833 - val_auc: 0.0000e+00 - val_f1_score: 0.0000e+00 - val_loss: 1.0894 - val_precision: 0.0000e+00 - val_recall: 0.0000e+00\n",
            "Epoch 12/20\n",
            "\u001b[1m  2/140\u001b[0m \u001b[37m━━━━━━━━━━━━━━━━━━━━\u001b[0m \u001b[1m22s\u001b[0m 163ms/step - accuracy: 0.8984 - auc: 0.9466 - f1_score: 0.9148 - loss: 1.2600 - precision: 0.9214 - recall: 0.9083\n",
            "Epoch 12: val_auc did not improve from 0.00000\n",
            "\u001b[1m140/140\u001b[0m \u001b[32m━━━━━━━━━━━━━━━━━━━━\u001b[0m\u001b[37m\u001b[0m \u001b[1m4s\u001b[0m 24ms/step - accuracy: 0.9215 - auc: 0.9679 - f1_score: 0.9294 - loss: 1.1690 - precision: 0.9426 - recall: 0.9165 - val_accuracy: 0.9833 - val_auc: 0.0000e+00 - val_f1_score: 0.0000e+00 - val_loss: 1.0893 - val_precision: 0.0000e+00 - val_recall: 0.0000e+00\n",
            "Epoch 13/20\n",
            "\u001b[1m140/140\u001b[0m \u001b[32m━━━━━━━━━━━━━━━━━━━━\u001b[0m\u001b[37m\u001b[0m \u001b[1m0s\u001b[0m 224ms/step - accuracy: 0.9525 - auc: 0.9776 - f1_score: 0.9525 - loss: 1.0870 - precision: 0.9524 - recall: 0.9525\n",
            "Epoch 13: val_auc did not improve from 0.00000\n",
            "\u001b[1m140/140\u001b[0m \u001b[32m━━━━━━━━━━━━━━━━━━━━\u001b[0m\u001b[37m\u001b[0m \u001b[1m82s\u001b[0m 346ms/step - accuracy: 0.9525 - auc: 0.9776 - f1_score: 0.9525 - loss: 1.0869 - precision: 0.9525 - recall: 0.9525 - val_accuracy: 0.9833 - val_auc: 0.0000e+00 - val_f1_score: 0.0000e+00 - val_loss: 1.0243 - val_precision: 0.0000e+00 - val_recall: 0.0000e+00\n",
            "Epoch 14/20\n",
            "\u001b[1m140/140\u001b[0m \u001b[32m━━━━━━━━━━━━━━━━━━━━\u001b[0m\u001b[37m\u001b[0m \u001b[1m0s\u001b[0m 225ms/step - accuracy: 0.9550 - auc: 0.9800 - f1_score: 0.9548 - loss: 1.0024 - precision: 0.9558 - recall: 0.9538\n",
            "Epoch 14: val_auc did not improve from 0.00000\n",
            "\u001b[1m140/140\u001b[0m \u001b[32m━━━━━━━━━━━━━━━━━━━━\u001b[0m\u001b[37m\u001b[0m \u001b[1m35s\u001b[0m 250ms/step - accuracy: 0.9550 - auc: 0.9799 - f1_score: 0.9548 - loss: 1.0025 - precision: 0.9558 - recall: 0.9538 - val_accuracy: 0.9833 - val_auc: 0.0000e+00 - val_f1_score: 0.0000e+00 - val_loss: 0.9387 - val_precision: 0.0000e+00 - val_recall: 0.0000e+00\n",
            "Epoch 15/20\n",
            "\u001b[1m140/140\u001b[0m \u001b[32m━━━━━━━━━━━━━━━━━━━━\u001b[0m\u001b[37m\u001b[0m \u001b[1m0s\u001b[0m 219ms/step - accuracy: 0.9553 - auc: 0.9760 - f1_score: 0.9548 - loss: 0.9574 - precision: 0.9592 - recall: 0.9505\n",
            "Epoch 15: val_auc did not improve from 0.00000\n",
            "\u001b[1m140/140\u001b[0m \u001b[32m━━━━━━━━━━━━━━━━━━━━\u001b[0m\u001b[37m\u001b[0m \u001b[1m34s\u001b[0m 247ms/step - accuracy: 0.9553 - auc: 0.9760 - f1_score: 0.9548 - loss: 0.9573 - precision: 0.9592 - recall: 0.9505 - val_accuracy: 0.9833 - val_auc: 0.0000e+00 - val_f1_score: 0.0000e+00 - val_loss: 0.8915 - val_precision: 0.0000e+00 - val_recall: 0.0000e+00\n",
            "Epoch 16/20\n",
            "\u001b[1m  2/140\u001b[0m \u001b[37m━━━━━━━━━━━━━━━━━━━━\u001b[0m \u001b[1m21s\u001b[0m 159ms/step - accuracy: 0.9922 - auc: 0.9965 - f1_score: 0.9935 - loss: 0.7859 - precision: 0.9872 - recall: 1.0000\n",
            "Epoch 16: val_auc did not improve from 0.00000\n",
            "\u001b[1m140/140\u001b[0m \u001b[32m━━━━━━━━━━━━━━━━━━━━\u001b[0m\u001b[37m\u001b[0m \u001b[1m4s\u001b[0m 25ms/step - accuracy: 0.9845 - auc: 0.9930 - f1_score: 0.9871 - loss: 0.8181 - precision: 0.9745 - recall: 1.0000 - val_accuracy: 0.9833 - val_auc: 0.0000e+00 - val_f1_score: 0.0000e+00 - val_loss: 0.8921 - val_precision: 0.0000e+00 - val_recall: 0.0000e+00\n",
            "Epoch 17/20\n",
            "\u001b[1m140/140\u001b[0m \u001b[32m━━━━━━━━━━━━━━━━━━━━\u001b[0m\u001b[37m\u001b[0m \u001b[1m0s\u001b[0m 229ms/step - accuracy: 0.9585 - auc: 0.9816 - f1_score: 0.9582 - loss: 0.8737 - precision: 0.9579 - recall: 0.9587\n",
            "Epoch 17: val_auc did not improve from 0.00000\n",
            "\u001b[1m140/140\u001b[0m \u001b[32m━━━━━━━━━━━━━━━━━━━━\u001b[0m\u001b[37m\u001b[0m \u001b[1m56s\u001b[0m 255ms/step - accuracy: 0.9584 - auc: 0.9816 - f1_score: 0.9582 - loss: 0.8737 - precision: 0.9579 - recall: 0.9587 - val_accuracy: 0.9833 - val_auc: 0.0000e+00 - val_f1_score: 0.0000e+00 - val_loss: 0.8266 - val_precision: 0.0000e+00 - val_recall: 0.0000e+00\n",
            "Epoch 18/20\n",
            "\u001b[1m140/140\u001b[0m \u001b[32m━━━━━━━━━━━━━━━━━━━━\u001b[0m\u001b[37m\u001b[0m \u001b[1m0s\u001b[0m 234ms/step - accuracy: 0.9556 - auc: 0.9809 - f1_score: 0.9567 - loss: 0.8248 - precision: 0.9584 - recall: 0.9550\n",
            "Epoch 18: val_auc did not improve from 0.00000\n",
            "\u001b[1m140/140\u001b[0m \u001b[32m━━━━━━━━━━━━━━━━━━━━\u001b[0m\u001b[37m\u001b[0m \u001b[1m36s\u001b[0m 260ms/step - accuracy: 0.9556 - auc: 0.9809 - f1_score: 0.9567 - loss: 0.8247 - precision: 0.9584 - recall: 0.9550 - val_accuracy: 0.9833 - val_auc: 0.0000e+00 - val_f1_score: 0.0000e+00 - val_loss: 0.7790 - val_precision: 0.0000e+00 - val_recall: 0.0000e+00\n",
            "Epoch 19/20\n",
            "\u001b[1m140/140\u001b[0m \u001b[32m━━━━━━━━━━━━━━━━━━━━\u001b[0m\u001b[37m\u001b[0m \u001b[1m0s\u001b[0m 233ms/step - accuracy: 0.9699 - auc: 0.9845 - f1_score: 0.9702 - loss: 0.7552 - precision: 0.9644 - recall: 0.9760\n",
            "Epoch 19: val_auc did not improve from 0.00000\n",
            "\u001b[1m140/140\u001b[0m \u001b[32m━━━━━━━━━━━━━━━━━━━━\u001b[0m\u001b[37m\u001b[0m \u001b[1m41s\u001b[0m 291ms/step - accuracy: 0.9699 - auc: 0.9845 - f1_score: 0.9701 - loss: 0.7552 - precision: 0.9644 - recall: 0.9759 - val_accuracy: 0.9833 - val_auc: 0.0000e+00 - val_f1_score: 0.0000e+00 - val_loss: 0.7477 - val_precision: 0.0000e+00 - val_recall: 0.0000e+00\n",
            "Epoch 20/20\n",
            "\u001b[1m  2/140\u001b[0m \u001b[37m━━━━━━━━━━━━━━━━━━━━\u001b[0m \u001b[1m22s\u001b[0m 160ms/step - accuracy: 0.9766 - auc: 0.9924 - f1_score: 0.9706 - loss: 0.6938 - precision: 0.9444 - recall: 1.0000\n",
            "Epoch 20: val_auc did not improve from 0.00000\n",
            "\u001b[1m140/140\u001b[0m \u001b[32m━━━━━━━━━━━━━━━━━━━━\u001b[0m\u001b[37m\u001b[0m \u001b[1m4s\u001b[0m 27ms/step - accuracy: 0.9535 - auc: 0.9850 - f1_score: 0.9416 - loss: 0.7706 - precision: 0.8897 - recall: 1.0000 - val_accuracy: 0.9833 - val_auc: 0.0000e+00 - val_f1_score: 0.0000e+00 - val_loss: 0.7414 - val_precision: 0.0000e+00 - val_recall: 0.0000e+00\n",
            "Restoring model weights from the end of the best epoch: 20.\n"
          ]
        }
      ],
      "source": [
        "history = model.fit(\n",
        "    train_generator,\n",
        "    epochs=20,\n",
        "    steps_per_epoch=len(train_generator)//3,\n",
        "    validation_data=validation_generator,\n",
        "    validation_steps=len(validation_generator)//3,\n",
        "    callbacks=[checkpoint_cb, earlystop_cb]\n",
        ")\n"
      ]
    },
    {
      "cell_type": "code",
      "execution_count": null,
      "metadata": {
        "colab": {
          "base_uri": "https://localhost:8080/",
          "height": 889
        },
        "id": "nWhPBkmf5HGn",
        "outputId": "d0ccefc7-65c6-4d95-ac6b-8af565b7b740"
      },
      "outputs": [
        {
          "output_type": "stream",
          "name": "stdout",
          "text": [
            "\u001b[1m65/65\u001b[0m \u001b[32m━━━━━━━━━━━━━━━━━━━━\u001b[0m\u001b[37m\u001b[0m \u001b[1m42s\u001b[0m 643ms/step - accuracy: 0.8986 - auc: 0.5515 - f1_score: 0.5045 - loss: 1.1801 - precision: 0.4615 - recall: 0.5747\n",
            "['loss', 'compile_metrics']\n",
            "\n",
            "Test Results:\n",
            "→ loss: 0.8502\n",
            "→ accuracy: 0.953\n",
            "→ precision: 0.927\n",
            "→ recall: 0.994\n",
            "→ AUC: 0.956\n",
            "→ F1‑score: 0.959\n",
            "\u001b[1m65/65\u001b[0m \u001b[32m━━━━━━━━━━━━━━━━━━━━\u001b[0m\u001b[37m\u001b[0m \u001b[1m32s\u001b[0m 488ms/step\n"
          ]
        },
        {
          "output_type": "display_data",
          "data": {
            "text/plain": [
              "<Figure size 600x500 with 2 Axes>"
            ],
            "image/png": "[encoded data removed]"
          },
          "metadata": {}
        },
        {
          "output_type": "stream",
          "name": "stdout",
          "text": [
            "\n",
            "Classification Report:\n",
            "              precision    recall  f1-score   support\n",
            "\n",
            "   generated       0.99      0.90      0.94       911\n",
            "    original       0.93      0.99      0.96      1161\n",
            "\n",
            "    accuracy                           0.95      2072\n",
            "   macro avg       0.96      0.95      0.95      2072\n",
            "weighted avg       0.96      0.95      0.95      2072\n",
            "\n"
          ]
        }
      ],
      "source": [
        "import numpy as np\n",
        "import seaborn as sns\n",
        "import matplotlib.pyplot as plt\n",
        "from sklearn.metrics import confusion_matrix, classification_report\n",
        "\n",
        "# Evaluate model\n",
        "results = model.evaluate(\n",
        "    test_generator,\n",
        "    steps=len(test_generator),\n",
        "    verbose=1\n",
        ")\n",
        "\n",
        "# Metric names\n",
        "print(model.metrics_names)\n",
        "# Example output: ['loss', 'accuracy', 'precision', 'recall', 'auc', 'f1_score']\n",
        "\n",
        "loss, accuracy, precision, recall, auc, f1_score = results\n",
        "\n",
        "print(f\"\\nTest Results:\")\n",
        "print(f\"→ loss: {loss:.4f}\")\n",
        "print(f\"→ accuracy: {accuracy:.3f}\")\n",
        "print(f\"→ precision: {precision:.3f}\")\n",
        "print(f\"→ recall: {recall:.3f}\")\n",
        "print(f\"→ AUC: {auc:.3f}\")\n",
        "print(f\"→ F1‑score: {f1_score:.3f}\")\n",
        "\n",
        "# ------------------------\n",
        "# Confusion Matrix\n",
        "# ------------------------\n",
        "\n",
        "# Get true and predicted labels\n",
        "y_true = test_generator.classes\n",
        "y_pred_probs = model.predict(test_generator, steps=len(test_generator), verbose=1)\n",
        "y_pred = (y_pred_probs > 0.5).astype(int).flatten()\n",
        "\n",
        "# Compute confusion matrix\n",
        "cm = confusion_matrix(y_true, y_pred)\n",
        "labels = list(test_generator.class_indices.keys())  # e.g., ['generated', 'original']\n",
        "\n",
        "# Plot\n",
        "plt.figure(figsize=(6, 5))\n",
        "sns.heatmap(cm, annot=True, fmt='d', cmap='Blues',\n",
        "            xticklabels=labels, yticklabels=labels)\n",
        "plt.title(\"Confusion Matrix\")\n",
        "plt.xlabel(\"Predicted Label\")\n",
        "plt.ylabel(\"True Label\")\n",
        "plt.show()\n",
        "\n",
        "# Optional: classification report\n",
        "print(\"\\nClassification Report:\")\n",
        "print(classification_report(y_true, y_pred, target_names=labels))\n"
      ]
    },
    {
      "cell_type": "code",
      "execution_count": null,
      "metadata": {
        "colab": {
          "base_uri": "https://localhost:8080/"
        },
        "id": "MaHWmQATlJAP",
        "outputId": "4102d3ba-3217-4d1c-cf64-d9c9e71822ed"
      },
      "outputs": [
        {
          "output_type": "stream",
          "name": "stdout",
          "text": [
            "\u001b[1m65/65\u001b[0m \u001b[32m━━━━━━━━━━━━━━━━━━━━\u001b[0m\u001b[37m\u001b[0m \u001b[1m38s\u001b[0m 587ms/step\n",
            "              precision    recall  f1-score   support\n",
            "\n",
            "   generated       0.99      0.90      0.94       911\n",
            "    original       0.93      0.99      0.96      1161\n",
            "\n",
            "    accuracy                           0.95      2072\n",
            "   macro avg       0.96      0.95      0.95      2072\n",
            "weighted avg       0.96      0.95      0.95      2072\n",
            "\n",
            "Confusion Matrix:\n",
            " [[ 820   91]\n",
            " [   7 1154]]\n"
          ]
        }
      ],
      "source": [
        "import numpy as np\n",
        "from sklearn.metrics import classification_report, confusion_matrix\n",
        "\n",
        "# 1) Predict probabilities or logits\n",
        "y_prob = model.predict(test_generator, steps=len(test_generator))\n",
        "# 2) Convert to binary labels (threshold=0.5 by default)\n",
        "y_pred = (y_prob > 0.5).astype(int).flatten()\n",
        "\n",
        "# 3) True labels\n",
        "y_true = test_generator.classes  # assuming ImageDataGenerator.flow_from_directory\n",
        "\n",
        "# 4) Classification report & confusion matrix\n",
        "print(classification_report(y_true, y_pred, target_names=test_generator.class_indices.keys()))\n",
        "cm = confusion_matrix(y_true, y_pred)\n",
        "print(\"Confusion Matrix:\\n\", cm)\n"
      ]
    },
    {
      "cell_type": "code",
      "execution_count": null,
      "metadata": {
        "colab": {
          "base_uri": "https://localhost:8080/",
          "height": 489
        },
        "id": "QkdMiN6-rhE4",
        "outputId": "fcc9de29-cd03-456d-d220-a8c260102f0b"
      },
      "outputs": [
        {
          "output_type": "stream",
          "name": "stdout",
          "text": [
            "\u001b[1m65/65\u001b[0m \u001b[32m━━━━━━━━━━━━━━━━━━━━\u001b[0m\u001b[37m\u001b[0m \u001b[1m33s\u001b[0m 506ms/step\n"
          ]
        },
        {
          "output_type": "display_data",
          "data": {
            "text/plain": [
              "<Figure size 640x480 with 1 Axes>"
            ],
            "image/png": "[encoded data removed]"
          },
          "metadata": {}
        }
      ],
      "source": [
        "from sklearn.metrics import roc_curve, auc\n",
        "import matplotlib.pyplot as plt\n",
        "\n",
        "y_prob = model.predict(test_generator, steps=len(test_generator)).ravel()\n",
        "fpr, tpr, thresholds = roc_curve(y_true, y_prob)\n",
        "roc_auc = auc(fpr, tpr)\n",
        "\n",
        "plt.figure()\n",
        "plt.plot(fpr, tpr, label=f'ROC (area = {roc_auc:.2f})')\n",
        "plt.plot([0,1],[0,1],'--')\n",
        "plt.xlabel('False Positive Rate')\n",
        "plt.ylabel('True Positive Rate')\n",
        "plt.title('Receiver Operating Characteristic')\n",
        "plt.legend(loc='lower right')\n",
        "plt.show()\n"
      ]
    },
    {
      "cell_type": "code",
      "execution_count": null,
      "metadata": {
        "id": "gLrVkEIgrnof"
      },
      "outputs": [],
      "source": []
    }
  ],
  "metadata": {
    "colab": {
      "provenance": [],
      "gpuType": "T4"
    },
    "kernelspec": {
      "display_name": "Python 3",
      "name": "python3"
    },
    "language_info": {
      "name": "python"
    },
    "accelerator": "GPU"
  },
  "nbformat": 4,
  "nbformat_minor": 0
}