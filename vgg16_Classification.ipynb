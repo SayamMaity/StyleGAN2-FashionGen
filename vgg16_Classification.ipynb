{
  "cells": [
    {
      "cell_type": "code",
      "execution_count": null,
      "metadata": {
        "colab": {
          "base_uri": "https://localhost:8080/"
        },
        "id": "MMJBJQ6u4kfv",
        "outputId": "886602a5-9321-4580-8621-700d5120748a"
      },
      "outputs": [
        {
          "name": "stdout",
          "output_type": "stream",
          "text": [
            "Mounted at /content/drive\n"
          ]
        }
      ],
      "source": [
        "from google.colab import drive\n",
        "drive.mount('/content/drive')"
      ]
    },
    {
      "cell_type": "code",
      "execution_count": null,
      "metadata": {
        "id": "F0gIwTudtvig"
      },
      "outputs": [],
      "source": []
    },
    {
      "cell_type": "code",
      "execution_count": null,
      "metadata": {
        "id": "tIrBUJLO5Gsn"
      },
      "outputs": [],
      "source": [
        "#dont run\n",
        "import os\n",
        "generated_folder=\"/content/drive/MyDrive/Images/Generated\"\n",
        "original_folder=\"/content/drive/MyDrive/Images/Original\"\n",
        "output_base = '/content/drive/MyDrive/projectImages/dataset_split'\n",
        "train_generated = os.path.join(output_base, 'train/generated')\n",
        "train_original = os.path.join(output_base, 'train/original')\n",
        "test_generated = os.path.join(output_base, 'test/generated')\n",
        "test_original = os.path.join(output_base, 'test/original')\n",
        "\n",
        "for path in [train_generated, train_original, test_generated, test_original]:\n",
        "    os.makedirs(path, exist_ok=True)"
      ]
    },
    {
      "cell_type": "code",
      "execution_count": null,
      "metadata": {
        "colab": {
          "base_uri": "https://localhost:8080/"
        },
        "id": "1g2eTJbJ5Gv-",
        "outputId": "224b718b-5d04-4c37-e8b5-2b471d9f60e8"
      },
      "outputs": [
        {
          "name": "stdout",
          "output_type": "stream",
          "text": [
            "Done! 2044 for training, 228 for testing.\n"
          ]
        }
      ],
      "source": [
        "#dont run    List all files\n",
        "import shutil\n",
        "from sklearn.model_selection import train_test_split\n",
        "generated_files = [f for f in os.listdir(generated_folder) if os.path.isfile(os.path.join(generated_folder, f))]\n",
        "original_files = [f for f in os.listdir(original_folder) if os.path.isfile(os.path.join(original_folder, f))]\n",
        "\n",
        "train_files, test_files = train_test_split(generated_files, test_size=0.1, random_state=42)\n",
        "trainoriginal_files, testoriginal_files = train_test_split(original_files, test_size=0.1, random_state=42)\n",
        "def copy_files(file_list, src_folder, dest_folder):\n",
        "    for file in file_list:\n",
        "        src_path = os.path.join(src_folder, file)\n",
        "        dest_path = os.path.join(dest_folder, file)\n",
        "        if os.path.exists(src_path):\n",
        "            shutil.copy(src_path, dest_path)\n",
        "        else:\n",
        "            print(f\"Warning: {file} not found in {src_folder}\")\n",
        "\n",
        "\n",
        "# Corrected copy calls\n",
        "copy_files(train_files, generated_folder, train_generated)\n",
        "copy_files(test_files, generated_folder, test_generated)\n",
        "\n",
        "copy_files(trainoriginal_files, original_folder, train_original)  # fixed\n",
        "copy_files(testoriginal_files, original_folder, test_original)    # fixed\n",
        "\n",
        "print(f\"Done! {len(train_files)} for training, {len(test_files)} for testing.\")"
      ]
    },
    {
      "cell_type": "code",
      "execution_count": null,
      "metadata": {
        "colab": {
          "base_uri": "https://localhost:8080/"
        },
        "id": "TEIU_erA5GyE",
        "outputId": "c9adc5bb-76b3-474b-eac9-f77cb3879197"
      },
      "outputs": [
        {
          "name": "stdout",
          "output_type": "stream",
          "text": [
            "Train - Original: 2034 | Generated: 2044\n",
            "Test  - Original: 227 | Generated: 228\n"
          ]
        }
      ],
      "source": [
        "#dont run\n",
        "# Define the folders\n",
        "train_original_folder = \"/content/drive/MyDrive/projectImages/dataset_split/train/original\"\n",
        "train_generated_folder = \"/content/drive/MyDrive/projectImages/dataset_split/train/generated\"\n",
        "test_original_folder = \"/content/drive/MyDrive/projectImages/dataset_split/test/original\"\n",
        "test_generated_folder = \"/content/drive/MyDrive/projectImages/dataset_split/test/generated\"\n",
        "\n",
        "# Define valid image extensions\n",
        "image_extensions = ('.png', '.jpg', '.jpeg', '.bmp', '.gif')\n",
        "\n",
        "# Count images in a folder\n",
        "def count_images(folder):\n",
        "    return sum(1 for file in os.listdir(folder) if file.lower().endswith(image_extensions))\n",
        "\n",
        "# Get the counts\n",
        "train_original_count = count_images(train_original_folder)\n",
        "train_generated_count = count_images(train_generated_folder)\n",
        "test_original_count = count_images(test_original_folder)\n",
        "test_generated_count = count_images(test_generated_folder)\n",
        "\n",
        "# Print the counts\n",
        "print(f\"Train - Original: {train_original_count} | Generated: {train_generated_count}\")\n",
        "print(f\"Test  - Original: {test_original_count} | Generated: {test_generated_count}\")\n"
      ]
    },
    {
      "cell_type": "code",
      "execution_count": null,
      "metadata": {
        "id": "OdC3SCOQ5G13"
      },
      "outputs": [],
      "source": [
        "import tensorflow as tf\n",
        "from tensorflow.keras.preprocessing.image import ImageDataGenerator\n",
        "from tensorflow.keras.applications import VGG16\n",
        "from tensorflow.keras.applications.vgg16 import preprocess_input\n",
        "from tensorflow.keras import layers, models, optimizers, callbacks\n",
        "output_base = '/content/drive/MyDrive/Filtered Fashion images/projectImages/dataset_split'\n",
        "train_dir = os.path.join(output_base, 'train')\n",
        "test_dir  = os.path.join(output_base, 'test')\n",
        "IMG_SIZE = (224, 224)       #default input size is 224x224\n",
        "BATCH_SIZE = 32\n",
        "SEED = 42\n",
        "AUTOTUNE = tf.data.AUTOTUNE"
      ]
    },
    {
      "cell_type": "code",
      "execution_count": null,
      "metadata": {
        "colab": {
          "base_uri": "https://localhost:8080/"
        },
        "id": "ZUypD_eG5G3q",
        "outputId": "21edc7c4-a7e7-4d18-b673-68ea6764482a"
      },
      "outputs": [
        {
          "name": "stdout",
          "output_type": "stream",
          "text": [
            "Found 3671 images belonging to 2 classes.\n",
            "Found 407 images belonging to 2 classes.\n",
            "Found 455 images belonging to 2 classes.\n",
            "Class indices: {'generated': 0, 'original': 1}\n"
          ]
        }
      ],
      "source": [
        "train_datagen = ImageDataGenerator(\n",
        "    preprocessing_function=preprocess_input,  # <-- from VGG16 now\n",
        "    validation_split=0.1,\n",
        "    horizontal_flip=True,\n",
        "    rotation_range=20,\n",
        "    width_shift_range=0.1,\n",
        "    height_shift_range=0.1,\n",
        "    shear_range=0.1,\n",
        "    brightness_range=(0.8, 1.2),  # mimic lighting changes\n",
        "    zoom_range=0.1,\n",
        "    fill_mode='nearest'\n",
        "\n",
        ")\n",
        "\n",
        "test_datagen = ImageDataGenerator(\n",
        "    preprocessing_function=preprocess_input\n",
        ")\n",
        "\n",
        "train_generator = train_datagen.flow_from_directory(\n",
        "    train_dir,\n",
        "    target_size=IMG_SIZE,\n",
        "    batch_size=BATCH_SIZE,\n",
        "    class_mode='binary',\n",
        "    subset='training',\n",
        "    shuffle=True,\n",
        "    seed=SEED\n",
        ")\n",
        "validation_generator = train_datagen.flow_from_directory(\n",
        "    train_dir,\n",
        "    target_size=IMG_SIZE,\n",
        "    batch_size=BATCH_SIZE,\n",
        "    class_mode='binary',\n",
        "    subset='validation',\n",
        "    shuffle=False,\n",
        "    seed=SEED\n",
        ")\n",
        "\n",
        "\n",
        "test_generator = test_datagen.flow_from_directory(\n",
        "    test_dir,\n",
        "    target_size=IMG_SIZE,\n",
        "    batch_size=BATCH_SIZE,\n",
        "    class_mode='binary',\n",
        "    shuffle=False\n",
        ")\n",
        "\n",
        "print(\"Class indices:\", train_generator.class_indices)\n"
      ]
    },
    {
      "cell_type": "code",
      "execution_count": null,
      "metadata": {
        "colab": {
          "base_uri": "https://localhost:8080/",
          "height": 440
        },
        "id": "GCfOWQTj5G68",
        "outputId": "83e0d35a-2e65-4bc4-84d7-e42c23bb727c"
      },
      "outputs": [
        {
          "name": "stdout",
          "output_type": "stream",
          "text": [
            "Downloading data from https://storage.googleapis.com/tensorflow/keras-applications/mobilenet_v2/mobilenet_v2_weights_tf_dim_ordering_tf_kernels_1.0_224_no_top.h5\n",
            "\u001b[1m9406464/9406464\u001b[0m \u001b[32m━━━━━━━━━━━━━━━━━━━━\u001b[0m\u001b[37m\u001b[0m \u001b[1m1s\u001b[0m 0us/step\n"
          ]
        },
        {
          "data": {
            "text/html": [
              "<pre style=\"white-space:pre;overflow-x:auto;line-height:normal;font-family:Menlo,'DejaVu Sans Mono',consolas,'Courier New',monospace\"><span style=\"font-weight: bold\">Model: \"functional\"</span>\n",
              "</pre>\n"
            ],
            "text/plain": [
              "\u001b[1mModel: \"functional\"\u001b[0m\n"
            ]
          },
          "metadata": {},
          "output_type": "display_data"
        },
        {
          "data": {
            "text/html": [
              "<pre style=\"white-space:pre;overflow-x:auto;line-height:normal;font-family:Menlo,'DejaVu Sans Mono',consolas,'Courier New',monospace\">┏━━━━━━━━━━━━━━━━━━━━━━━━━━━━━━━━━┳━━━━━━━━━━━━━━━━━━━━━━━━┳━━━━━━━━━━━━━━━┓\n",
              "┃<span style=\"font-weight: bold\"> Layer (type)                    </span>┃<span style=\"font-weight: bold\"> Output Shape           </span>┃<span style=\"font-weight: bold\">       Param # </span>┃\n",
              "┡━━━━━━━━━━━━━━━━━━━━━━━━━━━━━━━━━╇━━━━━━━━━━━━━━━━━━━━━━━━╇━━━━━━━━━━━━━━━┩\n",
              "│ input_layer_1 (<span style=\"color: #0087ff; text-decoration-color: #0087ff\">InputLayer</span>)      │ (<span style=\"color: #00d7ff; text-decoration-color: #00d7ff\">None</span>, <span style=\"color: #00af00; text-decoration-color: #00af00\">224</span>, <span style=\"color: #00af00; text-decoration-color: #00af00\">224</span>, <span style=\"color: #00af00; text-decoration-color: #00af00\">3</span>)    │             <span style=\"color: #00af00; text-decoration-color: #00af00\">0</span> │\n",
              "├─────────────────────────────────┼────────────────────────┼───────────────┤\n",
              "│ mobilenetv2_1.00_224            │ (<span style=\"color: #00d7ff; text-decoration-color: #00d7ff\">None</span>, <span style=\"color: #00af00; text-decoration-color: #00af00\">7</span>, <span style=\"color: #00af00; text-decoration-color: #00af00\">7</span>, <span style=\"color: #00af00; text-decoration-color: #00af00\">1280</span>)     │     <span style=\"color: #00af00; text-decoration-color: #00af00\">2,257,984</span> │\n",
              "│ (<span style=\"color: #0087ff; text-decoration-color: #0087ff\">Functional</span>)                    │                        │               │\n",
              "├─────────────────────────────────┼────────────────────────┼───────────────┤\n",
              "│ global_average_pooling2d        │ (<span style=\"color: #00d7ff; text-decoration-color: #00d7ff\">None</span>, <span style=\"color: #00af00; text-decoration-color: #00af00\">1280</span>)           │             <span style=\"color: #00af00; text-decoration-color: #00af00\">0</span> │\n",
              "│ (<span style=\"color: #0087ff; text-decoration-color: #0087ff\">GlobalAveragePooling2D</span>)        │                        │               │\n",
              "├─────────────────────────────────┼────────────────────────┼───────────────┤\n",
              "│ dropout (<span style=\"color: #0087ff; text-decoration-color: #0087ff\">Dropout</span>)               │ (<span style=\"color: #00d7ff; text-decoration-color: #00d7ff\">None</span>, <span style=\"color: #00af00; text-decoration-color: #00af00\">1280</span>)           │             <span style=\"color: #00af00; text-decoration-color: #00af00\">0</span> │\n",
              "├─────────────────────────────────┼────────────────────────┼───────────────┤\n",
              "│ dense (<span style=\"color: #0087ff; text-decoration-color: #0087ff\">Dense</span>)                   │ (<span style=\"color: #00d7ff; text-decoration-color: #00d7ff\">None</span>, <span style=\"color: #00af00; text-decoration-color: #00af00\">128</span>)            │       <span style=\"color: #00af00; text-decoration-color: #00af00\">163,968</span> │\n",
              "├─────────────────────────────────┼────────────────────────┼───────────────┤\n",
              "│ dropout_1 (<span style=\"color: #0087ff; text-decoration-color: #0087ff\">Dropout</span>)             │ (<span style=\"color: #00d7ff; text-decoration-color: #00d7ff\">None</span>, <span style=\"color: #00af00; text-decoration-color: #00af00\">128</span>)            │             <span style=\"color: #00af00; text-decoration-color: #00af00\">0</span> │\n",
              "├─────────────────────────────────┼────────────────────────┼───────────────┤\n",
              "│ dense_1 (<span style=\"color: #0087ff; text-decoration-color: #0087ff\">Dense</span>)                 │ (<span style=\"color: #00d7ff; text-decoration-color: #00d7ff\">None</span>, <span style=\"color: #00af00; text-decoration-color: #00af00\">1</span>)              │           <span style=\"color: #00af00; text-decoration-color: #00af00\">129</span> │\n",
              "└─────────────────────────────────┴────────────────────────┴───────────────┘\n",
              "</pre>\n"
            ],
            "text/plain": [
              "┏━━━━━━━━━━━━━━━━━━━━━━━━━━━━━━━━━┳━━━━━━━━━━━━━━━━━━━━━━━━┳━━━━━━━━━━━━━━━┓\n",
              "┃\u001b[1m \u001b[0m\u001b[1mLayer (type)                   \u001b[0m\u001b[1m \u001b[0m┃\u001b[1m \u001b[0m\u001b[1mOutput Shape          \u001b[0m\u001b[1m \u001b[0m┃\u001b[1m \u001b[0m\u001b[1m      Param #\u001b[0m\u001b[1m \u001b[0m┃\n",
              "┡━━━━━━━━━━━━━━━━━━━━━━━━━━━━━━━━━╇━━━━━━━━━━━━━━━━━━━━━━━━╇━━━━━━━━━━━━━━━┩\n",
              "│ input_layer_1 (\u001b[38;5;33mInputLayer\u001b[0m)      │ (\u001b[38;5;45mNone\u001b[0m, \u001b[38;5;34m224\u001b[0m, \u001b[38;5;34m224\u001b[0m, \u001b[38;5;34m3\u001b[0m)    │             \u001b[38;5;34m0\u001b[0m │\n",
              "├─────────────────────────────────┼────────────────────────┼───────────────┤\n",
              "│ mobilenetv2_1.00_224            │ (\u001b[38;5;45mNone\u001b[0m, \u001b[38;5;34m7\u001b[0m, \u001b[38;5;34m7\u001b[0m, \u001b[38;5;34m1280\u001b[0m)     │     \u001b[38;5;34m2,257,984\u001b[0m │\n",
              "│ (\u001b[38;5;33mFunctional\u001b[0m)                    │                        │               │\n",
              "├─────────────────────────────────┼────────────────────────┼───────────────┤\n",
              "│ global_average_pooling2d        │ (\u001b[38;5;45mNone\u001b[0m, \u001b[38;5;34m1280\u001b[0m)           │             \u001b[38;5;34m0\u001b[0m │\n",
              "│ (\u001b[38;5;33mGlobalAveragePooling2D\u001b[0m)        │                        │               │\n",
              "├─────────────────────────────────┼────────────────────────┼───────────────┤\n",
              "│ dropout (\u001b[38;5;33mDropout\u001b[0m)               │ (\u001b[38;5;45mNone\u001b[0m, \u001b[38;5;34m1280\u001b[0m)           │             \u001b[38;5;34m0\u001b[0m │\n",
              "├─────────────────────────────────┼────────────────────────┼───────────────┤\n",
              "│ dense (\u001b[38;5;33mDense\u001b[0m)                   │ (\u001b[38;5;45mNone\u001b[0m, \u001b[38;5;34m128\u001b[0m)            │       \u001b[38;5;34m163,968\u001b[0m │\n",
              "├─────────────────────────────────┼────────────────────────┼───────────────┤\n",
              "│ dropout_1 (\u001b[38;5;33mDropout\u001b[0m)             │ (\u001b[38;5;45mNone\u001b[0m, \u001b[38;5;34m128\u001b[0m)            │             \u001b[38;5;34m0\u001b[0m │\n",
              "├─────────────────────────────────┼────────────────────────┼───────────────┤\n",
              "│ dense_1 (\u001b[38;5;33mDense\u001b[0m)                 │ (\u001b[38;5;45mNone\u001b[0m, \u001b[38;5;34m1\u001b[0m)              │           \u001b[38;5;34m129\u001b[0m │\n",
              "└─────────────────────────────────┴────────────────────────┴───────────────┘\n"
            ]
          },
          "metadata": {},
          "output_type": "display_data"
        },
        {
          "data": {
            "text/html": [
              "<pre style=\"white-space:pre;overflow-x:auto;line-height:normal;font-family:Menlo,'DejaVu Sans Mono',consolas,'Courier New',monospace\"><span style=\"font-weight: bold\"> Total params: </span><span style=\"color: #00af00; text-decoration-color: #00af00\">2,422,081</span> (9.24 MB)\n",
              "</pre>\n"
            ],
            "text/plain": [
              "\u001b[1m Total params: \u001b[0m\u001b[38;5;34m2,422,081\u001b[0m (9.24 MB)\n"
            ]
          },
          "metadata": {},
          "output_type": "display_data"
        },
        {
          "data": {
            "text/html": [
              "<pre style=\"white-space:pre;overflow-x:auto;line-height:normal;font-family:Menlo,'DejaVu Sans Mono',consolas,'Courier New',monospace\"><span style=\"font-weight: bold\"> Trainable params: </span><span style=\"color: #00af00; text-decoration-color: #00af00\">164,097</span> (641.00 KB)\n",
              "</pre>\n"
            ],
            "text/plain": [
              "\u001b[1m Trainable params: \u001b[0m\u001b[38;5;34m164,097\u001b[0m (641.00 KB)\n"
            ]
          },
          "metadata": {},
          "output_type": "display_data"
        },
        {
          "data": {
            "text/html": [
              "<pre style=\"white-space:pre;overflow-x:auto;line-height:normal;font-family:Menlo,'DejaVu Sans Mono',consolas,'Courier New',monospace\"><span style=\"font-weight: bold\"> Non-trainable params: </span><span style=\"color: #00af00; text-decoration-color: #00af00\">2,257,984</span> (8.61 MB)\n",
              "</pre>\n"
            ],
            "text/plain": [
              "\u001b[1m Non-trainable params: \u001b[0m\u001b[38;5;34m2,257,984\u001b[0m (8.61 MB)\n"
            ]
          },
          "metadata": {},
          "output_type": "display_data"
        }
      ],
      "source": [
        "#build vgg16 model\n",
        "\n",
        "class GaussianNoiseLayer(tf.keras.layers.Layer):\n",
        "    def __init__(self, stddev=0.1):\n",
        "        super().__init__()\n",
        "        self.noise = tf.keras.layers.GaussianNoise(stddev)\n",
        "\n",
        "    def call(self, inputs, training=None):\n",
        "        return self.noise(inputs, training=training)\n",
        "\n",
        "from tensorflow.keras.regularizers import l2\n",
        "base_model = VGG16(\n",
        "    input_shape=(IMG_SIZE[0], IMG_SIZE[1], 3),\n",
        "    include_top=False,\n",
        "    weights='imagenet'\n",
        ")\n",
        "base_model.trainable = False\n",
        "# Add classification head\n",
        "inputs = layers.Input(shape=(IMG_SIZE[0], IMG_SIZE[1], 3))\n",
        "x = base_model(inputs, training=False)\n",
        "x = GaussianNoiseLayer(0.1)(x)  # noise after feature maps\n",
        "x = layers.BatchNormalization()(x)\n",
        "x = layers.GlobalAveragePooling2D()(x)\n",
        "x = layers.Dropout(0.3)(x)\n",
        "x = layers.Dense(128, activation='relu',kernel_regularizer=l2(0.01))(x)\n",
        "x = layers.BatchNormalization()(x)\n",
        "x = layers.Dropout(0.4)(x)\n",
        "outputs = layers.Dense(1, activation='sigmoid')(x)\n",
        "model = models.Model(inputs, outputs)\n",
        "model.summary()\n"
      ]
    },
    {
      "cell_type": "code",
      "execution_count": null,
      "metadata": {
        "id": "otk1TGr75G9a"
      },
      "outputs": [],
      "source": [
        "class F1Score(tf.keras.metrics.Metric):\n",
        "    def __init__(self, name='f1_score', **kwargs):\n",
        "        super(F1Score, self).__init__(name=name, **kwargs)\n",
        "        self.precision = tf.keras.metrics.Precision()\n",
        "        self.recall = tf.keras.metrics.Recall()\n",
        "\n",
        "    def update_state(self, y_true, y_pred, sample_weight=None):\n",
        "        self.precision.update_state(y_true, y_pred, sample_weight)\n",
        "        self.recall.update_state(y_true, y_pred, sample_weight)\n",
        "\n",
        "    def result(self):\n",
        "        p = self.precision.result()\n",
        "        r = self.recall.result()\n",
        "        return 2 * ((p * r) / (p + r + tf.keras.backend.epsilon()))\n",
        "\n",
        "    def reset_states(self):\n",
        "        self.precision.reset_states()\n",
        "        self.recall.reset_states()\n",
        "\n",
        "model.compile(\n",
        "    optimizer=optimizers.Adam(learning_rate=1e-4),\n",
        "    loss='binary_crossentropy',\n",
        "    metrics=['accuracy',\n",
        "             tf.keras.metrics.Precision(name='precision'),\n",
        "             tf.keras.metrics.Recall(name='recall'),\n",
        "             tf.keras.metrics.AUC(name='auc'),\n",
        "             F1Score(name='f1_score')],\n",
        ")"
      ]
    },
    {
      "cell_type": "code",
      "execution_count": null,
      "metadata": {
        "id": "fn2FgKTD5HBF"
      },
      "outputs": [],
      "source": [
        "# 4. Callbacks\n",
        "checkpoint_path = '/content/drive/MyDrive/vgg16_finetune/checkpoint.h5'\n",
        "os.makedirs(os.path.dirname(checkpoint_path), exist_ok=True)\n",
        "checkpoint_cb = callbacks.ModelCheckpoint(\n",
        "    filepath=checkpoint_path,\n",
        "    monitor='val_auc',\n",
        "    mode='max',\n",
        "    save_best_only=True,\n",
        "    verbose=1\n",
        ")\n",
        "earlystop_cb = callbacks.EarlyStopping(\n",
        "    monitor='val_loss',\n",
        "    patience=5,\n",
        "    restore_best_weights=True,\n",
        "    verbose=1\n",
        ")"
      ]
    },
    {
      "cell_type": "code",
      "execution_count": null,
      "metadata": {
        "colab": {
          "background_save": true,
          "base_uri": "https://localhost:8080/",
          "height": 1000
        },
        "id": "ouTlFtVS5HCq",
        "outputId": "639fd19b-bd86-4611-8b72-95831abe9799"
      },
      "outputs": [
        {
          "name": "stderr",
          "output_type": "stream",
          "text": [
            "/usr/local/lib/python3.11/dist-packages/keras/src/trainers/data_adapters/py_dataset_adapter.py:121: UserWarning: Your `PyDataset` class should call `super().__init__(**kwargs)` in its constructor. `**kwargs` can include `workers`, `use_multiprocessing`, `max_queue_size`. Do not pass these arguments to `fit()`, as they will be ignored.\n",
            "  self._warn_if_super_not_called()\n"
          ]
        },
        {
          "name": "stdout",
          "output_type": "stream",
          "text": [
            "Epoch 1/20\n",
            "\u001b[1m419/419\u001b[0m \u001b[32m━━━━━━━━━━━━━━━━━━━━\u001b[0m\u001b[37m\u001b[0m \u001b[1m0s\u001b[0m 645ms/step - accuracy: 0.6276 - auc: 0.6756 - f1_score: 0.6418 - loss: 2.7115 - precision: 0.6202 - recall: 0.6651\n",
            "Epoch 1: val_auc improved from -inf to 0.94769, saving model to /content/drive/MyDrive/vgg16_finetune/checkpoint.h5\n"
          ]
        },
        {
          "name": "stderr",
          "output_type": "stream",
          "text": [
            "WARNING:absl:You are saving your model as an HDF5 file via `model.save()` or `keras.saving.save_model(model)`. This file format is considered legacy. We recommend using instead the native Keras format, e.g. `model.save('my_model.keras')` or `keras.saving.save_model(model, 'my_model.keras')`. \n"
          ]
        },
        {
          "name": "stdout",
          "output_type": "stream",
          "text": [
            "\u001b[1m419/419\u001b[0m \u001b[32m━━━━━━━━━━━━━━━━━━━━\u001b[0m\u001b[37m\u001b[0m \u001b[1m334s\u001b[0m 749ms/step - accuracy: 0.6278 - auc: 0.6759 - f1_score: 0.6420 - loss: 2.7110 - precision: 0.6203 - recall: 0.6653 - val_accuracy: 0.8845 - val_auc: 0.9477 - val_f1_score: 0.8867 - val_loss: 2.0359 - val_precision: 0.8684 - val_recall: 0.9058\n",
            "Epoch 2/20\n",
            "\u001b[1m419/419\u001b[0m \u001b[32m━━━━━━━━━━━━━━━━━━━━\u001b[0m\u001b[37m\u001b[0m \u001b[1m0s\u001b[0m 629ms/step - accuracy: 0.8256 - auc: 0.9059 - f1_score: 0.8301 - loss: 2.0239 - precision: 0.8136 - recall: 0.8473\n",
            "Epoch 2: val_auc improved from 0.94769 to 0.96694, saving model to /content/drive/MyDrive/vgg16_finetune/checkpoint.h5\n"
          ]
        },
        {
          "name": "stderr",
          "output_type": "stream",
          "text": [
            "WARNING:absl:You are saving your model as an HDF5 file via `model.save()` or `keras.saving.save_model(model)`. This file format is considered legacy. We recommend using instead the native Keras format, e.g. `model.save('my_model.keras')` or `keras.saving.save_model(model, 'my_model.keras')`. \n"
          ]
        },
        {
          "name": "stdout",
          "output_type": "stream",
          "text": [
            "\u001b[1m419/419\u001b[0m \u001b[32m━━━━━━━━━━━━━━━━━━━━\u001b[0m\u001b[37m\u001b[0m \u001b[1m346s\u001b[0m 701ms/step - accuracy: 0.8256 - auc: 0.9059 - f1_score: 0.8301 - loss: 2.0237 - precision: 0.8136 - recall: 0.8473 - val_accuracy: 0.9060 - val_auc: 0.9669 - val_f1_score: 0.9067 - val_loss: 1.6633 - val_precision: 0.8983 - val_recall: 0.9152\n",
            "Epoch 3/20\n",
            "\u001b[1m419/419\u001b[0m \u001b[32m━━━━━━━━━━━━━━━━━━━━\u001b[0m\u001b[37m\u001b[0m \u001b[1m0s\u001b[0m 627ms/step - accuracy: 0.8618 - auc: 0.9379 - f1_score: 0.8629 - loss: 1.6613 - precision: 0.8575 - recall: 0.8686\n",
            "Epoch 3: val_auc improved from 0.96694 to 0.97114, saving model to /content/drive/MyDrive/vgg16_finetune/checkpoint.h5\n"
          ]
        },
        {
          "name": "stderr",
          "output_type": "stream",
          "text": [
            "WARNING:absl:You are saving your model as an HDF5 file via `model.save()` or `keras.saving.save_model(model)`. This file format is considered legacy. We recommend using instead the native Keras format, e.g. `model.save('my_model.keras')` or `keras.saving.save_model(model, 'my_model.keras')`. \n"
          ]
        },
        {
          "name": "stdout",
          "output_type": "stream",
          "text": [
            "\u001b[1m419/419\u001b[0m \u001b[32m━━━━━━━━━━━━━━━━━━━━\u001b[0m\u001b[37m\u001b[0m \u001b[1m321s\u001b[0m 700ms/step - accuracy: 0.8619 - auc: 0.9379 - f1_score: 0.8629 - loss: 1.6611 - precision: 0.8575 - recall: 0.8686 - val_accuracy: 0.9187 - val_auc: 0.9711 - val_f1_score: 0.9183 - val_loss: 1.3988 - val_precision: 0.9214 - val_recall: 0.9152\n",
            "Epoch 4/20\n",
            "\u001b[1m419/419\u001b[0m \u001b[32m━━━━━━━━━━━━━━━━━━━━\u001b[0m\u001b[37m\u001b[0m \u001b[1m0s\u001b[0m 631ms/step - accuracy: 0.8780 - auc: 0.9507 - f1_score: 0.8797 - loss: 1.3994 - precision: 0.8705 - recall: 0.8892\n",
            "Epoch 4: val_auc improved from 0.97114 to 0.97284, saving model to /content/drive/MyDrive/vgg16_finetune/checkpoint.h5\n"
          ]
        },
        {
          "name": "stderr",
          "output_type": "stream",
          "text": [
            "WARNING:absl:You are saving your model as an HDF5 file via `model.save()` or `keras.saving.save_model(model)`. This file format is considered legacy. We recommend using instead the native Keras format, e.g. `model.save('my_model.keras')` or `keras.saving.save_model(model, 'my_model.keras')`. \n"
          ]
        },
        {
          "name": "stdout",
          "output_type": "stream",
          "text": [
            "\u001b[1m419/419\u001b[0m \u001b[32m━━━━━━━━━━━━━━━━━━━━\u001b[0m\u001b[37m\u001b[0m \u001b[1m323s\u001b[0m 702ms/step - accuracy: 0.8780 - auc: 0.9507 - f1_score: 0.8797 - loss: 1.3993 - precision: 0.8705 - recall: 0.8892 - val_accuracy: 0.9161 - val_auc: 0.9728 - val_f1_score: 0.9154 - val_loss: 1.1981 - val_precision: 0.9210 - val_recall: 0.9098\n",
            "Epoch 5/20\n",
            "\u001b[1m419/419\u001b[0m \u001b[32m━━━━━━━━━━━━━━━━━━━━\u001b[0m\u001b[37m\u001b[0m \u001b[1m0s\u001b[0m 635ms/step - accuracy: 0.8905 - auc: 0.9589 - f1_score: 0.8911 - loss: 1.1959 - precision: 0.8826 - recall: 0.9000\n",
            "Epoch 5: val_auc did not improve from 0.97284\n",
            "\u001b[1m419/419\u001b[0m \u001b[32m━━━━━━━━━━━━━━━━━━━━\u001b[0m\u001b[37m\u001b[0m \u001b[1m323s\u001b[0m 704ms/step - accuracy: 0.8905 - auc: 0.9589 - f1_score: 0.8911 - loss: 1.1958 - precision: 0.8826 - recall: 0.9000 - val_accuracy: 0.9174 - val_auc: 0.9718 - val_f1_score: 0.9167 - val_loss: 1.0474 - val_precision: 0.9223 - val_recall: 0.9112\n",
            "Epoch 6/20\n",
            "\u001b[1m419/419\u001b[0m \u001b[32m━━━━━━━━━━━━━━━━━━━━\u001b[0m\u001b[37m\u001b[0m \u001b[1m0s\u001b[0m 624ms/step - accuracy: 0.9010 - auc: 0.9656 - f1_score: 0.9012 - loss: 1.0338 - precision: 0.8960 - recall: 0.9065\n",
            "Epoch 6: val_auc improved from 0.97284 to 0.97323, saving model to /content/drive/MyDrive/vgg16_finetune/checkpoint.h5\n"
          ]
        },
        {
          "name": "stderr",
          "output_type": "stream",
          "text": [
            "WARNING:absl:You are saving your model as an HDF5 file via `model.save()` or `keras.saving.save_model(model)`. This file format is considered legacy. We recommend using instead the native Keras format, e.g. `model.save('my_model.keras')` or `keras.saving.save_model(model, 'my_model.keras')`. \n"
          ]
        },
        {
          "name": "stdout",
          "output_type": "stream",
          "text": [
            "\u001b[1m419/419\u001b[0m \u001b[32m━━━━━━━━━━━━━━━━━━━━\u001b[0m\u001b[37m\u001b[0m \u001b[1m291s\u001b[0m 695ms/step - accuracy: 0.9009 - auc: 0.9656 - f1_score: 0.9012 - loss: 1.0337 - precision: 0.8960 - recall: 0.9065 - val_accuracy: 0.9275 - val_auc: 0.9732 - val_f1_score: 0.9267 - val_loss: 0.9129 - val_precision: 0.9343 - val_recall: 0.9192\n",
            "Epoch 7/20\n",
            "\u001b[1m419/419\u001b[0m \u001b[32m━━━━━━━━━━━━━━━━━━━━\u001b[0m\u001b[37m\u001b[0m \u001b[1m0s\u001b[0m 625ms/step - accuracy: 0.9075 - auc: 0.9687 - f1_score: 0.9098 - loss: 0.9080 - precision: 0.9013 - recall: 0.9185\n",
            "Epoch 7: val_auc improved from 0.97323 to 0.97817, saving model to /content/drive/MyDrive/vgg16_finetune/checkpoint.h5\n"
          ]
        },
        {
          "name": "stderr",
          "output_type": "stream",
          "text": [
            "WARNING:absl:You are saving your model as an HDF5 file via `model.save()` or `keras.saving.save_model(model)`. This file format is considered legacy. We recommend using instead the native Keras format, e.g. `model.save('my_model.keras')` or `keras.saving.save_model(model, 'my_model.keras')`. \n"
          ]
        },
        {
          "name": "stdout",
          "output_type": "stream",
          "text": [
            "\u001b[1m419/419\u001b[0m \u001b[32m━━━━━━━━━━━━━━━━━━━━\u001b[0m\u001b[37m\u001b[0m \u001b[1m292s\u001b[0m 696ms/step - accuracy: 0.9075 - auc: 0.9687 - f1_score: 0.9098 - loss: 0.9079 - precision: 0.9013 - recall: 0.9185 - val_accuracy: 0.9161 - val_auc: 0.9782 - val_f1_score: 0.9159 - val_loss: 0.8003 - val_precision: 0.9153 - val_recall: 0.9166\n",
            "Epoch 8/20\n",
            "\u001b[1m419/419\u001b[0m \u001b[32m━━━━━━━━━━━━━━━━━━━━\u001b[0m\u001b[37m\u001b[0m \u001b[1m0s\u001b[0m 624ms/step - accuracy: 0.9133 - auc: 0.9702 - f1_score: 0.9133 - loss: 0.8072 - precision: 0.9085 - recall: 0.9181\n",
            "Epoch 8: val_auc improved from 0.97817 to 0.98151, saving model to /content/drive/MyDrive/vgg16_finetune/checkpoint.h5\n"
          ]
        },
        {
          "name": "stderr",
          "output_type": "stream",
          "text": [
            "WARNING:absl:You are saving your model as an HDF5 file via `model.save()` or `keras.saving.save_model(model)`. This file format is considered legacy. We recommend using instead the native Keras format, e.g. `model.save('my_model.keras')` or `keras.saving.save_model(model, 'my_model.keras')`. \n"
          ]
        },
        {
          "name": "stdout",
          "output_type": "stream",
          "text": [
            "\u001b[1m419/419\u001b[0m \u001b[32m━━━━━━━━━━━━━━━━━━━━\u001b[0m\u001b[37m\u001b[0m \u001b[1m321s\u001b[0m 694ms/step - accuracy: 0.9133 - auc: 0.9702 - f1_score: 0.9133 - loss: 0.8071 - precision: 0.9085 - recall: 0.9181 - val_accuracy: 0.9302 - val_auc: 0.9815 - val_f1_score: 0.9292 - val_loss: 0.7119 - val_precision: 0.9407 - val_recall: 0.9179\n",
            "Epoch 9/20\n",
            "\u001b[1m419/419\u001b[0m \u001b[32m━━━━━━━━━━━━━━━━━━━━\u001b[0m\u001b[37m\u001b[0m \u001b[1m0s\u001b[0m 644ms/step - accuracy: 0.9155 - auc: 0.9738 - f1_score: 0.9152 - loss: 0.7218 - precision: 0.9147 - recall: 0.9158\n",
            "Epoch 9: val_auc did not improve from 0.98151\n",
            "\u001b[1m419/419\u001b[0m \u001b[32m━━━━━━━━━━━━━━━━━━━━\u001b[0m\u001b[37m\u001b[0m \u001b[1m342s\u001b[0m 743ms/step - accuracy: 0.9155 - auc: 0.9738 - f1_score: 0.9152 - loss: 0.7218 - precision: 0.9147 - recall: 0.9158 - val_accuracy: 0.9396 - val_auc: 0.9815 - val_f1_score: 0.9382 - val_loss: 0.6474 - val_precision: 0.9579 - val_recall: 0.9192\n",
            "Epoch 10/20\n",
            "\u001b[1m419/419\u001b[0m \u001b[32m━━━━━━━━━━━━━━━━━━━━\u001b[0m\u001b[37m\u001b[0m \u001b[1m0s\u001b[0m 650ms/step - accuracy: 0.9221 - auc: 0.9777 - f1_score: 0.9229 - loss: 0.6496 - precision: 0.9217 - recall: 0.9242\n",
            "Epoch 10: val_auc improved from 0.98151 to 0.98158, saving model to /content/drive/MyDrive/vgg16_finetune/checkpoint.h5\n"
          ]
        },
        {
          "name": "stderr",
          "output_type": "stream",
          "text": [
            "WARNING:absl:You are saving your model as an HDF5 file via `model.save()` or `keras.saving.save_model(model)`. This file format is considered legacy. We recommend using instead the native Keras format, e.g. `model.save('my_model.keras')` or `keras.saving.save_model(model, 'my_model.keras')`. \n"
          ]
        },
        {
          "name": "stdout",
          "output_type": "stream",
          "text": [
            "\u001b[1m419/419\u001b[0m \u001b[32m━━━━━━━━━━━━━━━━━━━━\u001b[0m\u001b[37m\u001b[0m \u001b[1m303s\u001b[0m 721ms/step - accuracy: 0.9221 - auc: 0.9777 - f1_score: 0.9229 - loss: 0.6496 - precision: 0.9217 - recall: 0.9242 - val_accuracy: 0.9342 - val_auc: 0.9816 - val_f1_score: 0.9332 - val_loss: 0.5906 - val_precision: 0.9461 - val_recall: 0.9206\n",
            "Epoch 11/20\n",
            "\u001b[1m419/419\u001b[0m \u001b[32m━━━━━━━━━━━━━━━━━━━━\u001b[0m\u001b[37m\u001b[0m \u001b[1m0s\u001b[0m 642ms/step - accuracy: 0.9220 - auc: 0.9774 - f1_score: 0.9222 - loss: 0.5984 - precision: 0.9203 - recall: 0.9242\n",
            "Epoch 11: val_auc improved from 0.98158 to 0.98488, saving model to /content/drive/MyDrive/vgg16_finetune/checkpoint.h5\n"
          ]
        },
        {
          "name": "stderr",
          "output_type": "stream",
          "text": [
            "WARNING:absl:You are saving your model as an HDF5 file via `model.save()` or `keras.saving.save_model(model)`. This file format is considered legacy. We recommend using instead the native Keras format, e.g. `model.save('my_model.keras')` or `keras.saving.save_model(model, 'my_model.keras')`. \n"
          ]
        },
        {
          "name": "stdout",
          "output_type": "stream",
          "text": [
            "\u001b[1m419/419\u001b[0m \u001b[32m━━━━━━━━━━━━━━━━━━━━\u001b[0m\u001b[37m\u001b[0m \u001b[1m300s\u001b[0m 715ms/step - accuracy: 0.9221 - auc: 0.9774 - f1_score: 0.9222 - loss: 0.5984 - precision: 0.9203 - recall: 0.9242 - val_accuracy: 0.9436 - val_auc: 0.9849 - val_f1_score: 0.9421 - val_loss: 0.5425 - val_precision: 0.9661 - val_recall: 0.9192\n",
            "Epoch 12/20\n",
            "\u001b[1m419/419\u001b[0m \u001b[32m━━━━━━━━━━━━━━━━━━━━\u001b[0m\u001b[37m\u001b[0m \u001b[1m0s\u001b[0m 644ms/step - accuracy: 0.9292 - auc: 0.9806 - f1_score: 0.9289 - loss: 0.5478 - precision: 0.9269 - recall: 0.9310\n",
            "Epoch 12: val_auc did not improve from 0.98488\n",
            "\u001b[1m419/419\u001b[0m \u001b[32m━━━━━━━━━━━━━━━━━━━━\u001b[0m\u001b[37m\u001b[0m \u001b[1m321s\u001b[0m 714ms/step - accuracy: 0.9292 - auc: 0.9806 - f1_score: 0.9290 - loss: 0.5477 - precision: 0.9269 - recall: 0.9310 - val_accuracy: 0.9275 - val_auc: 0.9796 - val_f1_score: 0.9264 - val_loss: 0.5172 - val_precision: 0.9379 - val_recall: 0.9152\n",
            "Epoch 13/20\n",
            "\u001b[1m419/419\u001b[0m \u001b[32m━━━━━━━━━━━━━━━━━━━━\u001b[0m\u001b[37m\u001b[0m \u001b[1m0s\u001b[0m 633ms/step - accuracy: 0.9374 - auc: 0.9846 - f1_score: 0.9376 - loss: 0.5026 - precision: 0.9342 - recall: 0.9412\n",
            "Epoch 13: val_auc improved from 0.98488 to 0.98566, saving model to /content/drive/MyDrive/vgg16_finetune/checkpoint.h5\n"
          ]
        },
        {
          "name": "stderr",
          "output_type": "stream",
          "text": [
            "WARNING:absl:You are saving your model as an HDF5 file via `model.save()` or `keras.saving.save_model(model)`. This file format is considered legacy. We recommend using instead the native Keras format, e.g. `model.save('my_model.keras')` or `keras.saving.save_model(model, 'my_model.keras')`. \n"
          ]
        },
        {
          "name": "stdout",
          "output_type": "stream",
          "text": [
            "\u001b[1m419/419\u001b[0m \u001b[32m━━━━━━━━━━━━━━━━━━━━\u001b[0m\u001b[37m\u001b[0m \u001b[1m296s\u001b[0m 706ms/step - accuracy: 0.9374 - auc: 0.9846 - f1_score: 0.9376 - loss: 0.5026 - precision: 0.9342 - recall: 0.9412 - val_accuracy: 0.9422 - val_auc: 0.9857 - val_f1_score: 0.9413 - val_loss: 0.4715 - val_precision: 0.9544 - val_recall: 0.9287\n",
            "Epoch 14/20\n",
            "\u001b[1m419/419\u001b[0m \u001b[32m━━━━━━━━━━━━━━━━━━━━\u001b[0m\u001b[37m\u001b[0m \u001b[1m0s\u001b[0m 634ms/step - accuracy: 0.9400 - auc: 0.9859 - f1_score: 0.9403 - loss: 0.4692 - precision: 0.9441 - recall: 0.9366\n",
            "Epoch 14: val_auc did not improve from 0.98566\n",
            "\u001b[1m419/419\u001b[0m \u001b[32m━━━━━━━━━━━━━━━━━━━━\u001b[0m\u001b[37m\u001b[0m \u001b[1m320s\u001b[0m 703ms/step - accuracy: 0.9400 - auc: 0.9859 - f1_score: 0.9403 - loss: 0.4692 - precision: 0.9441 - recall: 0.9366 - val_accuracy: 0.9234 - val_auc: 0.9756 - val_f1_score: 0.9205 - val_loss: 0.4770 - val_precision: 0.9551 - val_recall: 0.8883\n",
            "Epoch 15/20\n",
            "\u001b[1m419/419\u001b[0m \u001b[32m━━━━━━━━━━━━━━━━━━━━\u001b[0m\u001b[37m\u001b[0m \u001b[1m0s\u001b[0m 645ms/step - accuracy: 0.9372 - auc: 0.9839 - f1_score: 0.9372 - loss: 0.4508 - precision: 0.9343 - recall: 0.9401\n",
            "Epoch 15: val_auc did not improve from 0.98566\n",
            "\u001b[1m419/419\u001b[0m \u001b[32m━━━━━━━━━━━━━━━━━━━━\u001b[0m\u001b[37m\u001b[0m \u001b[1m311s\u001b[0m 743ms/step - accuracy: 0.9373 - auc: 0.9839 - f1_score: 0.9372 - loss: 0.4507 - precision: 0.9343 - recall: 0.9401 - val_accuracy: 0.9402 - val_auc: 0.9752 - val_f1_score: 0.9389 - val_loss: 0.4497 - val_precision: 0.9580 - val_recall: 0.9206\n",
            "Epoch 16/20\n",
            "\u001b[1m419/419\u001b[0m \u001b[32m━━━━━━━━━━━━━━━━━━━━\u001b[0m\u001b[37m\u001b[0m \u001b[1m0s\u001b[0m 641ms/step - accuracy: 0.9390 - auc: 0.9852 - f1_score: 0.9395 - loss: 0.4295 - precision: 0.9394 - recall: 0.9398\n",
            "Epoch 16: val_auc did not improve from 0.98566\n",
            "\u001b[1m419/419\u001b[0m \u001b[32m━━━━━━━━━━━━━━━━━━━━\u001b[0m\u001b[37m\u001b[0m \u001b[1m310s\u001b[0m 739ms/step - accuracy: 0.9390 - auc: 0.9852 - f1_score: 0.9395 - loss: 0.4295 - precision: 0.9394 - recall: 0.9398 - val_accuracy: 0.9335 - val_auc: 0.9764 - val_f1_score: 0.9316 - val_loss: 0.4341 - val_precision: 0.9574 - val_recall: 0.9071\n",
            "Epoch 17/20\n",
            "\u001b[1m419/419\u001b[0m \u001b[32m━━━━━━━━━━━━━━━━━━━━\u001b[0m\u001b[37m\u001b[0m \u001b[1m0s\u001b[0m 633ms/step - accuracy: 0.9394 - auc: 0.9861 - f1_score: 0.9384 - loss: 0.4113 - precision: 0.9329 - recall: 0.9440\n",
            "Epoch 17: val_auc did not improve from 0.98566\n",
            "\u001b[1m419/419\u001b[0m \u001b[32m━━━━━━━━━━━━━━━━━━━━\u001b[0m\u001b[37m\u001b[0m \u001b[1m307s\u001b[0m 702ms/step - accuracy: 0.9394 - auc: 0.9861 - f1_score: 0.9384 - loss: 0.4113 - precision: 0.9329 - recall: 0.9440 - val_accuracy: 0.9248 - val_auc: 0.9816 - val_f1_score: 0.9216 - val_loss: 0.4150 - val_precision: 0.9606 - val_recall: 0.8856\n",
            "Epoch 18/20\n",
            "\u001b[1m419/419\u001b[0m \u001b[32m━━━━━━━━━━━━━━━━━━━━\u001b[0m\u001b[37m\u001b[0m \u001b[1m0s\u001b[0m 643ms/step - accuracy: 0.9469 - auc: 0.9885 - f1_score: 0.9470 - loss: 0.3907 - precision: 0.9428 - recall: 0.9513\n",
            "Epoch 18: val_auc improved from 0.98566 to 0.98622, saving model to /content/drive/MyDrive/vgg16_finetune/checkpoint.h5\n"
          ]
        },
        {
          "name": "stderr",
          "output_type": "stream",
          "text": [
            "WARNING:absl:You are saving your model as an HDF5 file via `model.save()` or `keras.saving.save_model(model)`. This file format is considered legacy. We recommend using instead the native Keras format, e.g. `model.save('my_model.keras')` or `keras.saving.save_model(model, 'my_model.keras')`. \n"
          ]
        },
        {
          "name": "stdout",
          "output_type": "stream",
          "text": [
            "\u001b[1m419/419\u001b[0m \u001b[32m━━━━━━━━━━━━━━━━━━━━\u001b[0m\u001b[37m\u001b[0m \u001b[1m327s\u001b[0m 715ms/step - accuracy: 0.9469 - auc: 0.9885 - f1_score: 0.9470 - loss: 0.3907 - precision: 0.9428 - recall: 0.9513 - val_accuracy: 0.9422 - val_auc: 0.9862 - val_f1_score: 0.9409 - val_loss: 0.3899 - val_precision: 0.9607 - val_recall: 0.9219\n",
            "Epoch 19/20\n",
            "\u001b[1m419/419\u001b[0m \u001b[32m━━━━━━━━━━━━━━━━━━━━\u001b[0m\u001b[37m\u001b[0m \u001b[1m0s\u001b[0m 641ms/step - accuracy: 0.9495 - auc: 0.9891 - f1_score: 0.9494 - loss: 0.3783 - precision: 0.9487 - recall: 0.9503\n",
            "Epoch 19: val_auc did not improve from 0.98622\n",
            "\u001b[1m419/419\u001b[0m \u001b[32m━━━━━━━━━━━━━━━━━━━━\u001b[0m\u001b[37m\u001b[0m \u001b[1m298s\u001b[0m 711ms/step - accuracy: 0.9495 - auc: 0.9891 - f1_score: 0.9494 - loss: 0.3783 - precision: 0.9487 - recall: 0.9503 - val_accuracy: 0.9322 - val_auc: 0.9853 - val_f1_score: 0.9308 - val_loss: 0.3861 - val_precision: 0.9483 - val_recall: 0.9139\n",
            "Epoch 20/20\n",
            "\u001b[1m419/419\u001b[0m \u001b[32m━━━━━━━━━━━━━━━━━━━━\u001b[0m\u001b[37m\u001b[0m \u001b[1m0s\u001b[0m 642ms/step - accuracy: 0.9484 - auc: 0.9892 - f1_score: 0.9487 - loss: 0.3679 - precision: 0.9486 - recall: 0.9490\n",
            "Epoch 20: val_auc did not improve from 0.98622\n",
            "\u001b[1m419/419\u001b[0m \u001b[32m━━━━━━━━━━━━━━━━━━━━\u001b[0m\u001b[37m\u001b[0m \u001b[1m298s\u001b[0m 712ms/step - accuracy: 0.9484 - auc: 0.9892 - f1_score: 0.9488 - loss: 0.3679 - precision: 0.9486 - recall: 0.9490 - val_accuracy: 0.9335 - val_auc: 0.9820 - val_f1_score: 0.9312 - val_loss: 0.3884 - val_precision: 0.9626 - val_recall: 0.9017\n",
            "Restoring model weights from the end of the best epoch: 19.\n"
          ]
        },
        {
          "data": {
            "application/vnd.google.colaboratory.intrinsic+json": {
              "type": "string"
            },
            "text/plain": [
              "'\\nloss, acc = model.evaluate(test_generator, steps=len(test_generator))\\nprint(f\"Test accuracy: {acc:.3f}\")'"
            ]
          },
          "execution_count": 13,
          "metadata": {},
          "output_type": "execute_result"
        }
      ],
      "source": [
        "history = model.fit(\n",
        "    train_generator,\n",
        "    epochs=20,\n",
        "    steps_per_epoch=len(train_generator),\n",
        "    validation_data=validation_generator,\n",
        "    validation_steps=len(validation_generator),\n",
        "    callbacks=[checkpoint_cb, earlystop_cb]\n",
        ")\n",
        "\n",
        "# And after training:\n",
        "loss, acc = model.evaluate(test_generator, steps=len(test_generator))\n",
        "print(f\"Test accuracy: {acc:.3f}\")\n"
      ]
    },
    {
      "cell_type": "code",
      "execution_count": null,
      "metadata": {
        "colab": {
          "background_save": true,
          "base_uri": "https://localhost:8080/"
        },
        "id": "nWhPBkmf5HGn",
        "outputId": "60231baa-80da-420c-855c-32aa3765dbe4"
      },
      "outputs": [
        {
          "name": "stdout",
          "output_type": "stream",
          "text": [
            "\u001b[1m52/52\u001b[0m \u001b[32m━━━━━━━━━━━━━━━━━━━━\u001b[0m\u001b[37m\u001b[0m \u001b[1m22s\u001b[0m 426ms/step - accuracy: 0.9944 - auc: 0.5283 - f1_score: 0.5193 - loss: 0.2984 - precision: 0.5164 - recall: 0.5240\n",
            "['loss', 'compile_metrics']\n",
            "Test → loss: 0.2976\n",
            "       accuracy: 0.996\n",
            "       precision: 0.998\n",
            "       recall: 0.995\n",
            "       AUC: 1.000\n",
            "       F1‑score: 0.996\n"
          ]
        }
      ],
      "source": [
        "results = model.evaluate(\n",
        "    test_generator,\n",
        "    steps=len(test_generator),\n",
        "    verbose=1\n",
        ")\n",
        "\n",
        "# See in what order they come back:\n",
        "print(model.metrics_names)\n",
        "# e.g. ['loss', 'accuracy', 'precision', 'recall', 'auc', 'f1_score']\n",
        "\n",
        "loss, accuracy, precision, recall, auc, f1_score = results\n",
        "\n",
        "print(f\"Test → loss: {loss:.4f}\")\n",
        "print(f\"       accuracy: {accuracy:.3f}\")\n",
        "print(f\"       precision: {precision:.3f}\")\n",
        "print(f\"       recall: {recall:.3f}\")\n",
        "print(f\"       AUC: {auc:.3f}\")\n",
        "print(f\"       F1‑score: {f1_score:.3f}\")\n"
      ]
    },
    {
      "cell_type": "code",
      "execution_count": null,
      "metadata": {
        "colab": {
          "background_save": true,
          "base_uri": "https://localhost:8080/"
        },
        "id": "MaHWmQATlJAP",
        "outputId": "d57b7134-8e7c-45ed-9864-ef851ff376ee"
      },
      "outputs": [
        {
          "name": "stdout",
          "output_type": "stream",
          "text": [
            "\u001b[1m52/52\u001b[0m \u001b[32m━━━━━━━━━━━━━━━━━━━━\u001b[0m\u001b[37m\u001b[0m \u001b[1m13s\u001b[0m 236ms/step\n",
            "              precision    recall  f1-score   support\n",
            "\n",
            "   generated       1.00      1.00      1.00       829\n",
            "    original       1.00      1.00      1.00       827\n",
            "\n",
            "    accuracy                           1.00      1656\n",
            "   macro avg       1.00      1.00      1.00      1656\n",
            "weighted avg       1.00      1.00      1.00      1656\n",
            "\n",
            "Confusion Matrix:\n",
            " [[827   2]\n",
            " [  4 823]]\n"
          ]
        }
      ],
      "source": [
        "import numpy as np\n",
        "from sklearn.metrics import classification_report, confusion_matrix\n",
        "\n",
        "# 1) Predict probabilities or logits\n",
        "y_prob = model.predict(test_generator, steps=len(test_generator))\n",
        "# 2) Convert to binary labels (threshold=0.5 by default)\n",
        "y_pred = (y_prob > 0.5).astype(int).flatten()\n",
        "\n",
        "# 3) True labels\n",
        "y_true = test_generator.classes  # assuming ImageDataGenerator.flow_from_directory\n",
        "\n",
        "# 4) Classification report & confusion matrix\n",
        "print(classification_report(y_true, y_pred, target_names=test_generator.class_indices.keys()))\n",
        "cm = confusion_matrix(y_true, y_pred)\n",
        "print(\"Confusion Matrix:\\n\", cm)\n"
      ]
    },
    {
      "cell_type": "code",
      "execution_count": null,
      "metadata": {
        "colab": {
          "base_uri": "https://localhost:8080/",
          "height": 489
        },
        "id": "QkdMiN6-rhE4",
        "outputId": "cad56714-10dc-442a-ff3f-cf9241406243"
      },
      "outputs": [
        {
          "name": "stdout",
          "output_type": "stream",
          "text": [
            "\u001b[1m15/15\u001b[0m \u001b[32m━━━━━━━━━━━━━━━━━━━━\u001b[0m\u001b[37m\u001b[0m \u001b[1m7s\u001b[0m 403ms/step\n"
          ]
        },
        {
          "data": {
            "image/png": "[encoded data removed]",
            "text/plain": [
              "<Figure size 640x480 with 1 Axes>"
            ]
          },
          "metadata": {},
          "output_type": "display_data"
        }
      ],
      "source": [
        "from sklearn.metrics import roc_curve, auc\n",
        "import matplotlib.pyplot as plt\n",
        "\n",
        "y_prob = model.predict(test_generator, steps=len(test_generator)).ravel()\n",
        "fpr, tpr, thresholds = roc_curve(y_true, y_prob)\n",
        "roc_auc = auc(fpr, tpr)\n",
        "\n",
        "plt.figure()\n",
        "plt.plot(fpr, tpr, label=f'ROC (area = {roc_auc:.2f})')\n",
        "plt.plot([0,1],[0,1],'--')\n",
        "plt.xlabel('False Positive Rate')\n",
        "plt.ylabel('True Positive Rate')\n",
        "plt.title('Receiver Operating Characteristic')\n",
        "plt.legend(loc='lower right')\n",
        "plt.show()\n"
      ]
    },
    {
      "cell_type": "code",
      "execution_count": null,
      "metadata": {
        "id": "gLrVkEIgrnof"
      },
      "outputs": [],
      "source": []
    }
  ],
  "metadata": {
    "accelerator": "GPU",
    "colab": {
      "gpuType": "T4",
      "provenance": []
    },
    "kernelspec": {
      "display_name": "Python 3",
      "name": "python3"
    },
    "language_info": {
      "name": "python"
    }
  },
  "nbformat": 4,
  "nbformat_minor": 0
}